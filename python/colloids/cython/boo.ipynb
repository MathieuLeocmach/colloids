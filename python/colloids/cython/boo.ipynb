{
 "cells": [
  {
   "cell_type": "code",
   "execution_count": 147,
   "metadata": {
    "collapsed": false
   },
   "outputs": [
    {
     "name": "stdout",
     "output_type": "stream",
     "text": [
      "The Cython extension is already loaded. To reload it, use:\n",
      "  %reload_ext Cython\n"
     ]
    }
   ],
   "source": [
    "import os, os.path\n",
    "import numpy as np\n",
    "from matplotlib import pyplot as plt\n",
    "%matplotlib inline\n",
    "from scipy.special import sph_harm\n",
    "import weave\n",
    "from weave import converters\n",
    "from numba import jit\n",
    "import numexpr\n",
    "%load_ext Cython"
   ]
  },
  {
   "cell_type": "code",
   "execution_count": 2,
   "metadata": {
    "collapsed": true
   },
   "outputs": [],
   "source": [
    "from colloids import boo, particles, periodic"
   ]
  },
  {
   "cell_type": "code",
   "execution_count": 3,
   "metadata": {
    "collapsed": false
   },
   "outputs": [],
   "source": [
    "path = '/data/mleocmach/Documents/Tsurusawa/0_Data_retracked/3_DenseGel/163A/2_ageing/'\n",
    "pos = np.loadtxt(os.path.join(path, '163A_1415_ageing_t000.dat'), skiprows=2)\n",
    "bonds = np.loadtxt(os.path.join(path, '163A_1415_ageing_t000.bonds'), dtype=int)\n",
    "inside = np.min((pos-pos.min(0)>14) & (pos.max()-pos>14), -1)\n",
    "ngbs = particles.bonds2ngbs(bonds, len(pos))"
   ]
  },
  {
   "cell_type": "code",
   "execution_count": 13,
   "metadata": {
    "collapsed": false
   },
   "outputs": [
    {
     "name": "stdout",
     "output_type": "stream",
     "text": [
      "1 loop, best of 3: 305 ms per loop\n"
     ]
    }
   ],
   "source": [
    "%timeit boo.weave_qlm(pos, ngbs, inside)"
   ]
  },
  {
   "cell_type": "code",
   "execution_count": 4,
   "metadata": {
    "collapsed": false
   },
   "outputs": [
    {
     "name": "stdout",
     "output_type": "stream",
     "text": [
      "1 loops, best of 3: 517 ms per loop\n"
     ]
    }
   ],
   "source": [
    "%timeit boo.bonds2qlm(pos, bonds)"
   ]
  },
  {
   "cell_type": "code",
   "execution_count": 22,
   "metadata": {
    "collapsed": true
   },
   "outputs": [],
   "source": [
    "import math\n",
    "def python_qlm(pos, ngbs, inside, l=6):\n",
    "    qlm = np.zeros([len(pos), l+1], np.complex128)\n",
    "    cart = np.zeros(3)\n",
    "    sph = np.zeros(3)\n",
    "    for i in range(ngbs.shape[0]):\n",
    "        if not inside[i]:\n",
    "            continue\n",
    "        nb = 0\n",
    "        for j in range(ngbs.shape[1]):\n",
    "            q = ngbs[i,j]\n",
    "            if q < 0 or q >= len(pos):\n",
    "                continue\n",
    "            nb += 1\n",
    "            cart[:] = pos[i] - pos[q]\n",
    "            sph[0] = cart[0]*cart[0] + cart[1]*cart[1] + cart[2]*cart[2]\n",
    "            if cart[2]**2 == sph[0] or sph[0]+1.0 == 1.0:\n",
    "                sph[1:] = 0\n",
    "            else:\n",
    "                sph[0] = math.sqrt(sph[0])\n",
    "                sph[1] = math.acos(cart[2]/sph[0])\n",
    "                sph[2] = math.atan2(cart[1], cart[0])\n",
    "                if sph[2] < 0:\n",
    "                    sph[2] += 2.0*math.pi\n",
    "            qlm[i] += sph_harm(\n",
    "                np.arange(l+1), l, \n",
    "                sph[2], \n",
    "                sph[1]\n",
    "                )\n",
    "        if nb>0:\n",
    "            qlm[i] /= nb\n",
    "    return qlm"
   ]
  },
  {
   "cell_type": "code",
   "execution_count": 23,
   "metadata": {
    "collapsed": false
   },
   "outputs": [
    {
     "name": "stdout",
     "output_type": "stream",
     "text": [
      "1 loop, best of 3: 4.28 s per loop\n"
     ]
    }
   ],
   "source": [
    "%timeit python_qlm(pos, ngbs, inside)"
   ]
  },
  {
   "cell_type": "code",
   "execution_count": 5,
   "metadata": {
    "collapsed": false
   },
   "outputs": [
    {
     "name": "stdout",
     "output_type": "stream",
     "text": [
      "In file included from /home/mathieu/anaconda3/envs/python2/lib/python2.7/site-packages/numpy/core/include/numpy/ndarraytypes.h:1809:0,\n",
      "                 from /home/mathieu/anaconda3/envs/python2/lib/python2.7/site-packages/numpy/core/include/numpy/ndarrayobject.h:18,\n",
      "                 from /home/mathieu/anaconda3/envs/python2/lib/python2.7/site-packages/numpy/core/include/numpy/arrayobject.h:4,\n",
      "                 from /data/mleocmach/.cache/ipython/cython/_cython_magic_dff929309038b07cc4cb4b3c6acc7e68.c:257:\n",
      "/home/mathieu/anaconda3/envs/python2/lib/python2.7/site-packages/numpy/core/include/numpy/npy_1_7_deprecated_api.h:15:2: warning: #warning \"Using deprecated NumPy API, disable it by \" \"#defining NPY_NO_DEPRECATED_API NPY_1_7_API_VERSION\" [-Wcpp]\n",
      " #warning \"Using deprecated NumPy API, disable it by \" \\\n",
      "  ^\n",
      "In file included from /home/mathieu/anaconda3/envs/python2/lib/python2.7/site-packages/numpy/core/include/numpy/ndarrayobject.h:27:0,\n",
      "                 from /home/mathieu/anaconda3/envs/python2/lib/python2.7/site-packages/numpy/core/include/numpy/arrayobject.h:4,\n",
      "                 from /data/mleocmach/.cache/ipython/cython/_cython_magic_dff929309038b07cc4cb4b3c6acc7e68.c:257:\n",
      "/home/mathieu/anaconda3/envs/python2/lib/python2.7/site-packages/numpy/core/include/numpy/__multiarray_api.h:1453:1: warning: ‘_import_array’ defined but not used [-Wunused-function]\n",
      " _import_array(void)\n",
      " ^\n"
     ]
    },
    {
     "data": {
      "text/html": [
       "<!DOCTYPE html>\n",
       "<!-- Generated by Cython 0.23.4 -->\n",
       "<html>\n",
       "<head>\n",
       "    <meta http-equiv=\"Content-Type\" content=\"text/html; charset=utf-8\" />\n",
       "    <title>Cython: _cython_magic_dff929309038b07cc4cb4b3c6acc7e68.pyx</title>\n",
       "    <style type=\"text/css\">\n",
       "    \n",
       "body.cython { font-family: courier; font-size: 12; }\n",
       "\n",
       ".cython.tag  {  }\n",
       ".cython.line { margin: 0em }\n",
       ".cython.code { font-size: 9; color: #444444; display: none; margin: 0px 0px 0px 8px; border-left: 8px none; }\n",
       "\n",
       ".cython.line .run { background-color: #B0FFB0; }\n",
       ".cython.line .mis { background-color: #FFB0B0; }\n",
       ".cython.code.run  { border-left: 8px solid #B0FFB0; }\n",
       ".cython.code.mis  { border-left: 8px solid #FFB0B0; }\n",
       "\n",
       ".cython.code .py_c_api  { color: red; }\n",
       ".cython.code .py_macro_api  { color: #FF7000; }\n",
       ".cython.code .pyx_c_api  { color: #FF3000; }\n",
       ".cython.code .pyx_macro_api  { color: #FF7000; }\n",
       ".cython.code .refnanny  { color: #FFA000; }\n",
       ".cython.code .trace  { color: #FFA000; }\n",
       ".cython.code .error_goto  { color: #FFA000; }\n",
       "\n",
       ".cython.code .coerce  { color: #008000; border: 1px dotted #008000 }\n",
       ".cython.code .py_attr { color: #FF0000; font-weight: bold; }\n",
       ".cython.code .c_attr  { color: #0000FF; }\n",
       ".cython.code .py_call { color: #FF0000; font-weight: bold; }\n",
       ".cython.code .c_call  { color: #0000FF; }\n",
       "\n",
       ".cython.score-0 {background-color: #FFFFff;}\n",
       ".cython.score-1 {background-color: #FFFFe7;}\n",
       ".cython.score-2 {background-color: #FFFFd4;}\n",
       ".cython.score-3 {background-color: #FFFFc4;}\n",
       ".cython.score-4 {background-color: #FFFFb6;}\n",
       ".cython.score-5 {background-color: #FFFFaa;}\n",
       ".cython.score-6 {background-color: #FFFF9f;}\n",
       ".cython.score-7 {background-color: #FFFF96;}\n",
       ".cython.score-8 {background-color: #FFFF8d;}\n",
       ".cython.score-9 {background-color: #FFFF86;}\n",
       ".cython.score-10 {background-color: #FFFF7f;}\n",
       ".cython.score-11 {background-color: #FFFF79;}\n",
       ".cython.score-12 {background-color: #FFFF73;}\n",
       ".cython.score-13 {background-color: #FFFF6e;}\n",
       ".cython.score-14 {background-color: #FFFF6a;}\n",
       ".cython.score-15 {background-color: #FFFF66;}\n",
       ".cython.score-16 {background-color: #FFFF62;}\n",
       ".cython.score-17 {background-color: #FFFF5e;}\n",
       ".cython.score-18 {background-color: #FFFF5b;}\n",
       ".cython.score-19 {background-color: #FFFF57;}\n",
       ".cython.score-20 {background-color: #FFFF55;}\n",
       ".cython.score-21 {background-color: #FFFF52;}\n",
       ".cython.score-22 {background-color: #FFFF4f;}\n",
       ".cython.score-23 {background-color: #FFFF4d;}\n",
       ".cython.score-24 {background-color: #FFFF4b;}\n",
       ".cython.score-25 {background-color: #FFFF48;}\n",
       ".cython.score-26 {background-color: #FFFF46;}\n",
       ".cython.score-27 {background-color: #FFFF44;}\n",
       ".cython.score-28 {background-color: #FFFF43;}\n",
       ".cython.score-29 {background-color: #FFFF41;}\n",
       ".cython.score-30 {background-color: #FFFF3f;}\n",
       ".cython.score-31 {background-color: #FFFF3e;}\n",
       ".cython.score-32 {background-color: #FFFF3c;}\n",
       ".cython.score-33 {background-color: #FFFF3b;}\n",
       ".cython.score-34 {background-color: #FFFF39;}\n",
       ".cython.score-35 {background-color: #FFFF38;}\n",
       ".cython.score-36 {background-color: #FFFF37;}\n",
       ".cython.score-37 {background-color: #FFFF36;}\n",
       ".cython.score-38 {background-color: #FFFF35;}\n",
       ".cython.score-39 {background-color: #FFFF34;}\n",
       ".cython.score-40 {background-color: #FFFF33;}\n",
       ".cython.score-41 {background-color: #FFFF32;}\n",
       ".cython.score-42 {background-color: #FFFF31;}\n",
       ".cython.score-43 {background-color: #FFFF30;}\n",
       ".cython.score-44 {background-color: #FFFF2f;}\n",
       ".cython.score-45 {background-color: #FFFF2e;}\n",
       ".cython.score-46 {background-color: #FFFF2d;}\n",
       ".cython.score-47 {background-color: #FFFF2c;}\n",
       ".cython.score-48 {background-color: #FFFF2b;}\n",
       ".cython.score-49 {background-color: #FFFF2b;}\n",
       ".cython.score-50 {background-color: #FFFF2a;}\n",
       ".cython.score-51 {background-color: #FFFF29;}\n",
       ".cython.score-52 {background-color: #FFFF29;}\n",
       ".cython.score-53 {background-color: #FFFF28;}\n",
       ".cython.score-54 {background-color: #FFFF27;}\n",
       ".cython.score-55 {background-color: #FFFF27;}\n",
       ".cython.score-56 {background-color: #FFFF26;}\n",
       ".cython.score-57 {background-color: #FFFF26;}\n",
       ".cython.score-58 {background-color: #FFFF25;}\n",
       ".cython.score-59 {background-color: #FFFF24;}\n",
       ".cython.score-60 {background-color: #FFFF24;}\n",
       ".cython.score-61 {background-color: #FFFF23;}\n",
       ".cython.score-62 {background-color: #FFFF23;}\n",
       ".cython.score-63 {background-color: #FFFF22;}\n",
       ".cython.score-64 {background-color: #FFFF22;}\n",
       ".cython.score-65 {background-color: #FFFF22;}\n",
       ".cython.score-66 {background-color: #FFFF21;}\n",
       ".cython.score-67 {background-color: #FFFF21;}\n",
       ".cython.score-68 {background-color: #FFFF20;}\n",
       ".cython.score-69 {background-color: #FFFF20;}\n",
       ".cython.score-70 {background-color: #FFFF1f;}\n",
       ".cython.score-71 {background-color: #FFFF1f;}\n",
       ".cython.score-72 {background-color: #FFFF1f;}\n",
       ".cython.score-73 {background-color: #FFFF1e;}\n",
       ".cython.score-74 {background-color: #FFFF1e;}\n",
       ".cython.score-75 {background-color: #FFFF1e;}\n",
       ".cython.score-76 {background-color: #FFFF1d;}\n",
       ".cython.score-77 {background-color: #FFFF1d;}\n",
       ".cython.score-78 {background-color: #FFFF1c;}\n",
       ".cython.score-79 {background-color: #FFFF1c;}\n",
       ".cython.score-80 {background-color: #FFFF1c;}\n",
       ".cython.score-81 {background-color: #FFFF1c;}\n",
       ".cython.score-82 {background-color: #FFFF1b;}\n",
       ".cython.score-83 {background-color: #FFFF1b;}\n",
       ".cython.score-84 {background-color: #FFFF1b;}\n",
       ".cython.score-85 {background-color: #FFFF1a;}\n",
       ".cython.score-86 {background-color: #FFFF1a;}\n",
       ".cython.score-87 {background-color: #FFFF1a;}\n",
       ".cython.score-88 {background-color: #FFFF1a;}\n",
       ".cython.score-89 {background-color: #FFFF19;}\n",
       ".cython.score-90 {background-color: #FFFF19;}\n",
       ".cython.score-91 {background-color: #FFFF19;}\n",
       ".cython.score-92 {background-color: #FFFF19;}\n",
       ".cython.score-93 {background-color: #FFFF18;}\n",
       ".cython.score-94 {background-color: #FFFF18;}\n",
       ".cython.score-95 {background-color: #FFFF18;}\n",
       ".cython.score-96 {background-color: #FFFF18;}\n",
       ".cython.score-97 {background-color: #FFFF17;}\n",
       ".cython.score-98 {background-color: #FFFF17;}\n",
       ".cython.score-99 {background-color: #FFFF17;}\n",
       ".cython.score-100 {background-color: #FFFF17;}\n",
       ".cython.score-101 {background-color: #FFFF16;}\n",
       ".cython.score-102 {background-color: #FFFF16;}\n",
       ".cython.score-103 {background-color: #FFFF16;}\n",
       ".cython.score-104 {background-color: #FFFF16;}\n",
       ".cython.score-105 {background-color: #FFFF16;}\n",
       ".cython.score-106 {background-color: #FFFF15;}\n",
       ".cython.score-107 {background-color: #FFFF15;}\n",
       ".cython.score-108 {background-color: #FFFF15;}\n",
       ".cython.score-109 {background-color: #FFFF15;}\n",
       ".cython.score-110 {background-color: #FFFF15;}\n",
       ".cython.score-111 {background-color: #FFFF15;}\n",
       ".cython.score-112 {background-color: #FFFF14;}\n",
       ".cython.score-113 {background-color: #FFFF14;}\n",
       ".cython.score-114 {background-color: #FFFF14;}\n",
       ".cython.score-115 {background-color: #FFFF14;}\n",
       ".cython.score-116 {background-color: #FFFF14;}\n",
       ".cython.score-117 {background-color: #FFFF14;}\n",
       ".cython.score-118 {background-color: #FFFF13;}\n",
       ".cython.score-119 {background-color: #FFFF13;}\n",
       ".cython.score-120 {background-color: #FFFF13;}\n",
       ".cython.score-121 {background-color: #FFFF13;}\n",
       ".cython.score-122 {background-color: #FFFF13;}\n",
       ".cython.score-123 {background-color: #FFFF13;}\n",
       ".cython.score-124 {background-color: #FFFF13;}\n",
       ".cython.score-125 {background-color: #FFFF12;}\n",
       ".cython.score-126 {background-color: #FFFF12;}\n",
       ".cython.score-127 {background-color: #FFFF12;}\n",
       ".cython.score-128 {background-color: #FFFF12;}\n",
       ".cython.score-129 {background-color: #FFFF12;}\n",
       ".cython.score-130 {background-color: #FFFF12;}\n",
       ".cython.score-131 {background-color: #FFFF12;}\n",
       ".cython.score-132 {background-color: #FFFF11;}\n",
       ".cython.score-133 {background-color: #FFFF11;}\n",
       ".cython.score-134 {background-color: #FFFF11;}\n",
       ".cython.score-135 {background-color: #FFFF11;}\n",
       ".cython.score-136 {background-color: #FFFF11;}\n",
       ".cython.score-137 {background-color: #FFFF11;}\n",
       ".cython.score-138 {background-color: #FFFF11;}\n",
       ".cython.score-139 {background-color: #FFFF11;}\n",
       ".cython.score-140 {background-color: #FFFF11;}\n",
       ".cython.score-141 {background-color: #FFFF10;}\n",
       ".cython.score-142 {background-color: #FFFF10;}\n",
       ".cython.score-143 {background-color: #FFFF10;}\n",
       ".cython.score-144 {background-color: #FFFF10;}\n",
       ".cython.score-145 {background-color: #FFFF10;}\n",
       ".cython.score-146 {background-color: #FFFF10;}\n",
       ".cython.score-147 {background-color: #FFFF10;}\n",
       ".cython.score-148 {background-color: #FFFF10;}\n",
       ".cython.score-149 {background-color: #FFFF10;}\n",
       ".cython.score-150 {background-color: #FFFF0f;}\n",
       ".cython.score-151 {background-color: #FFFF0f;}\n",
       ".cython.score-152 {background-color: #FFFF0f;}\n",
       ".cython.score-153 {background-color: #FFFF0f;}\n",
       ".cython.score-154 {background-color: #FFFF0f;}\n",
       ".cython.score-155 {background-color: #FFFF0f;}\n",
       ".cython.score-156 {background-color: #FFFF0f;}\n",
       ".cython.score-157 {background-color: #FFFF0f;}\n",
       ".cython.score-158 {background-color: #FFFF0f;}\n",
       ".cython.score-159 {background-color: #FFFF0f;}\n",
       ".cython.score-160 {background-color: #FFFF0f;}\n",
       ".cython.score-161 {background-color: #FFFF0e;}\n",
       ".cython.score-162 {background-color: #FFFF0e;}\n",
       ".cython.score-163 {background-color: #FFFF0e;}\n",
       ".cython.score-164 {background-color: #FFFF0e;}\n",
       ".cython.score-165 {background-color: #FFFF0e;}\n",
       ".cython.score-166 {background-color: #FFFF0e;}\n",
       ".cython.score-167 {background-color: #FFFF0e;}\n",
       ".cython.score-168 {background-color: #FFFF0e;}\n",
       ".cython.score-169 {background-color: #FFFF0e;}\n",
       ".cython.score-170 {background-color: #FFFF0e;}\n",
       ".cython.score-171 {background-color: #FFFF0e;}\n",
       ".cython.score-172 {background-color: #FFFF0e;}\n",
       ".cython.score-173 {background-color: #FFFF0d;}\n",
       ".cython.score-174 {background-color: #FFFF0d;}\n",
       ".cython.score-175 {background-color: #FFFF0d;}\n",
       ".cython.score-176 {background-color: #FFFF0d;}\n",
       ".cython.score-177 {background-color: #FFFF0d;}\n",
       ".cython.score-178 {background-color: #FFFF0d;}\n",
       ".cython.score-179 {background-color: #FFFF0d;}\n",
       ".cython.score-180 {background-color: #FFFF0d;}\n",
       ".cython.score-181 {background-color: #FFFF0d;}\n",
       ".cython.score-182 {background-color: #FFFF0d;}\n",
       ".cython.score-183 {background-color: #FFFF0d;}\n",
       ".cython.score-184 {background-color: #FFFF0d;}\n",
       ".cython.score-185 {background-color: #FFFF0d;}\n",
       ".cython.score-186 {background-color: #FFFF0d;}\n",
       ".cython.score-187 {background-color: #FFFF0c;}\n",
       ".cython.score-188 {background-color: #FFFF0c;}\n",
       ".cython.score-189 {background-color: #FFFF0c;}\n",
       ".cython.score-190 {background-color: #FFFF0c;}\n",
       ".cython.score-191 {background-color: #FFFF0c;}\n",
       ".cython.score-192 {background-color: #FFFF0c;}\n",
       ".cython.score-193 {background-color: #FFFF0c;}\n",
       ".cython.score-194 {background-color: #FFFF0c;}\n",
       ".cython.score-195 {background-color: #FFFF0c;}\n",
       ".cython.score-196 {background-color: #FFFF0c;}\n",
       ".cython.score-197 {background-color: #FFFF0c;}\n",
       ".cython.score-198 {background-color: #FFFF0c;}\n",
       ".cython.score-199 {background-color: #FFFF0c;}\n",
       ".cython.score-200 {background-color: #FFFF0c;}\n",
       ".cython.score-201 {background-color: #FFFF0c;}\n",
       ".cython.score-202 {background-color: #FFFF0c;}\n",
       ".cython.score-203 {background-color: #FFFF0b;}\n",
       ".cython.score-204 {background-color: #FFFF0b;}\n",
       ".cython.score-205 {background-color: #FFFF0b;}\n",
       ".cython.score-206 {background-color: #FFFF0b;}\n",
       ".cython.score-207 {background-color: #FFFF0b;}\n",
       ".cython.score-208 {background-color: #FFFF0b;}\n",
       ".cython.score-209 {background-color: #FFFF0b;}\n",
       ".cython.score-210 {background-color: #FFFF0b;}\n",
       ".cython.score-211 {background-color: #FFFF0b;}\n",
       ".cython.score-212 {background-color: #FFFF0b;}\n",
       ".cython.score-213 {background-color: #FFFF0b;}\n",
       ".cython.score-214 {background-color: #FFFF0b;}\n",
       ".cython.score-215 {background-color: #FFFF0b;}\n",
       ".cython.score-216 {background-color: #FFFF0b;}\n",
       ".cython.score-217 {background-color: #FFFF0b;}\n",
       ".cython.score-218 {background-color: #FFFF0b;}\n",
       ".cython.score-219 {background-color: #FFFF0b;}\n",
       ".cython.score-220 {background-color: #FFFF0b;}\n",
       ".cython.score-221 {background-color: #FFFF0b;}\n",
       ".cython.score-222 {background-color: #FFFF0a;}\n",
       ".cython.score-223 {background-color: #FFFF0a;}\n",
       ".cython.score-224 {background-color: #FFFF0a;}\n",
       ".cython.score-225 {background-color: #FFFF0a;}\n",
       ".cython.score-226 {background-color: #FFFF0a;}\n",
       ".cython.score-227 {background-color: #FFFF0a;}\n",
       ".cython.score-228 {background-color: #FFFF0a;}\n",
       ".cython.score-229 {background-color: #FFFF0a;}\n",
       ".cython.score-230 {background-color: #FFFF0a;}\n",
       ".cython.score-231 {background-color: #FFFF0a;}\n",
       ".cython.score-232 {background-color: #FFFF0a;}\n",
       ".cython.score-233 {background-color: #FFFF0a;}\n",
       ".cython.score-234 {background-color: #FFFF0a;}\n",
       ".cython.score-235 {background-color: #FFFF0a;}\n",
       ".cython.score-236 {background-color: #FFFF0a;}\n",
       ".cython.score-237 {background-color: #FFFF0a;}\n",
       ".cython.score-238 {background-color: #FFFF0a;}\n",
       ".cython.score-239 {background-color: #FFFF0a;}\n",
       ".cython.score-240 {background-color: #FFFF0a;}\n",
       ".cython.score-241 {background-color: #FFFF0a;}\n",
       ".cython.score-242 {background-color: #FFFF0a;}\n",
       ".cython.score-243 {background-color: #FFFF0a;}\n",
       ".cython.score-244 {background-color: #FFFF0a;}\n",
       ".cython.score-245 {background-color: #FFFF0a;}\n",
       ".cython.score-246 {background-color: #FFFF09;}\n",
       ".cython.score-247 {background-color: #FFFF09;}\n",
       ".cython.score-248 {background-color: #FFFF09;}\n",
       ".cython.score-249 {background-color: #FFFF09;}\n",
       ".cython.score-250 {background-color: #FFFF09;}\n",
       ".cython.score-251 {background-color: #FFFF09;}\n",
       ".cython.score-252 {background-color: #FFFF09;}\n",
       ".cython.score-253 {background-color: #FFFF09;}\n",
       ".cython.score-254 {background-color: #FFFF09;}\n",
       ".cython .hll { background-color: #ffffcc }\n",
       ".cython  { background: #f8f8f8; }\n",
       ".cython .c { color: #408080; font-style: italic } /* Comment */\n",
       ".cython .err { border: 1px solid #FF0000 } /* Error */\n",
       ".cython .k { color: #008000; font-weight: bold } /* Keyword */\n",
       ".cython .o { color: #666666 } /* Operator */\n",
       ".cython .cm { color: #408080; font-style: italic } /* Comment.Multiline */\n",
       ".cython .cp { color: #BC7A00 } /* Comment.Preproc */\n",
       ".cython .c1 { color: #408080; font-style: italic } /* Comment.Single */\n",
       ".cython .cs { color: #408080; font-style: italic } /* Comment.Special */\n",
       ".cython .gd { color: #A00000 } /* Generic.Deleted */\n",
       ".cython .ge { font-style: italic } /* Generic.Emph */\n",
       ".cython .gr { color: #FF0000 } /* Generic.Error */\n",
       ".cython .gh { color: #000080; font-weight: bold } /* Generic.Heading */\n",
       ".cython .gi { color: #00A000 } /* Generic.Inserted */\n",
       ".cython .go { color: #888888 } /* Generic.Output */\n",
       ".cython .gp { color: #000080; font-weight: bold } /* Generic.Prompt */\n",
       ".cython .gs { font-weight: bold } /* Generic.Strong */\n",
       ".cython .gu { color: #800080; font-weight: bold } /* Generic.Subheading */\n",
       ".cython .gt { color: #0044DD } /* Generic.Traceback */\n",
       ".cython .kc { color: #008000; font-weight: bold } /* Keyword.Constant */\n",
       ".cython .kd { color: #008000; font-weight: bold } /* Keyword.Declaration */\n",
       ".cython .kn { color: #008000; font-weight: bold } /* Keyword.Namespace */\n",
       ".cython .kp { color: #008000 } /* Keyword.Pseudo */\n",
       ".cython .kr { color: #008000; font-weight: bold } /* Keyword.Reserved */\n",
       ".cython .kt { color: #B00040 } /* Keyword.Type */\n",
       ".cython .m { color: #666666 } /* Literal.Number */\n",
       ".cython .s { color: #BA2121 } /* Literal.String */\n",
       ".cython .na { color: #7D9029 } /* Name.Attribute */\n",
       ".cython .nb { color: #008000 } /* Name.Builtin */\n",
       ".cython .nc { color: #0000FF; font-weight: bold } /* Name.Class */\n",
       ".cython .no { color: #880000 } /* Name.Constant */\n",
       ".cython .nd { color: #AA22FF } /* Name.Decorator */\n",
       ".cython .ni { color: #999999; font-weight: bold } /* Name.Entity */\n",
       ".cython .ne { color: #D2413A; font-weight: bold } /* Name.Exception */\n",
       ".cython .nf { color: #0000FF } /* Name.Function */\n",
       ".cython .nl { color: #A0A000 } /* Name.Label */\n",
       ".cython .nn { color: #0000FF; font-weight: bold } /* Name.Namespace */\n",
       ".cython .nt { color: #008000; font-weight: bold } /* Name.Tag */\n",
       ".cython .nv { color: #19177C } /* Name.Variable */\n",
       ".cython .ow { color: #AA22FF; font-weight: bold } /* Operator.Word */\n",
       ".cython .w { color: #bbbbbb } /* Text.Whitespace */\n",
       ".cython .mb { color: #666666 } /* Literal.Number.Bin */\n",
       ".cython .mf { color: #666666 } /* Literal.Number.Float */\n",
       ".cython .mh { color: #666666 } /* Literal.Number.Hex */\n",
       ".cython .mi { color: #666666 } /* Literal.Number.Integer */\n",
       ".cython .mo { color: #666666 } /* Literal.Number.Oct */\n",
       ".cython .sb { color: #BA2121 } /* Literal.String.Backtick */\n",
       ".cython .sc { color: #BA2121 } /* Literal.String.Char */\n",
       ".cython .sd { color: #BA2121; font-style: italic } /* Literal.String.Doc */\n",
       ".cython .s2 { color: #BA2121 } /* Literal.String.Double */\n",
       ".cython .se { color: #BB6622; font-weight: bold } /* Literal.String.Escape */\n",
       ".cython .sh { color: #BA2121 } /* Literal.String.Heredoc */\n",
       ".cython .si { color: #BB6688; font-weight: bold } /* Literal.String.Interpol */\n",
       ".cython .sx { color: #008000 } /* Literal.String.Other */\n",
       ".cython .sr { color: #BB6688 } /* Literal.String.Regex */\n",
       ".cython .s1 { color: #BA2121 } /* Literal.String.Single */\n",
       ".cython .ss { color: #19177C } /* Literal.String.Symbol */\n",
       ".cython .bp { color: #008000 } /* Name.Builtin.Pseudo */\n",
       ".cython .vc { color: #19177C } /* Name.Variable.Class */\n",
       ".cython .vg { color: #19177C } /* Name.Variable.Global */\n",
       ".cython .vi { color: #19177C } /* Name.Variable.Instance */\n",
       ".cython .il { color: #666666 } /* Literal.Number.Integer.Long */\n",
       "    </style>\n",
       "    <script>\n",
       "    function toggleDiv(id) {\n",
       "        theDiv = id.nextElementSibling\n",
       "        if (theDiv.style.display != 'block') theDiv.style.display = 'block';\n",
       "        else theDiv.style.display = 'none';\n",
       "    }\n",
       "    </script>\n",
       "</head>\n",
       "<body class=\"cython\">\n",
       "<p><span style=\"border-bottom: solid 1px grey;\">Generated by Cython 0.23.4</span></p>\n",
       "<p>\n",
       "    <span style=\"background-color: #FFFF00\">Yellow lines</span> hint at Python interaction.<br />\n",
       "    Click on a line that starts with a \"<code>+</code>\" to see the C code that Cython generated for it.\n",
       "</p>\n",
       "<div class=\"cython\"><pre class=\"cython line score-19\" onclick='toggleDiv(this)'>+<span class=\"\">01</span>: <span class=\"k\">import</span> <span class=\"nn\">numpy</span> <span class=\"k\">as</span> <span class=\"nn\">np</span></pre>\n",
       "<pre class='cython code score-19 '>  __pyx_t_2 = <span class='pyx_c_api'>__Pyx_Import</span>(__pyx_n_s_numpy, 0, -1);<span class='error_goto'> if (unlikely(!__pyx_t_2)) {__pyx_filename = __pyx_f[0]; __pyx_lineno = 1; __pyx_clineno = __LINE__; goto __pyx_L1_error;}</span>\n",
       "  <span class='refnanny'>__Pyx_GOTREF</span>(__pyx_t_2);\n",
       "  if (<span class='py_c_api'>PyDict_SetItem</span>(__pyx_d, __pyx_n_s_np, __pyx_t_2) &lt; 0) <span class='error_goto'>{__pyx_filename = __pyx_f[0]; __pyx_lineno = 1; __pyx_clineno = __LINE__; goto __pyx_L1_error;}</span>\n",
       "  <span class='pyx_macro_api'>__Pyx_DECREF</span>(__pyx_t_2); __pyx_t_2 = 0;\n",
       "/* … */\n",
       "  __pyx_t_2 = <span class='py_c_api'>PyDict_New</span>();<span class='error_goto'> if (unlikely(!__pyx_t_2)) {__pyx_filename = __pyx_f[0]; __pyx_lineno = 1; __pyx_clineno = __LINE__; goto __pyx_L1_error;}</span>\n",
       "  <span class='refnanny'>__Pyx_GOTREF</span>(__pyx_t_2);\n",
       "  if (<span class='py_c_api'>PyDict_SetItem</span>(__pyx_d, __pyx_n_s_test, __pyx_t_2) &lt; 0) <span class='error_goto'>{__pyx_filename = __pyx_f[0]; __pyx_lineno = 1; __pyx_clineno = __LINE__; goto __pyx_L1_error;}</span>\n",
       "  <span class='pyx_macro_api'>__Pyx_DECREF</span>(__pyx_t_2); __pyx_t_2 = 0;\n",
       "</pre><pre class=\"cython line score-0\">&#xA0;<span class=\"\">02</span>: <span class=\"k\">from</span> <span class=\"nn\">scipy.special.cython_special</span> <span class=\"k\">cimport</span> <span class=\"n\">sph_harm</span></pre>\n",
       "<pre class=\"cython line score-0\">&#xA0;<span class=\"\">03</span>: <span class=\"k\">cimport</span> <span class=\"nn\">numpy</span> <span class=\"k\">as</span> <span class=\"nn\">np</span></pre>\n",
       "<pre class=\"cython line score-0\">&#xA0;<span class=\"\">04</span>: <span class=\"k\">from</span> <span class=\"nn\">libc.math</span> <span class=\"k\">cimport</span> <span class=\"n\">sqrt</span><span class=\"p\">,</span> <span class=\"n\">acos</span><span class=\"p\">,</span> <span class=\"n\">atan2</span><span class=\"p\">,</span> <span class=\"n\">M_PI</span></pre>\n",
       "<pre class=\"cython line score-0\">&#xA0;<span class=\"\">05</span>: <span class=\"k\">cimport</span> <span class=\"nn\">cython</span></pre>\n",
       "<pre class=\"cython line score-0\">&#xA0;<span class=\"\">06</span>: </pre>\n",
       "<pre class=\"cython line score-0\">&#xA0;<span class=\"\">07</span>: <span class=\"nd\">@cython</span><span class=\"o\">.</span><span class=\"n\">boundscheck</span><span class=\"p\">(</span><span class=\"bp\">False</span><span class=\"p\">)</span> <span class=\"c\"># turn off bounds-checking for entire function</span></pre>\n",
       "<pre class=\"cython line score-0\">&#xA0;<span class=\"\">08</span>: <span class=\"nd\">@cython</span><span class=\"o\">.</span><span class=\"n\">wraparound</span><span class=\"p\">(</span><span class=\"bp\">False</span><span class=\"p\">)</span>  <span class=\"c\"># turn off negative index wrapping for entire function</span></pre>\n",
       "<pre class=\"cython line score-0\">&#xA0;<span class=\"\">09</span>: <span class=\"nd\">@cython</span><span class=\"o\">.</span><span class=\"n\">cdivision</span><span class=\"p\">(</span><span class=\"bp\">True</span><span class=\"p\">)</span> <span class=\"c\"># turn off division by zero checking for entire function</span></pre>\n",
       "<pre class=\"cython line score-100\" onclick='toggleDiv(this)'>+<span class=\"\">10</span>: <span class=\"k\">def</span> <span class=\"nf\">cython_qlm</span><span class=\"p\">(</span></pre>\n",
       "<pre class='cython code score-100 '>/* Python wrapper */\n",
       "static PyObject *__pyx_pw_46_cython_magic_dff929309038b07cc4cb4b3c6acc7e68_1cython_qlm(PyObject *__pyx_self, PyObject *__pyx_args, PyObject *__pyx_kwds); /*proto*/\n",
       "static PyMethodDef __pyx_mdef_46_cython_magic_dff929309038b07cc4cb4b3c6acc7e68_1cython_qlm = {\"cython_qlm\", (PyCFunction)__pyx_pw_46_cython_magic_dff929309038b07cc4cb4b3c6acc7e68_1cython_qlm, METH_VARARGS|METH_KEYWORDS, 0};\n",
       "static PyObject *__pyx_pw_46_cython_magic_dff929309038b07cc4cb4b3c6acc7e68_1cython_qlm(PyObject *__pyx_self, PyObject *__pyx_args, PyObject *__pyx_kwds) {\n",
       "  PyArrayObject *__pyx_v_pos = 0;\n",
       "  PyArrayObject *__pyx_v_ngbs = 0;\n",
       "  PyArrayObject *__pyx_v_inside = 0;\n",
       "  int __pyx_v_l;\n",
       "  PyObject *__pyx_r = 0;\n",
       "  <span class='refnanny'>__Pyx_RefNannyDeclarations</span>\n",
       "  <span class='refnanny'>__Pyx_RefNannySetupContext</span>(\"cython_qlm (wrapper)\", 0);\n",
       "  {\n",
       "    static PyObject **__pyx_pyargnames[] = {&amp;__pyx_n_s_pos,&amp;__pyx_n_s_ngbs,&amp;__pyx_n_s_inside,&amp;__pyx_n_s_l,0};\n",
       "    PyObject* values[4] = {0,0,0,0};\n",
       "    if (unlikely(__pyx_kwds)) {\n",
       "      Py_ssize_t kw_args;\n",
       "      const Py_ssize_t pos_args = <span class='py_macro_api'>PyTuple_GET_SIZE</span>(__pyx_args);\n",
       "      switch (pos_args) {\n",
       "        case  4: values[3] = <span class='py_macro_api'>PyTuple_GET_ITEM</span>(__pyx_args, 3);\n",
       "        case  3: values[2] = <span class='py_macro_api'>PyTuple_GET_ITEM</span>(__pyx_args, 2);\n",
       "        case  2: values[1] = <span class='py_macro_api'>PyTuple_GET_ITEM</span>(__pyx_args, 1);\n",
       "        case  1: values[0] = <span class='py_macro_api'>PyTuple_GET_ITEM</span>(__pyx_args, 0);\n",
       "        case  0: break;\n",
       "        default: goto __pyx_L5_argtuple_error;\n",
       "      }\n",
       "      kw_args = <span class='py_c_api'>PyDict_Size</span>(__pyx_kwds);\n",
       "      switch (pos_args) {\n",
       "        case  0:\n",
       "        if (likely((values[0] = <span class='py_c_api'>PyDict_GetItem</span>(__pyx_kwds, __pyx_n_s_pos)) != 0)) kw_args--;\n",
       "        else goto __pyx_L5_argtuple_error;\n",
       "        case  1:\n",
       "        if (likely((values[1] = <span class='py_c_api'>PyDict_GetItem</span>(__pyx_kwds, __pyx_n_s_ngbs)) != 0)) kw_args--;\n",
       "        else {\n",
       "          <span class='pyx_c_api'>__Pyx_RaiseArgtupleInvalid</span>(\"cython_qlm\", 0, 3, 4, 1); <span class='error_goto'>{__pyx_filename = __pyx_f[0]; __pyx_lineno = 10; __pyx_clineno = __LINE__; goto __pyx_L3_error;}</span>\n",
       "        }\n",
       "        case  2:\n",
       "        if (likely((values[2] = <span class='py_c_api'>PyDict_GetItem</span>(__pyx_kwds, __pyx_n_s_inside)) != 0)) kw_args--;\n",
       "        else {\n",
       "          <span class='pyx_c_api'>__Pyx_RaiseArgtupleInvalid</span>(\"cython_qlm\", 0, 3, 4, 2); <span class='error_goto'>{__pyx_filename = __pyx_f[0]; __pyx_lineno = 10; __pyx_clineno = __LINE__; goto __pyx_L3_error;}</span>\n",
       "        }\n",
       "        case  3:\n",
       "        if (kw_args &gt; 0) {\n",
       "          PyObject* value = <span class='py_c_api'>PyDict_GetItem</span>(__pyx_kwds, __pyx_n_s_l);\n",
       "          if (value) { values[3] = value; kw_args--; }\n",
       "        }\n",
       "      }\n",
       "      if (unlikely(kw_args &gt; 0)) {\n",
       "        if (unlikely(<span class='pyx_c_api'>__Pyx_ParseOptionalKeywords</span>(__pyx_kwds, __pyx_pyargnames, 0, values, pos_args, \"cython_qlm\") &lt; 0)) <span class='error_goto'>{__pyx_filename = __pyx_f[0]; __pyx_lineno = 10; __pyx_clineno = __LINE__; goto __pyx_L3_error;}</span>\n",
       "      }\n",
       "    } else {\n",
       "      switch (<span class='py_macro_api'>PyTuple_GET_SIZE</span>(__pyx_args)) {\n",
       "        case  4: values[3] = <span class='py_macro_api'>PyTuple_GET_ITEM</span>(__pyx_args, 3);\n",
       "        case  3: values[2] = <span class='py_macro_api'>PyTuple_GET_ITEM</span>(__pyx_args, 2);\n",
       "        values[1] = <span class='py_macro_api'>PyTuple_GET_ITEM</span>(__pyx_args, 1);\n",
       "        values[0] = <span class='py_macro_api'>PyTuple_GET_ITEM</span>(__pyx_args, 0);\n",
       "        break;\n",
       "        default: goto __pyx_L5_argtuple_error;\n",
       "      }\n",
       "    }\n",
       "    __pyx_v_pos = ((PyArrayObject *)values[0]);\n",
       "    __pyx_v_ngbs = ((PyArrayObject *)values[1]);\n",
       "    __pyx_v_inside = ((PyArrayObject *)values[2]);\n",
       "    if (values[3]) {\n",
       "      __pyx_v_l = <span class='pyx_c_api'>__Pyx_PyInt_As_int</span>(values[3]);<span class='error_goto'> if (unlikely((__pyx_v_l == (int)-1) &amp;&amp; PyErr_Occurred())) {__pyx_filename = __pyx_f[0]; __pyx_lineno = 14; __pyx_clineno = __LINE__; goto __pyx_L3_error;}</span>\n",
       "    } else {\n",
       "      __pyx_v_l = ((int)6);\n",
       "    }\n",
       "  }\n",
       "  goto __pyx_L4_argument_unpacking_done;\n",
       "  __pyx_L5_argtuple_error:;\n",
       "  <span class='pyx_c_api'>__Pyx_RaiseArgtupleInvalid</span>(\"cython_qlm\", 0, 3, 4, <span class='py_macro_api'>PyTuple_GET_SIZE</span>(__pyx_args)); <span class='error_goto'>{__pyx_filename = __pyx_f[0]; __pyx_lineno = 10; __pyx_clineno = __LINE__; goto __pyx_L3_error;}</span>\n",
       "  __pyx_L3_error:;\n",
       "  <span class='pyx_c_api'>__Pyx_AddTraceback</span>(\"_cython_magic_dff929309038b07cc4cb4b3c6acc7e68.cython_qlm\", __pyx_clineno, __pyx_lineno, __pyx_filename);\n",
       "  <span class='refnanny'>__Pyx_RefNannyFinishContext</span>();\n",
       "  return NULL;\n",
       "  __pyx_L4_argument_unpacking_done:;\n",
       "  if (unlikely(!<span class='pyx_c_api'>__Pyx_ArgTypeTest</span>(((PyObject *)__pyx_v_pos), __pyx_ptype_5numpy_ndarray, 1, \"pos\", 0))) <span class='error_goto'>{__pyx_filename = __pyx_f[0]; __pyx_lineno = 11; __pyx_clineno = __LINE__; goto __pyx_L1_error;}</span>\n",
       "  if (unlikely(!<span class='pyx_c_api'>__Pyx_ArgTypeTest</span>(((PyObject *)__pyx_v_ngbs), __pyx_ptype_5numpy_ndarray, 1, \"ngbs\", 0))) <span class='error_goto'>{__pyx_filename = __pyx_f[0]; __pyx_lineno = 12; __pyx_clineno = __LINE__; goto __pyx_L1_error;}</span>\n",
       "  if (unlikely(!<span class='pyx_c_api'>__Pyx_ArgTypeTest</span>(((PyObject *)__pyx_v_inside), __pyx_ptype_5numpy_ndarray, 1, \"inside\", 0))) <span class='error_goto'>{__pyx_filename = __pyx_f[0]; __pyx_lineno = 13; __pyx_clineno = __LINE__; goto __pyx_L1_error;}</span>\n",
       "  __pyx_r = __pyx_pf_46_cython_magic_dff929309038b07cc4cb4b3c6acc7e68_cython_qlm(__pyx_self, __pyx_v_pos, __pyx_v_ngbs, __pyx_v_inside, __pyx_v_l);\n",
       "  int __pyx_lineno = 0;\n",
       "  const char *__pyx_filename = NULL;\n",
       "  int __pyx_clineno = 0;\n",
       "\n",
       "  /* function exit code */\n",
       "  goto __pyx_L0;\n",
       "  __pyx_L1_error:;\n",
       "  __pyx_r = NULL;\n",
       "  __pyx_L0:;\n",
       "  <span class='refnanny'>__Pyx_RefNannyFinishContext</span>();\n",
       "  return __pyx_r;\n",
       "}\n",
       "\n",
       "static PyObject *__pyx_pf_46_cython_magic_dff929309038b07cc4cb4b3c6acc7e68_cython_qlm(CYTHON_UNUSED PyObject *__pyx_self, PyArrayObject *__pyx_v_pos, PyArrayObject *__pyx_v_ngbs, PyArrayObject *__pyx_v_inside, int __pyx_v_l) {\n",
       "  int __pyx_v_i;\n",
       "  int __pyx_v_j;\n",
       "  int __pyx_v_q;\n",
       "  int __pyx_v_nb;\n",
       "  int __pyx_v_m;\n",
       "  int __pyx_v_d;\n",
       "  double __pyx_v_r;\n",
       "  double __pyx_v_r2;\n",
       "  double __pyx_v_theta;\n",
       "  double __pyx_v_phi;\n",
       "  double __pyx_v_z;\n",
       "  long __pyx_v_Npos;\n",
       "  long __pyx_v_Nngb;\n",
       "  PyArrayObject *__pyx_v_qlm = 0;\n",
       "  double __pyx_v_cart[3];\n",
       "  __Pyx_LocalBuf_ND __pyx_pybuffernd_inside;\n",
       "  __Pyx_Buffer __pyx_pybuffer_inside;\n",
       "  __Pyx_LocalBuf_ND __pyx_pybuffernd_ngbs;\n",
       "  __Pyx_Buffer __pyx_pybuffer_ngbs;\n",
       "  __Pyx_LocalBuf_ND __pyx_pybuffernd_pos;\n",
       "  __Pyx_Buffer __pyx_pybuffer_pos;\n",
       "  __Pyx_LocalBuf_ND __pyx_pybuffernd_qlm;\n",
       "  __Pyx_Buffer __pyx_pybuffer_qlm;\n",
       "  PyObject *__pyx_r = NULL;\n",
       "  <span class='refnanny'>__Pyx_RefNannyDeclarations</span>\n",
       "  <span class='refnanny'>__Pyx_RefNannySetupContext</span>(\"cython_qlm\", 0);\n",
       "  __pyx_pybuffer_qlm.pybuffer.buf = NULL;\n",
       "  __pyx_pybuffer_qlm.refcount = 0;\n",
       "  __pyx_pybuffernd_qlm.data = NULL;\n",
       "  __pyx_pybuffernd_qlm.rcbuffer = &amp;__pyx_pybuffer_qlm;\n",
       "  __pyx_pybuffer_pos.pybuffer.buf = NULL;\n",
       "  __pyx_pybuffer_pos.refcount = 0;\n",
       "  __pyx_pybuffernd_pos.data = NULL;\n",
       "  __pyx_pybuffernd_pos.rcbuffer = &amp;__pyx_pybuffer_pos;\n",
       "  __pyx_pybuffer_ngbs.pybuffer.buf = NULL;\n",
       "  __pyx_pybuffer_ngbs.refcount = 0;\n",
       "  __pyx_pybuffernd_ngbs.data = NULL;\n",
       "  __pyx_pybuffernd_ngbs.rcbuffer = &amp;__pyx_pybuffer_ngbs;\n",
       "  __pyx_pybuffer_inside.pybuffer.buf = NULL;\n",
       "  __pyx_pybuffer_inside.refcount = 0;\n",
       "  __pyx_pybuffernd_inside.data = NULL;\n",
       "  __pyx_pybuffernd_inside.rcbuffer = &amp;__pyx_pybuffer_inside;\n",
       "  {\n",
       "    __Pyx_BufFmt_StackElem __pyx_stack[1];\n",
       "    if (unlikely(<span class='pyx_c_api'>__Pyx_GetBufferAndValidate</span>(&amp;__pyx_pybuffernd_pos.rcbuffer-&gt;pybuffer, (PyObject*)__pyx_v_pos, &amp;__Pyx_TypeInfo_nn___pyx_t_5numpy_float64_t, PyBUF_FORMAT| PyBUF_STRIDES, 2, 0, __pyx_stack) == -1)) <span class='error_goto'>{__pyx_filename = __pyx_f[0]; __pyx_lineno = 10; __pyx_clineno = __LINE__; goto __pyx_L1_error;}</span>\n",
       "  }\n",
       "  __pyx_pybuffernd_pos.diminfo[0].strides = __pyx_pybuffernd_pos.rcbuffer-&gt;pybuffer.strides[0]; __pyx_pybuffernd_pos.diminfo[0].shape = __pyx_pybuffernd_pos.rcbuffer-&gt;pybuffer.shape[0]; __pyx_pybuffernd_pos.diminfo[1].strides = __pyx_pybuffernd_pos.rcbuffer-&gt;pybuffer.strides[1]; __pyx_pybuffernd_pos.diminfo[1].shape = __pyx_pybuffernd_pos.rcbuffer-&gt;pybuffer.shape[1];\n",
       "  {\n",
       "    __Pyx_BufFmt_StackElem __pyx_stack[1];\n",
       "    if (unlikely(<span class='pyx_c_api'>__Pyx_GetBufferAndValidate</span>(&amp;__pyx_pybuffernd_ngbs.rcbuffer-&gt;pybuffer, (PyObject*)__pyx_v_ngbs, &amp;__Pyx_TypeInfo_nn___pyx_t_5numpy_int64_t, PyBUF_FORMAT| PyBUF_STRIDES, 2, 0, __pyx_stack) == -1)) <span class='error_goto'>{__pyx_filename = __pyx_f[0]; __pyx_lineno = 10; __pyx_clineno = __LINE__; goto __pyx_L1_error;}</span>\n",
       "  }\n",
       "  __pyx_pybuffernd_ngbs.diminfo[0].strides = __pyx_pybuffernd_ngbs.rcbuffer-&gt;pybuffer.strides[0]; __pyx_pybuffernd_ngbs.diminfo[0].shape = __pyx_pybuffernd_ngbs.rcbuffer-&gt;pybuffer.shape[0]; __pyx_pybuffernd_ngbs.diminfo[1].strides = __pyx_pybuffernd_ngbs.rcbuffer-&gt;pybuffer.strides[1]; __pyx_pybuffernd_ngbs.diminfo[1].shape = __pyx_pybuffernd_ngbs.rcbuffer-&gt;pybuffer.shape[1];\n",
       "  {\n",
       "    __Pyx_BufFmt_StackElem __pyx_stack[1];\n",
       "    if (unlikely(<span class='pyx_c_api'>__Pyx_GetBufferAndValidate</span>(&amp;__pyx_pybuffernd_inside.rcbuffer-&gt;pybuffer, (PyObject*)__pyx_v_inside, &amp;__Pyx_TypeInfo_nn___pyx_t_5numpy_uint8_t, PyBUF_FORMAT| PyBUF_STRIDES, 1, 1, __pyx_stack) == -1)) <span class='error_goto'>{__pyx_filename = __pyx_f[0]; __pyx_lineno = 10; __pyx_clineno = __LINE__; goto __pyx_L1_error;}</span>\n",
       "  }\n",
       "  __pyx_pybuffernd_inside.diminfo[0].strides = __pyx_pybuffernd_inside.rcbuffer-&gt;pybuffer.strides[0]; __pyx_pybuffernd_inside.diminfo[0].shape = __pyx_pybuffernd_inside.rcbuffer-&gt;pybuffer.shape[0];\n",
       "/* … */\n",
       "  /* function exit code */\n",
       "  __pyx_L1_error:;\n",
       "  <span class='pyx_macro_api'>__Pyx_XDECREF</span>(__pyx_t_1);\n",
       "  <span class='pyx_macro_api'>__Pyx_XDECREF</span>(__pyx_t_2);\n",
       "  <span class='pyx_macro_api'>__Pyx_XDECREF</span>(__pyx_t_3);\n",
       "  <span class='pyx_macro_api'>__Pyx_XDECREF</span>(__pyx_t_5);\n",
       "  <span class='pyx_macro_api'>__Pyx_XDECREF</span>(__pyx_t_6);\n",
       "  <span class='pyx_macro_api'>__Pyx_XDECREF</span>(__pyx_t_7);\n",
       "  { PyObject *__pyx_type, *__pyx_value, *__pyx_tb;\n",
       "    <span class='pyx_c_api'>__Pyx_ErrFetch</span>(&amp;__pyx_type, &amp;__pyx_value, &amp;__pyx_tb);\n",
       "    <span class='pyx_c_api'>__Pyx_SafeReleaseBuffer</span>(&amp;__pyx_pybuffernd_inside.rcbuffer-&gt;pybuffer);\n",
       "    <span class='pyx_c_api'>__Pyx_SafeReleaseBuffer</span>(&amp;__pyx_pybuffernd_ngbs.rcbuffer-&gt;pybuffer);\n",
       "    <span class='pyx_c_api'>__Pyx_SafeReleaseBuffer</span>(&amp;__pyx_pybuffernd_pos.rcbuffer-&gt;pybuffer);\n",
       "    <span class='pyx_c_api'>__Pyx_SafeReleaseBuffer</span>(&amp;__pyx_pybuffernd_qlm.rcbuffer-&gt;pybuffer);\n",
       "  <span class='pyx_c_api'>__Pyx_ErrRestore</span>(__pyx_type, __pyx_value, __pyx_tb);}\n",
       "  <span class='pyx_c_api'>__Pyx_AddTraceback</span>(\"_cython_magic_dff929309038b07cc4cb4b3c6acc7e68.cython_qlm\", __pyx_clineno, __pyx_lineno, __pyx_filename);\n",
       "  __pyx_r = NULL;\n",
       "  goto __pyx_L2;\n",
       "  __pyx_L0:;\n",
       "  <span class='pyx_c_api'>__Pyx_SafeReleaseBuffer</span>(&amp;__pyx_pybuffernd_inside.rcbuffer-&gt;pybuffer);\n",
       "  <span class='pyx_c_api'>__Pyx_SafeReleaseBuffer</span>(&amp;__pyx_pybuffernd_ngbs.rcbuffer-&gt;pybuffer);\n",
       "  <span class='pyx_c_api'>__Pyx_SafeReleaseBuffer</span>(&amp;__pyx_pybuffernd_pos.rcbuffer-&gt;pybuffer);\n",
       "  <span class='pyx_c_api'>__Pyx_SafeReleaseBuffer</span>(&amp;__pyx_pybuffernd_qlm.rcbuffer-&gt;pybuffer);\n",
       "  __pyx_L2:;\n",
       "  <span class='pyx_macro_api'>__Pyx_XDECREF</span>((PyObject *)__pyx_v_qlm);\n",
       "  <span class='refnanny'>__Pyx_XGIVEREF</span>(__pyx_r);\n",
       "  <span class='refnanny'>__Pyx_RefNannyFinishContext</span>();\n",
       "  return __pyx_r;\n",
       "}\n",
       "/* … */\n",
       "  __pyx_tuple__7 = <span class='py_c_api'>PyTuple_Pack</span>(19, __pyx_n_s_pos, __pyx_n_s_ngbs, __pyx_n_s_inside, __pyx_n_s_l, __pyx_n_s_i, __pyx_n_s_j, __pyx_n_s_q, __pyx_n_s_nb, __pyx_n_s_m, __pyx_n_s_d, __pyx_n_s_r, __pyx_n_s_r2, __pyx_n_s_theta, __pyx_n_s_phi, __pyx_n_s_z, __pyx_n_s_Npos, __pyx_n_s_Nngb, __pyx_n_s_qlm, __pyx_n_s_cart);<span class='error_goto'> if (unlikely(!__pyx_tuple__7)) {__pyx_filename = __pyx_f[0]; __pyx_lineno = 10; __pyx_clineno = __LINE__; goto __pyx_L1_error;}</span>\n",
       "  <span class='refnanny'>__Pyx_GOTREF</span>(__pyx_tuple__7);\n",
       "  <span class='refnanny'>__Pyx_GIVEREF</span>(__pyx_tuple__7);\n",
       "/* … */\n",
       "  __pyx_t_2 = PyCFunction_NewEx(&amp;__pyx_mdef_46_cython_magic_dff929309038b07cc4cb4b3c6acc7e68_1cython_qlm, NULL, __pyx_n_s_cython_magic_dff929309038b07cc4);<span class='error_goto'> if (unlikely(!__pyx_t_2)) {__pyx_filename = __pyx_f[0]; __pyx_lineno = 10; __pyx_clineno = __LINE__; goto __pyx_L1_error;}</span>\n",
       "  <span class='refnanny'>__Pyx_GOTREF</span>(__pyx_t_2);\n",
       "  if (<span class='py_c_api'>PyDict_SetItem</span>(__pyx_d, __pyx_n_s_cython_qlm, __pyx_t_2) &lt; 0) <span class='error_goto'>{__pyx_filename = __pyx_f[0]; __pyx_lineno = 10; __pyx_clineno = __LINE__; goto __pyx_L1_error;}</span>\n",
       "  <span class='pyx_macro_api'>__Pyx_DECREF</span>(__pyx_t_2); __pyx_t_2 = 0;\n",
       "</pre><pre class=\"cython line score-0\">&#xA0;<span class=\"\">11</span>:     <span class=\"n\">np</span><span class=\"o\">.</span><span class=\"n\">ndarray</span><span class=\"p\">[</span><span class=\"n\">np</span><span class=\"o\">.</span><span class=\"n\">float64_t</span><span class=\"p\">,</span> <span class=\"n\">ndim</span><span class=\"o\">=</span><span class=\"mf\">2</span><span class=\"p\">]</span> <span class=\"n\">pos</span><span class=\"p\">,</span></pre>\n",
       "<pre class=\"cython line score-0\">&#xA0;<span class=\"\">12</span>:     <span class=\"n\">np</span><span class=\"o\">.</span><span class=\"n\">ndarray</span><span class=\"p\">[</span><span class=\"n\">np</span><span class=\"o\">.</span><span class=\"n\">int64_t</span><span class=\"p\">,</span> <span class=\"n\">ndim</span><span class=\"o\">=</span><span class=\"mf\">2</span><span class=\"p\">]</span> <span class=\"n\">ngbs</span><span class=\"p\">,</span></pre>\n",
       "<pre class=\"cython line score-0\">&#xA0;<span class=\"\">13</span>:     <span class=\"n\">np</span><span class=\"o\">.</span><span class=\"n\">ndarray</span><span class=\"p\">[</span><span class=\"n\">np</span><span class=\"o\">.</span><span class=\"n\">uint8_t</span><span class=\"p\">,</span> <span class=\"n\">ndim</span><span class=\"o\">=</span><span class=\"mf\">1</span><span class=\"p\">,</span> <span class=\"n\">cast</span><span class=\"o\">=</span><span class=\"bp\">True</span><span class=\"p\">]</span> <span class=\"n\">inside</span><span class=\"p\">,</span></pre>\n",
       "<pre class=\"cython line score-0\">&#xA0;<span class=\"\">14</span>:     <span class=\"nb\">int</span> <span class=\"n\">l</span><span class=\"o\">=</span><span class=\"mf\">6</span></pre>\n",
       "<pre class=\"cython line score-0\">&#xA0;<span class=\"\">15</span>: <span class=\"p\">):</span></pre>\n",
       "<pre class=\"cython line score-0\">&#xA0;<span class=\"\">16</span>:     <span class=\"k\">cdef</span> <span class=\"kt\">int</span> <span class=\"nf\">i</span><span class=\"p\">,</span><span class=\"nf\">j</span><span class=\"p\">,</span> <span class=\"nf\">q</span><span class=\"p\">,</span> <span class=\"nf\">nb</span><span class=\"p\">,</span> <span class=\"nf\">m</span><span class=\"p\">,</span> <span class=\"nf\">d</span></pre>\n",
       "<pre class=\"cython line score-0\">&#xA0;<span class=\"\">17</span>:     <span class=\"k\">cdef</span> <span class=\"kt\">double</span> <span class=\"nf\">r</span><span class=\"p\">,</span> <span class=\"nf\">r2</span><span class=\"p\">,</span> <span class=\"nf\">theta</span><span class=\"p\">,</span> <span class=\"nf\">phi</span><span class=\"p\">,</span> <span class=\"nf\">z</span></pre>\n",
       "<pre class=\"cython line score-0\" onclick='toggleDiv(this)'>+<span class=\"\">18</span>:     <span class=\"k\">cdef</span> <span class=\"kt\">long</span> <span class=\"nf\">Npos</span> <span class=\"o\">=</span> <span class=\"n\">pos</span><span class=\"o\">.</span><span class=\"n\">shape</span><span class=\"p\">[</span><span class=\"mf\">0</span><span class=\"p\">]</span></pre>\n",
       "<pre class='cython code score-0 '>  __pyx_v_Npos = (__pyx_v_pos-&gt;dimensions[0]);\n",
       "</pre><pre class=\"cython line score-0\" onclick='toggleDiv(this)'>+<span class=\"\">19</span>:     <span class=\"k\">cdef</span> <span class=\"kt\">long</span> <span class=\"nf\">Nngb</span> <span class=\"o\">=</span> <span class=\"n\">ngbs</span><span class=\"o\">.</span><span class=\"n\">shape</span><span class=\"p\">[</span><span class=\"mf\">1</span><span class=\"p\">]</span></pre>\n",
       "<pre class='cython code score-0 '>  __pyx_v_Nngb = (__pyx_v_ngbs-&gt;dimensions[1]);\n",
       "</pre><pre class=\"cython line score-56\" onclick='toggleDiv(this)'>+<span class=\"\">20</span>:     <span class=\"k\">cdef</span> <span class=\"kt\">np</span>.<span class=\"kt\">ndarray</span>[<span class=\"nf\">dtype</span><span class=\"o\">=</span><span class=\"n\">np</span><span class=\"o\">.</span><span class=\"n\">complex128_t</span><span class=\"p\">,</span> <span class=\"n\">ndim</span><span class=\"o\">=</span><span class=\"mf\">2</span><span class=\"p\">]</span> <span class=\"n\">qlm</span> <span class=\"o\">=</span> <span class=\"n\">np</span><span class=\"o\">.</span><span class=\"n\">zeros</span><span class=\"p\">([</span><span class=\"nb\">len</span><span class=\"p\">(</span><span class=\"n\">pos</span><span class=\"p\">),</span> <span class=\"n\">l</span><span class=\"o\">+</span><span class=\"mf\">1</span><span class=\"p\">],</span> <span class=\"n\">np</span><span class=\"o\">.</span><span class=\"n\">complex128</span><span class=\"p\">)</span></pre>\n",
       "<pre class='cython code score-56 '>  __pyx_t_2 = <span class='pyx_c_api'>__Pyx_GetModuleGlobalName</span>(__pyx_n_s_np);<span class='error_goto'> if (unlikely(!__pyx_t_2)) {__pyx_filename = __pyx_f[0]; __pyx_lineno = 20; __pyx_clineno = __LINE__; goto __pyx_L1_error;}</span>\n",
       "  <span class='refnanny'>__Pyx_GOTREF</span>(__pyx_t_2);\n",
       "  __pyx_t_3 = <span class='pyx_c_api'>__Pyx_PyObject_GetAttrStr</span>(__pyx_t_2, __pyx_n_s_zeros);<span class='error_goto'> if (unlikely(!__pyx_t_3)) {__pyx_filename = __pyx_f[0]; __pyx_lineno = 20; __pyx_clineno = __LINE__; goto __pyx_L1_error;}</span>\n",
       "  <span class='refnanny'>__Pyx_GOTREF</span>(__pyx_t_3);\n",
       "  <span class='pyx_macro_api'>__Pyx_DECREF</span>(__pyx_t_2); __pyx_t_2 = 0;\n",
       "  __pyx_t_4 = <span class='py_c_api'>PyObject_Length</span>(((PyObject *)__pyx_v_pos));<span class='error_goto'> if (unlikely(__pyx_t_4 == -1)) {__pyx_filename = __pyx_f[0]; __pyx_lineno = 20; __pyx_clineno = __LINE__; goto __pyx_L1_error;}</span>\n",
       "  __pyx_t_2 = <span class='py_c_api'>PyInt_FromSsize_t</span>(__pyx_t_4);<span class='error_goto'> if (unlikely(!__pyx_t_2)) {__pyx_filename = __pyx_f[0]; __pyx_lineno = 20; __pyx_clineno = __LINE__; goto __pyx_L1_error;}</span>\n",
       "  <span class='refnanny'>__Pyx_GOTREF</span>(__pyx_t_2);\n",
       "  __pyx_t_5 = <span class='pyx_c_api'>__Pyx_PyInt_From_long</span>((__pyx_v_l + 1));<span class='error_goto'> if (unlikely(!__pyx_t_5)) {__pyx_filename = __pyx_f[0]; __pyx_lineno = 20; __pyx_clineno = __LINE__; goto __pyx_L1_error;}</span>\n",
       "  <span class='refnanny'>__Pyx_GOTREF</span>(__pyx_t_5);\n",
       "  __pyx_t_6 = <span class='py_c_api'>PyList_New</span>(2);<span class='error_goto'> if (unlikely(!__pyx_t_6)) {__pyx_filename = __pyx_f[0]; __pyx_lineno = 20; __pyx_clineno = __LINE__; goto __pyx_L1_error;}</span>\n",
       "  <span class='refnanny'>__Pyx_GOTREF</span>(__pyx_t_6);\n",
       "  <span class='refnanny'>__Pyx_GIVEREF</span>(__pyx_t_2);\n",
       "  <span class='py_macro_api'>PyList_SET_ITEM</span>(__pyx_t_6, 0, __pyx_t_2);\n",
       "  <span class='refnanny'>__Pyx_GIVEREF</span>(__pyx_t_5);\n",
       "  <span class='py_macro_api'>PyList_SET_ITEM</span>(__pyx_t_6, 1, __pyx_t_5);\n",
       "  __pyx_t_2 = 0;\n",
       "  __pyx_t_5 = 0;\n",
       "  __pyx_t_5 = <span class='pyx_c_api'>__Pyx_GetModuleGlobalName</span>(__pyx_n_s_np);<span class='error_goto'> if (unlikely(!__pyx_t_5)) {__pyx_filename = __pyx_f[0]; __pyx_lineno = 20; __pyx_clineno = __LINE__; goto __pyx_L1_error;}</span>\n",
       "  <span class='refnanny'>__Pyx_GOTREF</span>(__pyx_t_5);\n",
       "  __pyx_t_2 = <span class='pyx_c_api'>__Pyx_PyObject_GetAttrStr</span>(__pyx_t_5, __pyx_n_s_complex128);<span class='error_goto'> if (unlikely(!__pyx_t_2)) {__pyx_filename = __pyx_f[0]; __pyx_lineno = 20; __pyx_clineno = __LINE__; goto __pyx_L1_error;}</span>\n",
       "  <span class='refnanny'>__Pyx_GOTREF</span>(__pyx_t_2);\n",
       "  <span class='pyx_macro_api'>__Pyx_DECREF</span>(__pyx_t_5); __pyx_t_5 = 0;\n",
       "  __pyx_t_5 = NULL;\n",
       "  __pyx_t_4 = 0;\n",
       "  if (CYTHON_COMPILING_IN_CPYTHON &amp;&amp; unlikely(<span class='py_c_api'>PyMethod_Check</span>(__pyx_t_3))) {\n",
       "    __pyx_t_5 = <span class='py_macro_api'>PyMethod_GET_SELF</span>(__pyx_t_3);\n",
       "    if (likely(__pyx_t_5)) {\n",
       "      PyObject* function = <span class='py_macro_api'>PyMethod_GET_FUNCTION</span>(__pyx_t_3);\n",
       "      <span class='pyx_macro_api'>__Pyx_INCREF</span>(__pyx_t_5);\n",
       "      <span class='pyx_macro_api'>__Pyx_INCREF</span>(function);\n",
       "      <span class='pyx_macro_api'>__Pyx_DECREF_SET</span>(__pyx_t_3, function);\n",
       "      __pyx_t_4 = 1;\n",
       "    }\n",
       "  }\n",
       "  __pyx_t_7 = <span class='py_c_api'>PyTuple_New</span>(2+__pyx_t_4);<span class='error_goto'> if (unlikely(!__pyx_t_7)) {__pyx_filename = __pyx_f[0]; __pyx_lineno = 20; __pyx_clineno = __LINE__; goto __pyx_L1_error;}</span>\n",
       "  <span class='refnanny'>__Pyx_GOTREF</span>(__pyx_t_7);\n",
       "  if (__pyx_t_5) {\n",
       "    <span class='refnanny'>__Pyx_GIVEREF</span>(__pyx_t_5); <span class='py_macro_api'>PyTuple_SET_ITEM</span>(__pyx_t_7, 0, __pyx_t_5); __pyx_t_5 = NULL;\n",
       "  }\n",
       "  <span class='refnanny'>__Pyx_GIVEREF</span>(__pyx_t_6);\n",
       "  <span class='py_macro_api'>PyTuple_SET_ITEM</span>(__pyx_t_7, 0+__pyx_t_4, __pyx_t_6);\n",
       "  <span class='refnanny'>__Pyx_GIVEREF</span>(__pyx_t_2);\n",
       "  <span class='py_macro_api'>PyTuple_SET_ITEM</span>(__pyx_t_7, 1+__pyx_t_4, __pyx_t_2);\n",
       "  __pyx_t_6 = 0;\n",
       "  __pyx_t_2 = 0;\n",
       "  __pyx_t_1 = <span class='pyx_c_api'>__Pyx_PyObject_Call</span>(__pyx_t_3, __pyx_t_7, NULL);<span class='error_goto'> if (unlikely(!__pyx_t_1)) {__pyx_filename = __pyx_f[0]; __pyx_lineno = 20; __pyx_clineno = __LINE__; goto __pyx_L1_error;}</span>\n",
       "  <span class='refnanny'>__Pyx_GOTREF</span>(__pyx_t_1);\n",
       "  <span class='pyx_macro_api'>__Pyx_DECREF</span>(__pyx_t_7); __pyx_t_7 = 0;\n",
       "  <span class='pyx_macro_api'>__Pyx_DECREF</span>(__pyx_t_3); __pyx_t_3 = 0;\n",
       "  if (!(likely(((__pyx_t_1) == Py_None) || likely(<span class='pyx_c_api'>__Pyx_TypeTest</span>(__pyx_t_1, __pyx_ptype_5numpy_ndarray))))) <span class='error_goto'>{__pyx_filename = __pyx_f[0]; __pyx_lineno = 20; __pyx_clineno = __LINE__; goto __pyx_L1_error;}</span>\n",
       "  __pyx_t_8 = ((PyArrayObject *)__pyx_t_1);\n",
       "  {\n",
       "    __Pyx_BufFmt_StackElem __pyx_stack[1];\n",
       "    if (unlikely(<span class='pyx_c_api'>__Pyx_GetBufferAndValidate</span>(&amp;__pyx_pybuffernd_qlm.rcbuffer-&gt;pybuffer, (PyObject*)__pyx_t_8, &amp;__Pyx_TypeInfo___pyx_t_double_complex, PyBUF_FORMAT| PyBUF_STRIDES| PyBUF_WRITABLE, 2, 0, __pyx_stack) == -1)) {\n",
       "      __pyx_v_qlm = ((PyArrayObject *)Py_None); <span class='pyx_macro_api'>__Pyx_INCREF</span>(Py_None); __pyx_pybuffernd_qlm.rcbuffer-&gt;pybuffer.buf = NULL;\n",
       "      <span class='error_goto'>{__pyx_filename = __pyx_f[0]; __pyx_lineno = 20; __pyx_clineno = __LINE__; goto __pyx_L1_error;}</span>\n",
       "    } else {__pyx_pybuffernd_qlm.diminfo[0].strides = __pyx_pybuffernd_qlm.rcbuffer-&gt;pybuffer.strides[0]; __pyx_pybuffernd_qlm.diminfo[0].shape = __pyx_pybuffernd_qlm.rcbuffer-&gt;pybuffer.shape[0]; __pyx_pybuffernd_qlm.diminfo[1].strides = __pyx_pybuffernd_qlm.rcbuffer-&gt;pybuffer.strides[1]; __pyx_pybuffernd_qlm.diminfo[1].shape = __pyx_pybuffernd_qlm.rcbuffer-&gt;pybuffer.shape[1];\n",
       "    }\n",
       "  }\n",
       "  __pyx_t_8 = 0;\n",
       "  __pyx_v_qlm = ((PyArrayObject *)__pyx_t_1);\n",
       "  __pyx_t_1 = 0;\n",
       "</pre><pre class=\"cython line score-0\">&#xA0;<span class=\"\">21</span>:     <span class=\"c\">#cdef np.ndarray[dtype=double, ndim=1] cart = np.zeros(3, float)</span></pre>\n",
       "<pre class=\"cython line score-0\">&#xA0;<span class=\"\">22</span>:     <span class=\"k\">cdef</span> <span class=\"kt\">double</span>[3] <span class=\"nf\">cart</span></pre>\n",
       "<pre class=\"cython line score-0\" onclick='toggleDiv(this)'>+<span class=\"\">23</span>:     <span class=\"k\">for</span> <span class=\"n\">i</span> <span class=\"ow\">in</span> <span class=\"nb\">range</span><span class=\"p\">(</span><span class=\"n\">Npos</span><span class=\"p\">):</span></pre>\n",
       "<pre class='cython code score-0 '>  __pyx_t_9 = __pyx_v_Npos;\n",
       "  for (__pyx_t_10 = 0; __pyx_t_10 &lt; __pyx_t_9; __pyx_t_10+=1) {\n",
       "    __pyx_v_i = __pyx_t_10;\n",
       "</pre><pre class=\"cython line score-0\" onclick='toggleDiv(this)'>+<span class=\"\">24</span>:         <span class=\"k\">if</span> <span class=\"ow\">not</span> <span class=\"n\">inside</span><span class=\"p\">[</span><span class=\"n\">i</span><span class=\"p\">]:</span></pre>\n",
       "<pre class='cython code score-0 '>    __pyx_t_11 = __pyx_v_i;\n",
       "    __pyx_t_12 = ((!((*__Pyx_BufPtrStrided1d(__pyx_t_5numpy_uint8_t *, __pyx_pybuffernd_inside.rcbuffer-&gt;pybuffer.buf, __pyx_t_11, __pyx_pybuffernd_inside.diminfo[0].strides)) != 0)) != 0);\n",
       "    if (__pyx_t_12) {\n",
       "/* … */\n",
       "    }\n",
       "</pre><pre class=\"cython line score-0\" onclick='toggleDiv(this)'>+<span class=\"\">25</span>:             <span class=\"k\">continue</span></pre>\n",
       "<pre class='cython code score-0 '>      goto __pyx_L3_continue;\n",
       "</pre><pre class=\"cython line score-0\" onclick='toggleDiv(this)'>+<span class=\"\">26</span>:         <span class=\"n\">nb</span> <span class=\"o\">=</span> <span class=\"mf\">0</span></pre>\n",
       "<pre class='cython code score-0 '>    __pyx_v_nb = 0;\n",
       "</pre><pre class=\"cython line score-0\" onclick='toggleDiv(this)'>+<span class=\"\">27</span>:         <span class=\"k\">for</span> <span class=\"n\">j</span> <span class=\"ow\">in</span> <span class=\"nb\">range</span><span class=\"p\">(</span><span class=\"n\">Nngb</span><span class=\"p\">):</span></pre>\n",
       "<pre class='cython code score-0 '>    __pyx_t_13 = __pyx_v_Nngb;\n",
       "    for (__pyx_t_14 = 0; __pyx_t_14 &lt; __pyx_t_13; __pyx_t_14+=1) {\n",
       "      __pyx_v_j = __pyx_t_14;\n",
       "</pre><pre class=\"cython line score-0\" onclick='toggleDiv(this)'>+<span class=\"\">28</span>:             <span class=\"n\">q</span> <span class=\"o\">=</span> <span class=\"n\">ngbs</span><span class=\"p\">[</span><span class=\"n\">i</span><span class=\"p\">,</span><span class=\"n\">j</span><span class=\"p\">]</span></pre>\n",
       "<pre class='cython code score-0 '>      __pyx_t_15 = __pyx_v_i;\n",
       "      __pyx_t_16 = __pyx_v_j;\n",
       "      __pyx_v_q = (*__Pyx_BufPtrStrided2d(__pyx_t_5numpy_int64_t *, __pyx_pybuffernd_ngbs.rcbuffer-&gt;pybuffer.buf, __pyx_t_15, __pyx_pybuffernd_ngbs.diminfo[0].strides, __pyx_t_16, __pyx_pybuffernd_ngbs.diminfo[1].strides));\n",
       "</pre><pre class=\"cython line score-0\" onclick='toggleDiv(this)'>+<span class=\"\">29</span>:             <span class=\"k\">if</span> <span class=\"n\">q</span> <span class=\"o\">&lt;</span> <span class=\"mf\">0</span> <span class=\"ow\">or</span> <span class=\"n\">q</span> <span class=\"o\">&gt;=</span> <span class=\"n\">Npos</span><span class=\"p\">:</span></pre>\n",
       "<pre class='cython code score-0 '>      __pyx_t_17 = ((__pyx_v_q &lt; 0) != 0);\n",
       "      if (!__pyx_t_17) {\n",
       "      } else {\n",
       "        __pyx_t_12 = __pyx_t_17;\n",
       "        goto __pyx_L9_bool_binop_done;\n",
       "      }\n",
       "      __pyx_t_17 = ((__pyx_v_q &gt;= __pyx_v_Npos) != 0);\n",
       "      __pyx_t_12 = __pyx_t_17;\n",
       "      __pyx_L9_bool_binop_done:;\n",
       "      if (__pyx_t_12) {\n",
       "/* … */\n",
       "      }\n",
       "</pre><pre class=\"cython line score-0\" onclick='toggleDiv(this)'>+<span class=\"\">30</span>:                 <span class=\"k\">continue</span></pre>\n",
       "<pre class='cython code score-0 '>        goto __pyx_L6_continue;\n",
       "</pre><pre class=\"cython line score-0\" onclick='toggleDiv(this)'>+<span class=\"\">31</span>:             <span class=\"n\">nb</span> <span class=\"o\">+=</span> <span class=\"mf\">1</span></pre>\n",
       "<pre class='cython code score-0 '>      __pyx_v_nb = (__pyx_v_nb + 1);\n",
       "</pre><pre class=\"cython line score-0\" onclick='toggleDiv(this)'>+<span class=\"\">32</span>:             <span class=\"k\">for</span> <span class=\"n\">d</span> <span class=\"ow\">in</span> <span class=\"nb\">range</span><span class=\"p\">(</span><span class=\"mf\">3</span><span class=\"p\">):</span></pre>\n",
       "<pre class='cython code score-0 '>      for (__pyx_t_18 = 0; __pyx_t_18 &lt; 3; __pyx_t_18+=1) {\n",
       "        __pyx_v_d = __pyx_t_18;\n",
       "</pre><pre class=\"cython line score-0\" onclick='toggleDiv(this)'>+<span class=\"\">33</span>:                 <span class=\"n\">cart</span><span class=\"p\">[</span><span class=\"n\">d</span><span class=\"p\">]</span> <span class=\"o\">=</span> <span class=\"n\">pos</span><span class=\"p\">[</span><span class=\"n\">i</span><span class=\"p\">,</span><span class=\"n\">d</span><span class=\"p\">]</span> <span class=\"o\">-</span> <span class=\"n\">pos</span><span class=\"p\">[</span><span class=\"n\">q</span><span class=\"p\">,</span><span class=\"n\">d</span><span class=\"p\">]</span></pre>\n",
       "<pre class='cython code score-0 '>        __pyx_t_19 = __pyx_v_i;\n",
       "        __pyx_t_20 = __pyx_v_d;\n",
       "        __pyx_t_21 = __pyx_v_q;\n",
       "        __pyx_t_22 = __pyx_v_d;\n",
       "        (__pyx_v_cart[__pyx_v_d]) = ((*__Pyx_BufPtrStrided2d(__pyx_t_5numpy_float64_t *, __pyx_pybuffernd_pos.rcbuffer-&gt;pybuffer.buf, __pyx_t_19, __pyx_pybuffernd_pos.diminfo[0].strides, __pyx_t_20, __pyx_pybuffernd_pos.diminfo[1].strides)) - (*__Pyx_BufPtrStrided2d(__pyx_t_5numpy_float64_t *, __pyx_pybuffernd_pos.rcbuffer-&gt;pybuffer.buf, __pyx_t_21, __pyx_pybuffernd_pos.diminfo[0].strides, __pyx_t_22, __pyx_pybuffernd_pos.diminfo[1].strides)));\n",
       "      }\n",
       "</pre><pre class=\"cython line score-0\" onclick='toggleDiv(this)'>+<span class=\"\">34</span>:             <span class=\"n\">r2</span> <span class=\"o\">=</span> <span class=\"n\">cart</span><span class=\"p\">[</span><span class=\"mf\">0</span><span class=\"p\">]</span><span class=\"o\">**</span><span class=\"mf\">2</span> <span class=\"o\">+</span> <span class=\"n\">cart</span><span class=\"p\">[</span><span class=\"mf\">1</span><span class=\"p\">]</span><span class=\"o\">**</span><span class=\"mf\">2</span> <span class=\"o\">+</span> <span class=\"n\">cart</span><span class=\"p\">[</span><span class=\"mf\">2</span><span class=\"p\">]</span><span class=\"o\">**</span><span class=\"mf\">2</span></pre>\n",
       "<pre class='cython code score-0 '>      __pyx_v_r2 = ((pow((__pyx_v_cart[0]), 2.0) + pow((__pyx_v_cart[1]), 2.0)) + pow((__pyx_v_cart[2]), 2.0));\n",
       "</pre><pre class=\"cython line score-0\" onclick='toggleDiv(this)'>+<span class=\"\">35</span>:             <span class=\"k\">if</span> <span class=\"n\">cart</span><span class=\"p\">[</span><span class=\"mf\">2</span><span class=\"p\">]</span><span class=\"o\">**</span><span class=\"mf\">2</span> <span class=\"o\">==</span> <span class=\"n\">r2</span> <span class=\"ow\">or</span> <span class=\"n\">r2</span><span class=\"o\">+</span><span class=\"mf\">1.0</span> <span class=\"o\">==</span> <span class=\"mf\">1.0</span><span class=\"p\">:</span></pre>\n",
       "<pre class='cython code score-0 '>      __pyx_t_17 = ((pow((__pyx_v_cart[2]), 2.0) == __pyx_v_r2) != 0);\n",
       "      if (!__pyx_t_17) {\n",
       "      } else {\n",
       "        __pyx_t_12 = __pyx_t_17;\n",
       "        goto __pyx_L14_bool_binop_done;\n",
       "      }\n",
       "      __pyx_t_17 = (((__pyx_v_r2 + 1.0) == 1.0) != 0);\n",
       "      __pyx_t_12 = __pyx_t_17;\n",
       "      __pyx_L14_bool_binop_done:;\n",
       "      if (__pyx_t_12) {\n",
       "/* … */\n",
       "        goto __pyx_L13;\n",
       "      }\n",
       "</pre><pre class=\"cython line score-0\" onclick='toggleDiv(this)'>+<span class=\"\">36</span>:                 <span class=\"n\">theta</span> <span class=\"o\">=</span> <span class=\"mf\">0</span></pre>\n",
       "<pre class='cython code score-0 '>        __pyx_v_theta = 0.0;\n",
       "</pre><pre class=\"cython line score-0\" onclick='toggleDiv(this)'>+<span class=\"\">37</span>:                 <span class=\"n\">phi</span> <span class=\"o\">=</span> <span class=\"mf\">0</span></pre>\n",
       "<pre class='cython code score-0 '>        __pyx_v_phi = 0.0;\n",
       "</pre><pre class=\"cython line score-0\">&#xA0;<span class=\"\">38</span>:             <span class=\"k\">else</span><span class=\"p\">:</span></pre>\n",
       "<pre class=\"cython line score-0\" onclick='toggleDiv(this)'>+<span class=\"\">39</span>:                 <span class=\"n\">r</span> <span class=\"o\">=</span> <span class=\"n\">sqrt</span><span class=\"p\">(</span><span class=\"n\">r2</span><span class=\"p\">)</span></pre>\n",
       "<pre class='cython code score-0 '>      /*else*/ {\n",
       "        __pyx_v_r = sqrt(__pyx_v_r2);\n",
       "</pre><pre class=\"cython line score-0\" onclick='toggleDiv(this)'>+<span class=\"\">40</span>:                 <span class=\"n\">z</span> <span class=\"o\">=</span> <span class=\"n\">cart</span><span class=\"p\">[</span><span class=\"mf\">2</span><span class=\"p\">]</span></pre>\n",
       "<pre class='cython code score-0 '>        __pyx_v_z = (__pyx_v_cart[2]);\n",
       "</pre><pre class=\"cython line score-0\" onclick='toggleDiv(this)'>+<span class=\"\">41</span>:                 <span class=\"n\">phi</span> <span class=\"o\">=</span> <span class=\"n\">acos</span><span class=\"p\">(</span><span class=\"n\">z</span><span class=\"o\">/</span><span class=\"n\">r</span><span class=\"p\">)</span></pre>\n",
       "<pre class='cython code score-0 '>        __pyx_v_phi = acos((__pyx_v_z / __pyx_v_r));\n",
       "</pre><pre class=\"cython line score-0\" onclick='toggleDiv(this)'>+<span class=\"\">42</span>:                 <span class=\"n\">theta</span> <span class=\"o\">=</span> <span class=\"n\">atan2</span><span class=\"p\">(</span><span class=\"n\">cart</span><span class=\"p\">[</span><span class=\"mf\">1</span><span class=\"p\">],</span> <span class=\"n\">cart</span><span class=\"p\">[</span><span class=\"mf\">0</span><span class=\"p\">])</span></pre>\n",
       "<pre class='cython code score-0 '>        __pyx_v_theta = atan2((__pyx_v_cart[1]), (__pyx_v_cart[0]));\n",
       "</pre><pre class=\"cython line score-0\" onclick='toggleDiv(this)'>+<span class=\"\">43</span>:                 <span class=\"k\">if</span> <span class=\"n\">theta</span> <span class=\"o\">&lt;</span> <span class=\"mf\">0</span><span class=\"p\">:</span></pre>\n",
       "<pre class='cython code score-0 '>        __pyx_t_12 = ((__pyx_v_theta &lt; 0.0) != 0);\n",
       "        if (__pyx_t_12) {\n",
       "/* … */\n",
       "        }\n",
       "      }\n",
       "      __pyx_L13:;\n",
       "</pre><pre class=\"cython line score-0\" onclick='toggleDiv(this)'>+<span class=\"\">44</span>:                     <span class=\"n\">theta</span> <span class=\"o\">+=</span> <span class=\"mf\">2.0</span><span class=\"o\">*</span><span class=\"n\">M_PI</span></pre>\n",
       "<pre class='cython code score-0 '>          __pyx_v_theta = (__pyx_v_theta + (2.0 * M_PI));\n",
       "</pre><pre class=\"cython line score-0\" onclick='toggleDiv(this)'>+<span class=\"\">45</span>:             <span class=\"k\">for</span> <span class=\"n\">m</span> <span class=\"ow\">in</span> <span class=\"nb\">range</span><span class=\"p\">(</span><span class=\"n\">l</span><span class=\"o\">+</span><span class=\"mf\">1</span><span class=\"p\">):</span></pre>\n",
       "<pre class='cython code score-0 '>      __pyx_t_23 = (__pyx_v_l + 1);\n",
       "      for (__pyx_t_18 = 0; __pyx_t_18 &lt; __pyx_t_23; __pyx_t_18+=1) {\n",
       "        __pyx_v_m = __pyx_t_18;\n",
       "</pre><pre class=\"cython line score-0\" onclick='toggleDiv(this)'>+<span class=\"\">46</span>:                 <span class=\"n\">qlm</span><span class=\"p\">[</span><span class=\"n\">i</span><span class=\"p\">,</span><span class=\"n\">m</span><span class=\"p\">]</span> <span class=\"o\">=</span> <span class=\"n\">qlm</span><span class=\"p\">[</span><span class=\"n\">i</span><span class=\"p\">,</span><span class=\"n\">m</span><span class=\"p\">]</span> <span class=\"o\">+</span> <span class=\"n\">sph_harm</span><span class=\"p\">(</span><span class=\"n\">m</span><span class=\"p\">,</span> <span class=\"n\">l</span><span class=\"p\">,</span> <span class=\"n\">theta</span><span class=\"p\">,</span> <span class=\"n\">phi</span><span class=\"p\">)</span></pre>\n",
       "<pre class='cython code score-0 '>        __pyx_t_24 = __pyx_v_i;\n",
       "        __pyx_t_25 = __pyx_v_m;\n",
       "        __pyx_t_26 = __pyx_v_i;\n",
       "        __pyx_t_27 = __pyx_v_m;\n",
       "        *__Pyx_BufPtrStrided2d(__pyx_t_double_complex *, __pyx_pybuffernd_qlm.rcbuffer-&gt;pybuffer.buf, __pyx_t_26, __pyx_pybuffernd_qlm.diminfo[0].strides, __pyx_t_27, __pyx_pybuffernd_qlm.diminfo[1].strides) = __Pyx_c_sum((*__Pyx_BufPtrStrided2d(__pyx_t_double_complex *, __pyx_pybuffernd_qlm.rcbuffer-&gt;pybuffer.buf, __pyx_t_24, __pyx_pybuffernd_qlm.diminfo[0].strides, __pyx_t_25, __pyx_pybuffernd_qlm.diminfo[1].strides)), __pyx_fuse_1__pyx_f_5scipy_7special_14cython_special_sph_harm(__pyx_v_m, __pyx_v_l, __pyx_v_theta, __pyx_v_phi, 0));\n",
       "      }\n",
       "      __pyx_L6_continue:;\n",
       "    }\n",
       "</pre><pre class=\"cython line score-0\" onclick='toggleDiv(this)'>+<span class=\"\">47</span>:         <span class=\"k\">if</span> <span class=\"n\">nb</span><span class=\"o\">&gt;</span><span class=\"mf\">0</span><span class=\"p\">:</span></pre>\n",
       "<pre class='cython code score-0 '>    __pyx_t_12 = ((__pyx_v_nb &gt; 0) != 0);\n",
       "    if (__pyx_t_12) {\n",
       "/* … */\n",
       "    }\n",
       "    __pyx_L3_continue:;\n",
       "  }\n",
       "</pre><pre class=\"cython line score-0\" onclick='toggleDiv(this)'>+<span class=\"\">48</span>:             <span class=\"k\">for</span> <span class=\"n\">m</span> <span class=\"ow\">in</span> <span class=\"nb\">range</span><span class=\"p\">(</span><span class=\"n\">l</span><span class=\"o\">+</span><span class=\"mf\">1</span><span class=\"p\">):</span></pre>\n",
       "<pre class='cython code score-0 '>      __pyx_t_13 = (__pyx_v_l + 1);\n",
       "      for (__pyx_t_14 = 0; __pyx_t_14 &lt; __pyx_t_13; __pyx_t_14+=1) {\n",
       "        __pyx_v_m = __pyx_t_14;\n",
       "</pre><pre class=\"cython line score-0\" onclick='toggleDiv(this)'>+<span class=\"\">49</span>:                 <span class=\"n\">qlm</span><span class=\"p\">[</span><span class=\"n\">i</span><span class=\"p\">,</span><span class=\"n\">m</span><span class=\"p\">]</span> <span class=\"o\">=</span> <span class=\"n\">qlm</span><span class=\"p\">[</span><span class=\"n\">i</span><span class=\"p\">,</span><span class=\"n\">m</span><span class=\"p\">]</span> <span class=\"o\">/</span> <span class=\"n\">nb</span></pre>\n",
       "<pre class='cython code score-0 '>        __pyx_t_28 = __pyx_v_i;\n",
       "        __pyx_t_29 = __pyx_v_m;\n",
       "        __pyx_t_30 = __pyx_v_i;\n",
       "        __pyx_t_31 = __pyx_v_m;\n",
       "        *__Pyx_BufPtrStrided2d(__pyx_t_double_complex *, __pyx_pybuffernd_qlm.rcbuffer-&gt;pybuffer.buf, __pyx_t_30, __pyx_pybuffernd_qlm.diminfo[0].strides, __pyx_t_31, __pyx_pybuffernd_qlm.diminfo[1].strides) = __Pyx_c_quot((*__Pyx_BufPtrStrided2d(__pyx_t_double_complex *, __pyx_pybuffernd_qlm.rcbuffer-&gt;pybuffer.buf, __pyx_t_28, __pyx_pybuffernd_qlm.diminfo[0].strides, __pyx_t_29, __pyx_pybuffernd_qlm.diminfo[1].strides)), __pyx_t_double_complex_from_parts(__pyx_v_nb, 0));\n",
       "      }\n",
       "</pre><pre class=\"cython line score-2\" onclick='toggleDiv(this)'>+<span class=\"\">50</span>:     <span class=\"k\">return</span> <span class=\"n\">qlm</span></pre>\n",
       "<pre class='cython code score-2 '>  <span class='pyx_macro_api'>__Pyx_XDECREF</span>(__pyx_r);\n",
       "  <span class='pyx_macro_api'>__Pyx_INCREF</span>(((PyObject *)__pyx_v_qlm));\n",
       "  __pyx_r = ((PyObject *)__pyx_v_qlm);\n",
       "  goto __pyx_L0;\n",
       "</pre></div></body></html>"
      ],
      "text/plain": [
       "<IPython.core.display.HTML object>"
      ]
     },
     "execution_count": 5,
     "metadata": {},
     "output_type": "execute_result"
    }
   ],
   "source": [
    "%%cython --annotate\n",
    "import numpy as np\n",
    "from scipy.special.cython_special cimport sph_harm\n",
    "cimport numpy as np\n",
    "from libc.math cimport sqrt, acos, atan2, M_PI\n",
    "cimport cython\n",
    "\n",
    "@cython.boundscheck(False) # turn off bounds-checking for entire function\n",
    "@cython.wraparound(False)  # turn off negative index wrapping for entire function\n",
    "@cython.cdivision(True) # turn off division by zero checking for entire function\n",
    "def cython_qlm(\n",
    "    np.ndarray[np.float64_t, ndim=2] pos, \n",
    "    np.ndarray[np.int64_t, ndim=2] ngbs, \n",
    "    np.ndarray[np.uint8_t, ndim=1, cast=True] inside, \n",
    "    int l=6\n",
    "):\n",
    "    cdef int i,j, q, nb, m, d\n",
    "    cdef double r, r2, theta, phi, z\n",
    "    cdef long Npos = pos.shape[0]\n",
    "    cdef long Nngb = ngbs.shape[1]\n",
    "    cdef np.ndarray[dtype=np.complex128_t, ndim=2] qlm = np.zeros([len(pos), l+1], np.complex128)\n",
    "    #cdef np.ndarray[dtype=double, ndim=1] cart = np.zeros(3, float)\n",
    "    cdef double[3] cart\n",
    "    for i in range(Npos):\n",
    "        if not inside[i]:\n",
    "            continue\n",
    "        nb = 0\n",
    "        for j in range(Nngb):\n",
    "            q = ngbs[i,j]\n",
    "            if q < 0 or q >= Npos:\n",
    "                continue\n",
    "            nb += 1\n",
    "            for d in range(3):\n",
    "                cart[d] = pos[i,d] - pos[q,d]\n",
    "            r2 = cart[0]**2 + cart[1]**2 + cart[2]**2\n",
    "            if cart[2]**2 == r2 or r2+1.0 == 1.0:\n",
    "                theta = 0\n",
    "                phi = 0\n",
    "            else:\n",
    "                r = sqrt(r2)\n",
    "                z = cart[2]\n",
    "                phi = acos(z/r)\n",
    "                theta = atan2(cart[1], cart[0])\n",
    "                if theta < 0:\n",
    "                    theta += 2.0*M_PI\n",
    "            for m in range(l+1):\n",
    "                qlm[i,m] = qlm[i,m] + sph_harm(m, l, theta, phi)\n",
    "        if nb>0:\n",
    "            for m in range(l+1):\n",
    "                qlm[i,m] = qlm[i,m] / nb\n",
    "    return qlm"
   ]
  },
  {
   "cell_type": "code",
   "execution_count": 6,
   "metadata": {
    "collapsed": false
   },
   "outputs": [
    {
     "name": "stdout",
     "output_type": "stream",
     "text": [
      "1 loops, best of 3: 540 ms per loop\n"
     ]
    }
   ],
   "source": [
    "%timeit cython_qlm(pos, ngbs, inside)"
   ]
  },
  {
   "cell_type": "code",
   "execution_count": 94,
   "metadata": {
    "collapsed": true
   },
   "outputs": [],
   "source": [
    "sph_harm?"
   ]
  },
  {
   "cell_type": "code",
   "execution_count": 134,
   "metadata": {
    "collapsed": true
   },
   "outputs": [],
   "source": [
    "qlm_w = boo.weave_qlm(pos, ngbs, inside)"
   ]
  },
  {
   "cell_type": "code",
   "execution_count": 201,
   "metadata": {
    "collapsed": true
   },
   "outputs": [],
   "source": [
    "qlm_c = cython_qlm(pos, ngbs, inside)"
   ]
  },
  {
   "cell_type": "code",
   "execution_count": 202,
   "metadata": {
    "collapsed": false
   },
   "outputs": [
    {
     "data": {
      "text/plain": [
       "0.81391235399957307"
      ]
     },
     "execution_count": 202,
     "metadata": {},
     "output_type": "execute_result"
    }
   ],
   "source": [
    "np.mean(np.abs(qlm_w - qlm_c)<1e-16)"
   ]
  },
  {
   "cell_type": "code",
   "execution_count": 187,
   "metadata": {
    "collapsed": false
   },
   "outputs": [
    {
     "data": {
      "text/plain": [
       "array([ 0.04028486+0.j        ,  0.05799787+0.06639547j,\n",
       "        0.04605032-0.09580622j, -0.05903408-0.0054351j ,\n",
       "        0.13045725-0.20548051j, -0.18253487-0.07674777j,\n",
       "        0.09087308+0.00445716j])"
      ]
     },
     "execution_count": 187,
     "metadata": {},
     "output_type": "execute_result"
    }
   ],
   "source": [
    "qlm_w[0]"
   ]
  },
  {
   "cell_type": "code",
   "execution_count": 188,
   "metadata": {
    "collapsed": false
   },
   "outputs": [
    {
     "data": {
      "text/plain": [
       "array([ 0.04028486+0.j        ,  0.05799787+0.06639547j,\n",
       "        0.04605032-0.09580622j, -0.05903408-0.0054351j ,\n",
       "        0.13045725-0.20548051j, -0.18253487-0.07674777j,\n",
       "        0.09087308+0.00445716j])"
      ]
     },
     "execution_count": 188,
     "metadata": {},
     "output_type": "execute_result"
    }
   ],
   "source": [
    "qlm_c[0]"
   ]
  },
  {
   "cell_type": "code",
   "execution_count": 183,
   "metadata": {
    "collapsed": false
   },
   "outputs": [
    {
     "data": {
      "text/plain": [
       "(-0.22243770324198525+0j)"
      ]
     },
     "execution_count": 183,
     "metadata": {},
     "output_type": "execute_result"
    }
   ],
   "source": [
    "sph_harm(0, 6, 3.685749891321086, 1.4481876153314692)"
   ]
  },
  {
   "cell_type": "code",
   "execution_count": 182,
   "metadata": {
    "collapsed": true
   },
   "outputs": [],
   "source": [
    "sph_harm?"
   ]
  },
  {
   "cell_type": "markdown",
   "metadata": {
    "collapsed": true
   },
   "source": [
    "# Periodicity"
   ]
  },
  {
   "cell_type": "code",
   "execution_count": 6,
   "metadata": {
    "collapsed": false
   },
   "outputs": [
    {
     "data": {
      "text/plain": [
       "array([[1, 1, 1]])"
      ]
     },
     "execution_count": 6,
     "metadata": {},
     "output_type": "execute_result"
    }
   ],
   "source": [
    "periodic.periodify(np.array([[0,0,0]]), np.array([[1,1,1]]))"
   ]
  },
  {
   "cell_type": "code",
   "execution_count": 7,
   "metadata": {
    "collapsed": false
   },
   "outputs": [
    {
     "data": {
      "text/plain": [
       "array([[1, 1, 1]])"
      ]
     },
     "execution_count": 7,
     "metadata": {},
     "output_type": "execute_result"
    }
   ],
   "source": [
    "periodic.periodify(np.array([[0,0,0]]), np.array([[1,1,1]]), [3,3,3])"
   ]
  },
  {
   "cell_type": "code",
   "execution_count": 8,
   "metadata": {
    "collapsed": false
   },
   "outputs": [
    {
     "data": {
      "text/plain": [
       "array([[1, 0, 1]])"
      ]
     },
     "execution_count": 8,
     "metadata": {},
     "output_type": "execute_result"
    }
   ],
   "source": [
    "periodic.periodify(np.array([[0,0,0]]), np.array([[1,1,1]]), [3,1,2])"
   ]
  },
  {
   "cell_type": "code",
   "execution_count": 12,
   "metadata": {
    "collapsed": false
   },
   "outputs": [
    {
     "data": {
      "text/plain": [
       "array([[ 0.1,  0. ,  0. ]])"
      ]
     },
     "execution_count": 12,
     "metadata": {},
     "output_type": "execute_result"
    }
   ],
   "source": [
    "periodic.periodify(np.array([[0,0,0]]), np.array([[1,1,1]]), [0.9,0.5,0.5])"
   ]
  },
  {
   "cell_type": "code",
   "execution_count": 10,
   "metadata": {
    "collapsed": false
   },
   "outputs": [
    {
     "data": {
      "text/plain": [
       "<module 'colloids.periodic' from '/home/mathieu/src/colloids/python/colloids/periodic.py'>"
      ]
     },
     "execution_count": 10,
     "metadata": {},
     "output_type": "execute_result"
    }
   ],
   "source": [
    "reload(periodic)"
   ]
  },
  {
   "cell_type": "code",
   "execution_count": 54,
   "metadata": {
    "collapsed": false
   },
   "outputs": [
    {
     "data": {
      "text/plain": [
       "((1000000, 3), (1000000, 3))"
      ]
     },
     "execution_count": 54,
     "metadata": {},
     "output_type": "execute_result"
    }
   ],
   "source": [
    "u = np.zeros([1000000, 3])\n",
    "v = 3*np.random.rand(1000000, 3)\n",
    "u.shape, v.shape"
   ]
  },
  {
   "cell_type": "code",
   "execution_count": 71,
   "metadata": {
    "collapsed": false
   },
   "outputs": [
    {
     "name": "stdout",
     "output_type": "stream",
     "text": [
      "1 loop, best of 3: 371 ms per loop\n"
     ]
    }
   ],
   "source": [
    "%timeit periodic.periodify(u, v, [0.9,0.5,0.5])"
   ]
  },
  {
   "cell_type": "code",
   "execution_count": 26,
   "metadata": {
    "collapsed": true
   },
   "outputs": [],
   "source": [
    "def python_periodify(u, v, periods=None):\n",
    "    assert u.shape == v.shape\n",
    "    diff = np.array(v, float) - u\n",
    "    if periods is None:\n",
    "        return diff\n",
    "    assert len(periods) == u.shape[-1]\n",
    "    #ensures the largest coordinate is smaller than half a period\n",
    "    half = 0.5*np.array(periods)\n",
    "    for i in range(diff.shape[0]):\n",
    "        for j in range(diff.shape[1]):\n",
    "            while diff[i,j] > half[j]:\n",
    "                diff[i,j] -= periods[j]\n",
    "            while diff[i,j] < -half[j]:\n",
    "                diff[i,j] += periods[j]\n",
    "    return diff"
   ]
  },
  {
   "cell_type": "code",
   "execution_count": 27,
   "metadata": {
    "collapsed": false
   },
   "outputs": [
    {
     "data": {
      "text/plain": [
       "array([[ 1.,  1.,  1.]])"
      ]
     },
     "execution_count": 27,
     "metadata": {},
     "output_type": "execute_result"
    }
   ],
   "source": [
    "python_periodify(np.array([[0,0,0]]), np.array([[1,1,1]]))"
   ]
  },
  {
   "cell_type": "code",
   "execution_count": 28,
   "metadata": {
    "collapsed": false
   },
   "outputs": [
    {
     "data": {
      "text/plain": [
       "array([[ 1.,  1.,  1.]])"
      ]
     },
     "execution_count": 28,
     "metadata": {},
     "output_type": "execute_result"
    }
   ],
   "source": [
    "python_periodify(np.array([[0,0,0]]), np.array([[1,1,1]]), [3,3,3])"
   ]
  },
  {
   "cell_type": "code",
   "execution_count": 29,
   "metadata": {
    "collapsed": false
   },
   "outputs": [
    {
     "data": {
      "text/plain": [
       "array([[ 1.,  0.,  1.]])"
      ]
     },
     "execution_count": 29,
     "metadata": {},
     "output_type": "execute_result"
    }
   ],
   "source": [
    "python_periodify(np.array([[0,0,0]]), np.array([[1,1,1]]), [3,1,2])"
   ]
  },
  {
   "cell_type": "code",
   "execution_count": 30,
   "metadata": {
    "collapsed": false
   },
   "outputs": [
    {
     "data": {
      "text/plain": [
       "array([[ 0.1,  0. ,  0. ]])"
      ]
     },
     "execution_count": 30,
     "metadata": {},
     "output_type": "execute_result"
    }
   ],
   "source": [
    "python_periodify(np.array([[0,0,0]]), np.array([[1,1,1]]), [0.9,0.5,0.5])"
   ]
  },
  {
   "cell_type": "code",
   "execution_count": 31,
   "metadata": {
    "collapsed": false
   },
   "outputs": [
    {
     "name": "stdout",
     "output_type": "stream",
     "text": [
      "1 loop, best of 3: 8.22 s per loop\n"
     ]
    }
   ],
   "source": [
    "%timeit python_periodify(u, v, [0.9,0.5,0.5])"
   ]
  },
  {
   "cell_type": "code",
   "execution_count": 41,
   "metadata": {
    "collapsed": true
   },
   "outputs": [],
   "source": [
    "@jit\n",
    "def numba_periodify(u, v, periods=None):\n",
    "    \"\"\"Given two arrays of points in a d-dimentional space with periodic boundary conditions, find the shortest vector between each pair\"\"\"\n",
    "    assert u.shape == v.shape\n",
    "    diff = np.array(v, float) - u\n",
    "    if periods is None:\n",
    "        return diff\n",
    "    assert len(periods) == u.shape[-1]\n",
    "    #ensures the largest coordinate is smaller than half a period\n",
    "    half = 0.5*np.array(periods)\n",
    "    pers = np.tile(periods, [len(diff),1])\n",
    "    toolarge = diff > half\n",
    "    while np.any(toolarge):\n",
    "        diff[toolarge] -= pers[toolarge]\n",
    "        toolarge = diff > half\n",
    "    #same for negative coordinates\n",
    "    toosmall = diff < -half\n",
    "    while np.any(toosmall):\n",
    "        diff[toosmall] += pers[toosmall]\n",
    "        toosmall = diff < -half\n",
    "    return diff"
   ]
  },
  {
   "cell_type": "code",
   "execution_count": 42,
   "metadata": {
    "collapsed": false
   },
   "outputs": [
    {
     "data": {
      "text/plain": [
       "array([[ 1.,  1.,  1.]])"
      ]
     },
     "execution_count": 42,
     "metadata": {},
     "output_type": "execute_result"
    }
   ],
   "source": [
    "numba_periodify(np.array([[0,0,0]]), np.array([[1,1,1]]))"
   ]
  },
  {
   "cell_type": "code",
   "execution_count": 35,
   "metadata": {
    "collapsed": false
   },
   "outputs": [
    {
     "data": {
      "text/plain": [
       "array([[ 1.,  1.,  1.]])"
      ]
     },
     "execution_count": 35,
     "metadata": {},
     "output_type": "execute_result"
    }
   ],
   "source": [
    "numba_periodify(np.array([[0,0,0]]), np.array([[1,1,1]]), [3,3,3])"
   ]
  },
  {
   "cell_type": "code",
   "execution_count": 36,
   "metadata": {
    "collapsed": false
   },
   "outputs": [
    {
     "data": {
      "text/plain": [
       "array([[ 1.,  0.,  1.]])"
      ]
     },
     "execution_count": 36,
     "metadata": {},
     "output_type": "execute_result"
    }
   ],
   "source": [
    "numba_periodify(np.array([[0,0,0]]), np.array([[1,1,1]]), [3,1,2])"
   ]
  },
  {
   "cell_type": "code",
   "execution_count": 37,
   "metadata": {
    "collapsed": false
   },
   "outputs": [
    {
     "data": {
      "text/plain": [
       "array([[ 0.1,  0. ,  0. ]])"
      ]
     },
     "execution_count": 37,
     "metadata": {},
     "output_type": "execute_result"
    }
   ],
   "source": [
    "numba_periodify(np.array([[0,0,0]]), np.array([[1,1,1]]), [0.9,0.5,0.5])"
   ]
  },
  {
   "cell_type": "code",
   "execution_count": 38,
   "metadata": {
    "collapsed": false
   },
   "outputs": [
    {
     "name": "stdout",
     "output_type": "stream",
     "text": [
      "1 loop, best of 3: 345 ms per loop\n"
     ]
    }
   ],
   "source": [
    "%timeit numba_periodify(u, v, [0.9,0.5,0.5])"
   ]
  },
  {
   "cell_type": "code",
   "execution_count": 78,
   "metadata": {
    "collapsed": false
   },
   "outputs": [
    {
     "name": "stdout",
     "output_type": "stream",
     "text": [
      "In file included from /home/mathieu/anaconda3/envs/py27/lib/python2.7/site-packages/numpy/core/include/numpy/ndarraytypes.h:1809:0,\n",
      "                 from /home/mathieu/anaconda3/envs/py27/lib/python2.7/site-packages/numpy/core/include/numpy/ndarrayobject.h:18,\n",
      "                 from /home/mathieu/anaconda3/envs/py27/lib/python2.7/site-packages/numpy/core/include/numpy/arrayobject.h:4,\n",
      "                 from /home/mathieu/.cache/ipython/cython/_cython_magic_b0fa00b67fd674d7e8dd3f97299c9047.c:507:\n",
      "/home/mathieu/anaconda3/envs/py27/lib/python2.7/site-packages/numpy/core/include/numpy/npy_1_7_deprecated_api.h:15:2: warning: #warning \"Using deprecated NumPy API, disable it by \" \"#defining NPY_NO_DEPRECATED_API NPY_1_7_API_VERSION\" [-Wcpp]\n",
      " #warning \"Using deprecated NumPy API, disable it by \" \\\n",
      "  ^\n"
     ]
    },
    {
     "data": {
      "text/html": [
       "<!DOCTYPE html>\n",
       "<!-- Generated by Cython 0.26 -->\n",
       "<html>\n",
       "<head>\n",
       "    <meta http-equiv=\"Content-Type\" content=\"text/html; charset=utf-8\" />\n",
       "    <title>Cython: _cython_magic_b0fa00b67fd674d7e8dd3f97299c9047.pyx</title>\n",
       "    <style type=\"text/css\">\n",
       "    \n",
       "body.cython { font-family: courier; font-size: 12; }\n",
       "\n",
       ".cython.tag  {  }\n",
       ".cython.line { margin: 0em }\n",
       ".cython.code { font-size: 9; color: #444444; display: none; margin: 0px 0px 0px 8px; border-left: 8px none; }\n",
       "\n",
       ".cython.line .run { background-color: #B0FFB0; }\n",
       ".cython.line .mis { background-color: #FFB0B0; }\n",
       ".cython.code.run  { border-left: 8px solid #B0FFB0; }\n",
       ".cython.code.mis  { border-left: 8px solid #FFB0B0; }\n",
       "\n",
       ".cython.code .py_c_api  { color: red; }\n",
       ".cython.code .py_macro_api  { color: #FF7000; }\n",
       ".cython.code .pyx_c_api  { color: #FF3000; }\n",
       ".cython.code .pyx_macro_api  { color: #FF7000; }\n",
       ".cython.code .refnanny  { color: #FFA000; }\n",
       ".cython.code .trace  { color: #FFA000; }\n",
       ".cython.code .error_goto  { color: #FFA000; }\n",
       "\n",
       ".cython.code .coerce  { color: #008000; border: 1px dotted #008000 }\n",
       ".cython.code .py_attr { color: #FF0000; font-weight: bold; }\n",
       ".cython.code .c_attr  { color: #0000FF; }\n",
       ".cython.code .py_call { color: #FF0000; font-weight: bold; }\n",
       ".cython.code .c_call  { color: #0000FF; }\n",
       "\n",
       ".cython.score-0 {background-color: #FFFFff;}\n",
       ".cython.score-1 {background-color: #FFFFe7;}\n",
       ".cython.score-2 {background-color: #FFFFd4;}\n",
       ".cython.score-3 {background-color: #FFFFc4;}\n",
       ".cython.score-4 {background-color: #FFFFb6;}\n",
       ".cython.score-5 {background-color: #FFFFaa;}\n",
       ".cython.score-6 {background-color: #FFFF9f;}\n",
       ".cython.score-7 {background-color: #FFFF96;}\n",
       ".cython.score-8 {background-color: #FFFF8d;}\n",
       ".cython.score-9 {background-color: #FFFF86;}\n",
       ".cython.score-10 {background-color: #FFFF7f;}\n",
       ".cython.score-11 {background-color: #FFFF79;}\n",
       ".cython.score-12 {background-color: #FFFF73;}\n",
       ".cython.score-13 {background-color: #FFFF6e;}\n",
       ".cython.score-14 {background-color: #FFFF6a;}\n",
       ".cython.score-15 {background-color: #FFFF66;}\n",
       ".cython.score-16 {background-color: #FFFF62;}\n",
       ".cython.score-17 {background-color: #FFFF5e;}\n",
       ".cython.score-18 {background-color: #FFFF5b;}\n",
       ".cython.score-19 {background-color: #FFFF57;}\n",
       ".cython.score-20 {background-color: #FFFF55;}\n",
       ".cython.score-21 {background-color: #FFFF52;}\n",
       ".cython.score-22 {background-color: #FFFF4f;}\n",
       ".cython.score-23 {background-color: #FFFF4d;}\n",
       ".cython.score-24 {background-color: #FFFF4b;}\n",
       ".cython.score-25 {background-color: #FFFF48;}\n",
       ".cython.score-26 {background-color: #FFFF46;}\n",
       ".cython.score-27 {background-color: #FFFF44;}\n",
       ".cython.score-28 {background-color: #FFFF43;}\n",
       ".cython.score-29 {background-color: #FFFF41;}\n",
       ".cython.score-30 {background-color: #FFFF3f;}\n",
       ".cython.score-31 {background-color: #FFFF3e;}\n",
       ".cython.score-32 {background-color: #FFFF3c;}\n",
       ".cython.score-33 {background-color: #FFFF3b;}\n",
       ".cython.score-34 {background-color: #FFFF39;}\n",
       ".cython.score-35 {background-color: #FFFF38;}\n",
       ".cython.score-36 {background-color: #FFFF37;}\n",
       ".cython.score-37 {background-color: #FFFF36;}\n",
       ".cython.score-38 {background-color: #FFFF35;}\n",
       ".cython.score-39 {background-color: #FFFF34;}\n",
       ".cython.score-40 {background-color: #FFFF33;}\n",
       ".cython.score-41 {background-color: #FFFF32;}\n",
       ".cython.score-42 {background-color: #FFFF31;}\n",
       ".cython.score-43 {background-color: #FFFF30;}\n",
       ".cython.score-44 {background-color: #FFFF2f;}\n",
       ".cython.score-45 {background-color: #FFFF2e;}\n",
       ".cython.score-46 {background-color: #FFFF2d;}\n",
       ".cython.score-47 {background-color: #FFFF2c;}\n",
       ".cython.score-48 {background-color: #FFFF2b;}\n",
       ".cython.score-49 {background-color: #FFFF2b;}\n",
       ".cython.score-50 {background-color: #FFFF2a;}\n",
       ".cython.score-51 {background-color: #FFFF29;}\n",
       ".cython.score-52 {background-color: #FFFF29;}\n",
       ".cython.score-53 {background-color: #FFFF28;}\n",
       ".cython.score-54 {background-color: #FFFF27;}\n",
       ".cython.score-55 {background-color: #FFFF27;}\n",
       ".cython.score-56 {background-color: #FFFF26;}\n",
       ".cython.score-57 {background-color: #FFFF26;}\n",
       ".cython.score-58 {background-color: #FFFF25;}\n",
       ".cython.score-59 {background-color: #FFFF24;}\n",
       ".cython.score-60 {background-color: #FFFF24;}\n",
       ".cython.score-61 {background-color: #FFFF23;}\n",
       ".cython.score-62 {background-color: #FFFF23;}\n",
       ".cython.score-63 {background-color: #FFFF22;}\n",
       ".cython.score-64 {background-color: #FFFF22;}\n",
       ".cython.score-65 {background-color: #FFFF22;}\n",
       ".cython.score-66 {background-color: #FFFF21;}\n",
       ".cython.score-67 {background-color: #FFFF21;}\n",
       ".cython.score-68 {background-color: #FFFF20;}\n",
       ".cython.score-69 {background-color: #FFFF20;}\n",
       ".cython.score-70 {background-color: #FFFF1f;}\n",
       ".cython.score-71 {background-color: #FFFF1f;}\n",
       ".cython.score-72 {background-color: #FFFF1f;}\n",
       ".cython.score-73 {background-color: #FFFF1e;}\n",
       ".cython.score-74 {background-color: #FFFF1e;}\n",
       ".cython.score-75 {background-color: #FFFF1e;}\n",
       ".cython.score-76 {background-color: #FFFF1d;}\n",
       ".cython.score-77 {background-color: #FFFF1d;}\n",
       ".cython.score-78 {background-color: #FFFF1c;}\n",
       ".cython.score-79 {background-color: #FFFF1c;}\n",
       ".cython.score-80 {background-color: #FFFF1c;}\n",
       ".cython.score-81 {background-color: #FFFF1c;}\n",
       ".cython.score-82 {background-color: #FFFF1b;}\n",
       ".cython.score-83 {background-color: #FFFF1b;}\n",
       ".cython.score-84 {background-color: #FFFF1b;}\n",
       ".cython.score-85 {background-color: #FFFF1a;}\n",
       ".cython.score-86 {background-color: #FFFF1a;}\n",
       ".cython.score-87 {background-color: #FFFF1a;}\n",
       ".cython.score-88 {background-color: #FFFF1a;}\n",
       ".cython.score-89 {background-color: #FFFF19;}\n",
       ".cython.score-90 {background-color: #FFFF19;}\n",
       ".cython.score-91 {background-color: #FFFF19;}\n",
       ".cython.score-92 {background-color: #FFFF19;}\n",
       ".cython.score-93 {background-color: #FFFF18;}\n",
       ".cython.score-94 {background-color: #FFFF18;}\n",
       ".cython.score-95 {background-color: #FFFF18;}\n",
       ".cython.score-96 {background-color: #FFFF18;}\n",
       ".cython.score-97 {background-color: #FFFF17;}\n",
       ".cython.score-98 {background-color: #FFFF17;}\n",
       ".cython.score-99 {background-color: #FFFF17;}\n",
       ".cython.score-100 {background-color: #FFFF17;}\n",
       ".cython.score-101 {background-color: #FFFF16;}\n",
       ".cython.score-102 {background-color: #FFFF16;}\n",
       ".cython.score-103 {background-color: #FFFF16;}\n",
       ".cython.score-104 {background-color: #FFFF16;}\n",
       ".cython.score-105 {background-color: #FFFF16;}\n",
       ".cython.score-106 {background-color: #FFFF15;}\n",
       ".cython.score-107 {background-color: #FFFF15;}\n",
       ".cython.score-108 {background-color: #FFFF15;}\n",
       ".cython.score-109 {background-color: #FFFF15;}\n",
       ".cython.score-110 {background-color: #FFFF15;}\n",
       ".cython.score-111 {background-color: #FFFF15;}\n",
       ".cython.score-112 {background-color: #FFFF14;}\n",
       ".cython.score-113 {background-color: #FFFF14;}\n",
       ".cython.score-114 {background-color: #FFFF14;}\n",
       ".cython.score-115 {background-color: #FFFF14;}\n",
       ".cython.score-116 {background-color: #FFFF14;}\n",
       ".cython.score-117 {background-color: #FFFF14;}\n",
       ".cython.score-118 {background-color: #FFFF13;}\n",
       ".cython.score-119 {background-color: #FFFF13;}\n",
       ".cython.score-120 {background-color: #FFFF13;}\n",
       ".cython.score-121 {background-color: #FFFF13;}\n",
       ".cython.score-122 {background-color: #FFFF13;}\n",
       ".cython.score-123 {background-color: #FFFF13;}\n",
       ".cython.score-124 {background-color: #FFFF13;}\n",
       ".cython.score-125 {background-color: #FFFF12;}\n",
       ".cython.score-126 {background-color: #FFFF12;}\n",
       ".cython.score-127 {background-color: #FFFF12;}\n",
       ".cython.score-128 {background-color: #FFFF12;}\n",
       ".cython.score-129 {background-color: #FFFF12;}\n",
       ".cython.score-130 {background-color: #FFFF12;}\n",
       ".cython.score-131 {background-color: #FFFF12;}\n",
       ".cython.score-132 {background-color: #FFFF11;}\n",
       ".cython.score-133 {background-color: #FFFF11;}\n",
       ".cython.score-134 {background-color: #FFFF11;}\n",
       ".cython.score-135 {background-color: #FFFF11;}\n",
       ".cython.score-136 {background-color: #FFFF11;}\n",
       ".cython.score-137 {background-color: #FFFF11;}\n",
       ".cython.score-138 {background-color: #FFFF11;}\n",
       ".cython.score-139 {background-color: #FFFF11;}\n",
       ".cython.score-140 {background-color: #FFFF11;}\n",
       ".cython.score-141 {background-color: #FFFF10;}\n",
       ".cython.score-142 {background-color: #FFFF10;}\n",
       ".cython.score-143 {background-color: #FFFF10;}\n",
       ".cython.score-144 {background-color: #FFFF10;}\n",
       ".cython.score-145 {background-color: #FFFF10;}\n",
       ".cython.score-146 {background-color: #FFFF10;}\n",
       ".cython.score-147 {background-color: #FFFF10;}\n",
       ".cython.score-148 {background-color: #FFFF10;}\n",
       ".cython.score-149 {background-color: #FFFF10;}\n",
       ".cython.score-150 {background-color: #FFFF0f;}\n",
       ".cython.score-151 {background-color: #FFFF0f;}\n",
       ".cython.score-152 {background-color: #FFFF0f;}\n",
       ".cython.score-153 {background-color: #FFFF0f;}\n",
       ".cython.score-154 {background-color: #FFFF0f;}\n",
       ".cython.score-155 {background-color: #FFFF0f;}\n",
       ".cython.score-156 {background-color: #FFFF0f;}\n",
       ".cython.score-157 {background-color: #FFFF0f;}\n",
       ".cython.score-158 {background-color: #FFFF0f;}\n",
       ".cython.score-159 {background-color: #FFFF0f;}\n",
       ".cython.score-160 {background-color: #FFFF0f;}\n",
       ".cython.score-161 {background-color: #FFFF0e;}\n",
       ".cython.score-162 {background-color: #FFFF0e;}\n",
       ".cython.score-163 {background-color: #FFFF0e;}\n",
       ".cython.score-164 {background-color: #FFFF0e;}\n",
       ".cython.score-165 {background-color: #FFFF0e;}\n",
       ".cython.score-166 {background-color: #FFFF0e;}\n",
       ".cython.score-167 {background-color: #FFFF0e;}\n",
       ".cython.score-168 {background-color: #FFFF0e;}\n",
       ".cython.score-169 {background-color: #FFFF0e;}\n",
       ".cython.score-170 {background-color: #FFFF0e;}\n",
       ".cython.score-171 {background-color: #FFFF0e;}\n",
       ".cython.score-172 {background-color: #FFFF0e;}\n",
       ".cython.score-173 {background-color: #FFFF0d;}\n",
       ".cython.score-174 {background-color: #FFFF0d;}\n",
       ".cython.score-175 {background-color: #FFFF0d;}\n",
       ".cython.score-176 {background-color: #FFFF0d;}\n",
       ".cython.score-177 {background-color: #FFFF0d;}\n",
       ".cython.score-178 {background-color: #FFFF0d;}\n",
       ".cython.score-179 {background-color: #FFFF0d;}\n",
       ".cython.score-180 {background-color: #FFFF0d;}\n",
       ".cython.score-181 {background-color: #FFFF0d;}\n",
       ".cython.score-182 {background-color: #FFFF0d;}\n",
       ".cython.score-183 {background-color: #FFFF0d;}\n",
       ".cython.score-184 {background-color: #FFFF0d;}\n",
       ".cython.score-185 {background-color: #FFFF0d;}\n",
       ".cython.score-186 {background-color: #FFFF0d;}\n",
       ".cython.score-187 {background-color: #FFFF0c;}\n",
       ".cython.score-188 {background-color: #FFFF0c;}\n",
       ".cython.score-189 {background-color: #FFFF0c;}\n",
       ".cython.score-190 {background-color: #FFFF0c;}\n",
       ".cython.score-191 {background-color: #FFFF0c;}\n",
       ".cython.score-192 {background-color: #FFFF0c;}\n",
       ".cython.score-193 {background-color: #FFFF0c;}\n",
       ".cython.score-194 {background-color: #FFFF0c;}\n",
       ".cython.score-195 {background-color: #FFFF0c;}\n",
       ".cython.score-196 {background-color: #FFFF0c;}\n",
       ".cython.score-197 {background-color: #FFFF0c;}\n",
       ".cython.score-198 {background-color: #FFFF0c;}\n",
       ".cython.score-199 {background-color: #FFFF0c;}\n",
       ".cython.score-200 {background-color: #FFFF0c;}\n",
       ".cython.score-201 {background-color: #FFFF0c;}\n",
       ".cython.score-202 {background-color: #FFFF0c;}\n",
       ".cython.score-203 {background-color: #FFFF0b;}\n",
       ".cython.score-204 {background-color: #FFFF0b;}\n",
       ".cython.score-205 {background-color: #FFFF0b;}\n",
       ".cython.score-206 {background-color: #FFFF0b;}\n",
       ".cython.score-207 {background-color: #FFFF0b;}\n",
       ".cython.score-208 {background-color: #FFFF0b;}\n",
       ".cython.score-209 {background-color: #FFFF0b;}\n",
       ".cython.score-210 {background-color: #FFFF0b;}\n",
       ".cython.score-211 {background-color: #FFFF0b;}\n",
       ".cython.score-212 {background-color: #FFFF0b;}\n",
       ".cython.score-213 {background-color: #FFFF0b;}\n",
       ".cython.score-214 {background-color: #FFFF0b;}\n",
       ".cython.score-215 {background-color: #FFFF0b;}\n",
       ".cython.score-216 {background-color: #FFFF0b;}\n",
       ".cython.score-217 {background-color: #FFFF0b;}\n",
       ".cython.score-218 {background-color: #FFFF0b;}\n",
       ".cython.score-219 {background-color: #FFFF0b;}\n",
       ".cython.score-220 {background-color: #FFFF0b;}\n",
       ".cython.score-221 {background-color: #FFFF0b;}\n",
       ".cython.score-222 {background-color: #FFFF0a;}\n",
       ".cython.score-223 {background-color: #FFFF0a;}\n",
       ".cython.score-224 {background-color: #FFFF0a;}\n",
       ".cython.score-225 {background-color: #FFFF0a;}\n",
       ".cython.score-226 {background-color: #FFFF0a;}\n",
       ".cython.score-227 {background-color: #FFFF0a;}\n",
       ".cython.score-228 {background-color: #FFFF0a;}\n",
       ".cython.score-229 {background-color: #FFFF0a;}\n",
       ".cython.score-230 {background-color: #FFFF0a;}\n",
       ".cython.score-231 {background-color: #FFFF0a;}\n",
       ".cython.score-232 {background-color: #FFFF0a;}\n",
       ".cython.score-233 {background-color: #FFFF0a;}\n",
       ".cython.score-234 {background-color: #FFFF0a;}\n",
       ".cython.score-235 {background-color: #FFFF0a;}\n",
       ".cython.score-236 {background-color: #FFFF0a;}\n",
       ".cython.score-237 {background-color: #FFFF0a;}\n",
       ".cython.score-238 {background-color: #FFFF0a;}\n",
       ".cython.score-239 {background-color: #FFFF0a;}\n",
       ".cython.score-240 {background-color: #FFFF0a;}\n",
       ".cython.score-241 {background-color: #FFFF0a;}\n",
       ".cython.score-242 {background-color: #FFFF0a;}\n",
       ".cython.score-243 {background-color: #FFFF0a;}\n",
       ".cython.score-244 {background-color: #FFFF0a;}\n",
       ".cython.score-245 {background-color: #FFFF0a;}\n",
       ".cython.score-246 {background-color: #FFFF09;}\n",
       ".cython.score-247 {background-color: #FFFF09;}\n",
       ".cython.score-248 {background-color: #FFFF09;}\n",
       ".cython.score-249 {background-color: #FFFF09;}\n",
       ".cython.score-250 {background-color: #FFFF09;}\n",
       ".cython.score-251 {background-color: #FFFF09;}\n",
       ".cython.score-252 {background-color: #FFFF09;}\n",
       ".cython.score-253 {background-color: #FFFF09;}\n",
       ".cython.score-254 {background-color: #FFFF09;}\n",
       ".cython .hll { background-color: #ffffcc }\n",
       ".cython  { background: #f8f8f8; }\n",
       ".cython .c { color: #408080; font-style: italic } /* Comment */\n",
       ".cython .err { border: 1px solid #FF0000 } /* Error */\n",
       ".cython .k { color: #008000; font-weight: bold } /* Keyword */\n",
       ".cython .o { color: #666666 } /* Operator */\n",
       ".cython .ch { color: #408080; font-style: italic } /* Comment.Hashbang */\n",
       ".cython .cm { color: #408080; font-style: italic } /* Comment.Multiline */\n",
       ".cython .cp { color: #BC7A00 } /* Comment.Preproc */\n",
       ".cython .cpf { color: #408080; font-style: italic } /* Comment.PreprocFile */\n",
       ".cython .c1 { color: #408080; font-style: italic } /* Comment.Single */\n",
       ".cython .cs { color: #408080; font-style: italic } /* Comment.Special */\n",
       ".cython .gd { color: #A00000 } /* Generic.Deleted */\n",
       ".cython .ge { font-style: italic } /* Generic.Emph */\n",
       ".cython .gr { color: #FF0000 } /* Generic.Error */\n",
       ".cython .gh { color: #000080; font-weight: bold } /* Generic.Heading */\n",
       ".cython .gi { color: #00A000 } /* Generic.Inserted */\n",
       ".cython .go { color: #888888 } /* Generic.Output */\n",
       ".cython .gp { color: #000080; font-weight: bold } /* Generic.Prompt */\n",
       ".cython .gs { font-weight: bold } /* Generic.Strong */\n",
       ".cython .gu { color: #800080; font-weight: bold } /* Generic.Subheading */\n",
       ".cython .gt { color: #0044DD } /* Generic.Traceback */\n",
       ".cython .kc { color: #008000; font-weight: bold } /* Keyword.Constant */\n",
       ".cython .kd { color: #008000; font-weight: bold } /* Keyword.Declaration */\n",
       ".cython .kn { color: #008000; font-weight: bold } /* Keyword.Namespace */\n",
       ".cython .kp { color: #008000 } /* Keyword.Pseudo */\n",
       ".cython .kr { color: #008000; font-weight: bold } /* Keyword.Reserved */\n",
       ".cython .kt { color: #B00040 } /* Keyword.Type */\n",
       ".cython .m { color: #666666 } /* Literal.Number */\n",
       ".cython .s { color: #BA2121 } /* Literal.String */\n",
       ".cython .na { color: #7D9029 } /* Name.Attribute */\n",
       ".cython .nb { color: #008000 } /* Name.Builtin */\n",
       ".cython .nc { color: #0000FF; font-weight: bold } /* Name.Class */\n",
       ".cython .no { color: #880000 } /* Name.Constant */\n",
       ".cython .nd { color: #AA22FF } /* Name.Decorator */\n",
       ".cython .ni { color: #999999; font-weight: bold } /* Name.Entity */\n",
       ".cython .ne { color: #D2413A; font-weight: bold } /* Name.Exception */\n",
       ".cython .nf { color: #0000FF } /* Name.Function */\n",
       ".cython .nl { color: #A0A000 } /* Name.Label */\n",
       ".cython .nn { color: #0000FF; font-weight: bold } /* Name.Namespace */\n",
       ".cython .nt { color: #008000; font-weight: bold } /* Name.Tag */\n",
       ".cython .nv { color: #19177C } /* Name.Variable */\n",
       ".cython .ow { color: #AA22FF; font-weight: bold } /* Operator.Word */\n",
       ".cython .w { color: #bbbbbb } /* Text.Whitespace */\n",
       ".cython .mb { color: #666666 } /* Literal.Number.Bin */\n",
       ".cython .mf { color: #666666 } /* Literal.Number.Float */\n",
       ".cython .mh { color: #666666 } /* Literal.Number.Hex */\n",
       ".cython .mi { color: #666666 } /* Literal.Number.Integer */\n",
       ".cython .mo { color: #666666 } /* Literal.Number.Oct */\n",
       ".cython .sa { color: #BA2121 } /* Literal.String.Affix */\n",
       ".cython .sb { color: #BA2121 } /* Literal.String.Backtick */\n",
       ".cython .sc { color: #BA2121 } /* Literal.String.Char */\n",
       ".cython .dl { color: #BA2121 } /* Literal.String.Delimiter */\n",
       ".cython .sd { color: #BA2121; font-style: italic } /* Literal.String.Doc */\n",
       ".cython .s2 { color: #BA2121 } /* Literal.String.Double */\n",
       ".cython .se { color: #BB6622; font-weight: bold } /* Literal.String.Escape */\n",
       ".cython .sh { color: #BA2121 } /* Literal.String.Heredoc */\n",
       ".cython .si { color: #BB6688; font-weight: bold } /* Literal.String.Interpol */\n",
       ".cython .sx { color: #008000 } /* Literal.String.Other */\n",
       ".cython .sr { color: #BB6688 } /* Literal.String.Regex */\n",
       ".cython .s1 { color: #BA2121 } /* Literal.String.Single */\n",
       ".cython .ss { color: #19177C } /* Literal.String.Symbol */\n",
       ".cython .bp { color: #008000 } /* Name.Builtin.Pseudo */\n",
       ".cython .fm { color: #0000FF } /* Name.Function.Magic */\n",
       ".cython .vc { color: #19177C } /* Name.Variable.Class */\n",
       ".cython .vg { color: #19177C } /* Name.Variable.Global */\n",
       ".cython .vi { color: #19177C } /* Name.Variable.Instance */\n",
       ".cython .vm { color: #19177C } /* Name.Variable.Magic */\n",
       ".cython .il { color: #666666 } /* Literal.Number.Integer.Long */\n",
       "    </style>\n",
       "    <script>\n",
       "    function toggleDiv(id) {\n",
       "        theDiv = id.nextElementSibling\n",
       "        if (theDiv.style.display != 'block') theDiv.style.display = 'block';\n",
       "        else theDiv.style.display = 'none';\n",
       "    }\n",
       "    </script>\n",
       "</head>\n",
       "<body class=\"cython\">\n",
       "<p><span style=\"border-bottom: solid 1px grey;\">Generated by Cython 0.26</span></p>\n",
       "<p>\n",
       "    <span style=\"background-color: #FFFF00\">Yellow lines</span> hint at Python interaction.<br />\n",
       "    Click on a line that starts with a \"<code>+</code>\" to see the C code that Cython generated for it.\n",
       "</p>\n",
       "<div class=\"cython\"><pre class=\"cython line score-19\" onclick='toggleDiv(this)'>+<span class=\"\">01</span>: <span class=\"k\">import</span> <span class=\"nn\">numpy</span> <span class=\"k\">as</span> <span class=\"nn\">np</span></pre>\n",
       "<pre class='cython code score-19 '>  __pyx_t_1 = <span class='pyx_c_api'>__Pyx_Import</span>(__pyx_n_s_numpy, 0, -1); if (unlikely(!__pyx_t_1)) __PYX_ERR(0, 1, __pyx_L1_error)\n",
       "  <span class='refnanny'>__Pyx_GOTREF</span>(__pyx_t_1);\n",
       "  if (<span class='py_c_api'>PyDict_SetItem</span>(__pyx_d, __pyx_n_s_np, __pyx_t_1) &lt; 0) __PYX_ERR(0, 1, __pyx_L1_error)\n",
       "  <span class='pyx_macro_api'>__Pyx_DECREF</span>(__pyx_t_1); __pyx_t_1 = 0;\n",
       "/* … */\n",
       "  __pyx_t_1 = <span class='py_c_api'>PyDict_New</span>(); if (unlikely(!__pyx_t_1)) __PYX_ERR(0, 1, __pyx_L1_error)\n",
       "  <span class='refnanny'>__Pyx_GOTREF</span>(__pyx_t_1);\n",
       "  if (<span class='py_c_api'>PyDict_SetItem</span>(__pyx_d, __pyx_n_s_test, __pyx_t_1) &lt; 0) __PYX_ERR(0, 1, __pyx_L1_error)\n",
       "  <span class='pyx_macro_api'>__Pyx_DECREF</span>(__pyx_t_1); __pyx_t_1 = 0;\n",
       "</pre><pre class=\"cython line score-0\">&#xA0;<span class=\"\">02</span>: <span class=\"k\">cimport</span> <span class=\"nn\">numpy</span> <span class=\"k\">as</span> <span class=\"nn\">np</span></pre>\n",
       "<pre class=\"cython line score-0\">&#xA0;<span class=\"\">03</span>: <span class=\"k\">cimport</span> <span class=\"nn\">cython</span></pre>\n",
       "<pre class=\"cython line score-0\">&#xA0;<span class=\"\">04</span>: </pre>\n",
       "<pre class=\"cython line score-0\">&#xA0;<span class=\"\">05</span>: <span class=\"nd\">@cython</span><span class=\"o\">.</span><span class=\"n\">boundscheck</span><span class=\"p\">(</span><span class=\"bp\">False</span><span class=\"p\">)</span> <span class=\"c\"># turn off bounds-checking for entire function</span></pre>\n",
       "<pre class=\"cython line score-0\">&#xA0;<span class=\"\">06</span>: <span class=\"nd\">@cython</span><span class=\"o\">.</span><span class=\"n\">wraparound</span><span class=\"p\">(</span><span class=\"bp\">False</span><span class=\"p\">)</span>  <span class=\"c\"># turn off negative index wrapping for entire function</span></pre>\n",
       "<pre class=\"cython line score-0\">&#xA0;<span class=\"\">07</span>: <span class=\"nd\">@cython</span><span class=\"o\">.</span><span class=\"n\">cdivision</span><span class=\"p\">(</span><span class=\"bp\">True</span><span class=\"p\">)</span> <span class=\"c\"># turn off division by zero checking for entire function</span></pre>\n",
       "<pre class=\"cython line score-48\" onclick='toggleDiv(this)'>+<span class=\"\">08</span>: <span class=\"k\">def</span> <span class=\"nf\">cython_periodify</span><span class=\"p\">(</span></pre>\n",
       "<pre class='cython code score-48 '>/* Python wrapper */\n",
       "static PyObject *__pyx_pw_46_cython_magic_b0fa00b67fd674d7e8dd3f97299c9047_1cython_periodify(PyObject *__pyx_self, PyObject *__pyx_args, PyObject *__pyx_kwds); /*proto*/\n",
       "static PyMethodDef __pyx_mdef_46_cython_magic_b0fa00b67fd674d7e8dd3f97299c9047_1cython_periodify = {\"cython_periodify\", (PyCFunction)__pyx_pw_46_cython_magic_b0fa00b67fd674d7e8dd3f97299c9047_1cython_periodify, METH_VARARGS|METH_KEYWORDS, 0};\n",
       "static PyObject *__pyx_pw_46_cython_magic_b0fa00b67fd674d7e8dd3f97299c9047_1cython_periodify(PyObject *__pyx_self, PyObject *__pyx_args, PyObject *__pyx_kwds) {\n",
       "  PyArrayObject *__pyx_v_u = 0;\n",
       "  PyArrayObject *__pyx_v_v = 0;\n",
       "  PyObject *__pyx_v_periods = 0;\n",
       "  PyObject *__pyx_r = 0;\n",
       "  <span class='refnanny'>__Pyx_RefNannyDeclarations</span>\n",
       "  <span class='refnanny'>__Pyx_RefNannySetupContext</span>(\"cython_periodify (wrapper)\", 0);\n",
       "  {\n",
       "    static PyObject **__pyx_pyargnames[] = {&amp;__pyx_n_s_u,&amp;__pyx_n_s_v,&amp;__pyx_n_s_periods,0};\n",
       "    PyObject* values[3] = {0,0,0};\n",
       "/* … */\n",
       "  /* function exit code */\n",
       "  goto __pyx_L0;\n",
       "  __pyx_L1_error:;\n",
       "  __pyx_r = NULL;\n",
       "  __pyx_L0:;\n",
       "  <span class='refnanny'>__Pyx_RefNannyFinishContext</span>();\n",
       "  return __pyx_r;\n",
       "}\n",
       "\n",
       "static PyObject *__pyx_pf_46_cython_magic_b0fa00b67fd674d7e8dd3f97299c9047_cython_periodify(CYTHON_UNUSED PyObject *__pyx_self, PyArrayObject *__pyx_v_u, PyArrayObject *__pyx_v_v, PyObject *__pyx_v_periods) {\n",
       "  PyArrayObject *__pyx_v_diff = 0;\n",
       "  PyArrayObject *__pyx_v_pers = 0;\n",
       "  PyArrayObject *__pyx_v_half = 0;\n",
       "  int __pyx_v_i;\n",
       "  int __pyx_v_j;\n",
       "  float __pyx_v_d;\n",
       "  float __pyx_v_h;\n",
       "  float __pyx_v_p;\n",
       "  __Pyx_LocalBuf_ND __pyx_pybuffernd_diff;\n",
       "  __Pyx_Buffer __pyx_pybuffer_diff;\n",
       "  __Pyx_LocalBuf_ND __pyx_pybuffernd_half;\n",
       "  __Pyx_Buffer __pyx_pybuffer_half;\n",
       "  __Pyx_LocalBuf_ND __pyx_pybuffernd_pers;\n",
       "  __Pyx_Buffer __pyx_pybuffer_pers;\n",
       "  __Pyx_LocalBuf_ND __pyx_pybuffernd_u;\n",
       "  __Pyx_Buffer __pyx_pybuffer_u;\n",
       "  __Pyx_LocalBuf_ND __pyx_pybuffernd_v;\n",
       "  __Pyx_Buffer __pyx_pybuffer_v;\n",
       "  PyObject *__pyx_r = NULL;\n",
       "  <span class='refnanny'>__Pyx_RefNannyDeclarations</span>\n",
       "  <span class='refnanny'>__Pyx_RefNannySetupContext</span>(\"cython_periodify\", 0);\n",
       "  __pyx_pybuffer_diff.pybuffer.buf = NULL;\n",
       "  __pyx_pybuffer_diff.refcount = 0;\n",
       "  __pyx_pybuffernd_diff.data = NULL;\n",
       "  __pyx_pybuffernd_diff.rcbuffer = &amp;__pyx_pybuffer_diff;\n",
       "  __pyx_pybuffer_pers.pybuffer.buf = NULL;\n",
       "  __pyx_pybuffer_pers.refcount = 0;\n",
       "  __pyx_pybuffernd_pers.data = NULL;\n",
       "  __pyx_pybuffernd_pers.rcbuffer = &amp;__pyx_pybuffer_pers;\n",
       "  __pyx_pybuffer_half.pybuffer.buf = NULL;\n",
       "  __pyx_pybuffer_half.refcount = 0;\n",
       "  __pyx_pybuffernd_half.data = NULL;\n",
       "  __pyx_pybuffernd_half.rcbuffer = &amp;__pyx_pybuffer_half;\n",
       "  __pyx_pybuffer_u.pybuffer.buf = NULL;\n",
       "  __pyx_pybuffer_u.refcount = 0;\n",
       "  __pyx_pybuffernd_u.data = NULL;\n",
       "  __pyx_pybuffernd_u.rcbuffer = &amp;__pyx_pybuffer_u;\n",
       "  __pyx_pybuffer_v.pybuffer.buf = NULL;\n",
       "  __pyx_pybuffer_v.refcount = 0;\n",
       "  __pyx_pybuffernd_v.data = NULL;\n",
       "  __pyx_pybuffernd_v.rcbuffer = &amp;__pyx_pybuffer_v;\n",
       "  {\n",
       "    __Pyx_BufFmt_StackElem __pyx_stack[1];\n",
       "    if (unlikely(<span class='pyx_c_api'>__Pyx_GetBufferAndValidate</span>(&amp;__pyx_pybuffernd_u.rcbuffer-&gt;pybuffer, (PyObject*)__pyx_v_u, &amp;__Pyx_TypeInfo_nn___pyx_t_5numpy_float64_t, PyBUF_FORMAT| PyBUF_STRIDES, 2, 0, __pyx_stack) == -1)) __PYX_ERR(0, 8, __pyx_L1_error)\n",
       "  }\n",
       "  __pyx_pybuffernd_u.diminfo[0].strides = __pyx_pybuffernd_u.rcbuffer-&gt;pybuffer.strides[0]; __pyx_pybuffernd_u.diminfo[0].shape = __pyx_pybuffernd_u.rcbuffer-&gt;pybuffer.shape[0]; __pyx_pybuffernd_u.diminfo[1].strides = __pyx_pybuffernd_u.rcbuffer-&gt;pybuffer.strides[1]; __pyx_pybuffernd_u.diminfo[1].shape = __pyx_pybuffernd_u.rcbuffer-&gt;pybuffer.shape[1];\n",
       "  {\n",
       "    __Pyx_BufFmt_StackElem __pyx_stack[1];\n",
       "    if (unlikely(<span class='pyx_c_api'>__Pyx_GetBufferAndValidate</span>(&amp;__pyx_pybuffernd_v.rcbuffer-&gt;pybuffer, (PyObject*)__pyx_v_v, &amp;__Pyx_TypeInfo_nn___pyx_t_5numpy_float64_t, PyBUF_FORMAT| PyBUF_STRIDES, 2, 0, __pyx_stack) == -1)) __PYX_ERR(0, 8, __pyx_L1_error)\n",
       "  }\n",
       "  __pyx_pybuffernd_v.diminfo[0].strides = __pyx_pybuffernd_v.rcbuffer-&gt;pybuffer.strides[0]; __pyx_pybuffernd_v.diminfo[0].shape = __pyx_pybuffernd_v.rcbuffer-&gt;pybuffer.shape[0]; __pyx_pybuffernd_v.diminfo[1].strides = __pyx_pybuffernd_v.rcbuffer-&gt;pybuffer.strides[1]; __pyx_pybuffernd_v.diminfo[1].shape = __pyx_pybuffernd_v.rcbuffer-&gt;pybuffer.shape[1];\n",
       "/* … */\n",
       "  /* function exit code */\n",
       "  __pyx_L1_error:;\n",
       "  <span class='pyx_macro_api'>__Pyx_XDECREF</span>(__pyx_t_3);\n",
       "  <span class='pyx_macro_api'>__Pyx_XDECREF</span>(__pyx_t_5);\n",
       "  <span class='pyx_macro_api'>__Pyx_XDECREF</span>(__pyx_t_6);\n",
       "  <span class='pyx_macro_api'>__Pyx_XDECREF</span>(__pyx_t_7);\n",
       "  { PyObject *__pyx_type, *__pyx_value, *__pyx_tb;\n",
       "    __Pyx_PyThreadState_declare\n",
       "    __Pyx_PyThreadState_assign\n",
       "    <span class='pyx_c_api'>__Pyx_ErrFetch</span>(&amp;__pyx_type, &amp;__pyx_value, &amp;__pyx_tb);\n",
       "    <span class='pyx_c_api'>__Pyx_SafeReleaseBuffer</span>(&amp;__pyx_pybuffernd_diff.rcbuffer-&gt;pybuffer);\n",
       "    <span class='pyx_c_api'>__Pyx_SafeReleaseBuffer</span>(&amp;__pyx_pybuffernd_half.rcbuffer-&gt;pybuffer);\n",
       "    <span class='pyx_c_api'>__Pyx_SafeReleaseBuffer</span>(&amp;__pyx_pybuffernd_pers.rcbuffer-&gt;pybuffer);\n",
       "    <span class='pyx_c_api'>__Pyx_SafeReleaseBuffer</span>(&amp;__pyx_pybuffernd_u.rcbuffer-&gt;pybuffer);\n",
       "    <span class='pyx_c_api'>__Pyx_SafeReleaseBuffer</span>(&amp;__pyx_pybuffernd_v.rcbuffer-&gt;pybuffer);\n",
       "  <span class='pyx_c_api'>__Pyx_ErrRestore</span>(__pyx_type, __pyx_value, __pyx_tb);}\n",
       "  <span class='pyx_c_api'>__Pyx_AddTraceback</span>(\"_cython_magic_b0fa00b67fd674d7e8dd3f97299c9047.cython_periodify\", __pyx_clineno, __pyx_lineno, __pyx_filename);\n",
       "  __pyx_r = NULL;\n",
       "  goto __pyx_L2;\n",
       "  __pyx_L0:;\n",
       "  <span class='pyx_c_api'>__Pyx_SafeReleaseBuffer</span>(&amp;__pyx_pybuffernd_diff.rcbuffer-&gt;pybuffer);\n",
       "  <span class='pyx_c_api'>__Pyx_SafeReleaseBuffer</span>(&amp;__pyx_pybuffernd_half.rcbuffer-&gt;pybuffer);\n",
       "  <span class='pyx_c_api'>__Pyx_SafeReleaseBuffer</span>(&amp;__pyx_pybuffernd_pers.rcbuffer-&gt;pybuffer);\n",
       "  <span class='pyx_c_api'>__Pyx_SafeReleaseBuffer</span>(&amp;__pyx_pybuffernd_u.rcbuffer-&gt;pybuffer);\n",
       "  <span class='pyx_c_api'>__Pyx_SafeReleaseBuffer</span>(&amp;__pyx_pybuffernd_v.rcbuffer-&gt;pybuffer);\n",
       "  __pyx_L2:;\n",
       "  <span class='pyx_macro_api'>__Pyx_XDECREF</span>((PyObject *)__pyx_v_diff);\n",
       "  <span class='pyx_macro_api'>__Pyx_XDECREF</span>((PyObject *)__pyx_v_pers);\n",
       "  <span class='pyx_macro_api'>__Pyx_XDECREF</span>((PyObject *)__pyx_v_half);\n",
       "  <span class='refnanny'>__Pyx_XGIVEREF</span>(__pyx_r);\n",
       "  <span class='refnanny'>__Pyx_RefNannyFinishContext</span>();\n",
       "  return __pyx_r;\n",
       "}\n",
       "/* … */\n",
       "  __pyx_tuple__10 = <span class='py_c_api'>PyTuple_Pack</span>(11, __pyx_n_s_u, __pyx_n_s_v, __pyx_n_s_periods, __pyx_n_s_diff, __pyx_n_s_pers, __pyx_n_s_half, __pyx_n_s_i, __pyx_n_s_j, __pyx_n_s_d, __pyx_n_s_h, __pyx_n_s_p); if (unlikely(!__pyx_tuple__10)) __PYX_ERR(0, 8, __pyx_L1_error)\n",
       "  <span class='refnanny'>__Pyx_GOTREF</span>(__pyx_tuple__10);\n",
       "  <span class='refnanny'>__Pyx_GIVEREF</span>(__pyx_tuple__10);\n",
       "/* … */\n",
       "  __pyx_t_1 = PyCFunction_NewEx(&amp;__pyx_mdef_46_cython_magic_b0fa00b67fd674d7e8dd3f97299c9047_1cython_periodify, NULL, __pyx_n_s_cython_magic_b0fa00b67fd674d7e8); if (unlikely(!__pyx_t_1)) __PYX_ERR(0, 8, __pyx_L1_error)\n",
       "  <span class='refnanny'>__Pyx_GOTREF</span>(__pyx_t_1);\n",
       "  if (<span class='py_c_api'>PyDict_SetItem</span>(__pyx_d, __pyx_n_s_cython_periodify, __pyx_t_1) &lt; 0) __PYX_ERR(0, 8, __pyx_L1_error)\n",
       "  <span class='pyx_macro_api'>__Pyx_DECREF</span>(__pyx_t_1); __pyx_t_1 = 0;\n",
       "</pre><pre class=\"cython line score-0\">&#xA0;<span class=\"\">09</span>:     <span class=\"n\">np</span><span class=\"o\">.</span><span class=\"n\">ndarray</span><span class=\"p\">[</span><span class=\"n\">np</span><span class=\"o\">.</span><span class=\"n\">float64_t</span><span class=\"p\">,</span> <span class=\"n\">ndim</span><span class=\"o\">=</span><span class=\"mf\">2</span><span class=\"p\">]</span> <span class=\"n\">u</span><span class=\"p\">,</span></pre>\n",
       "<pre class=\"cython line score-0\">&#xA0;<span class=\"\">10</span>:     <span class=\"n\">np</span><span class=\"o\">.</span><span class=\"n\">ndarray</span><span class=\"p\">[</span><span class=\"n\">np</span><span class=\"o\">.</span><span class=\"n\">float64_t</span><span class=\"p\">,</span> <span class=\"n\">ndim</span><span class=\"o\">=</span><span class=\"mf\">2</span><span class=\"p\">]</span> <span class=\"n\">v</span><span class=\"p\">,</span></pre>\n",
       "<pre class=\"cython line score-41\" onclick='toggleDiv(this)'>+<span class=\"\">11</span>:     <span class=\"n\">periods</span><span class=\"o\">=</span><span class=\"bp\">None</span></pre>\n",
       "<pre class='cython code score-41 '>    values[2] = ((PyObject *)Py_None);\n",
       "    if (unlikely(__pyx_kwds)) {\n",
       "      Py_ssize_t kw_args;\n",
       "      const Py_ssize_t pos_args = <span class='py_macro_api'>PyTuple_GET_SIZE</span>(__pyx_args);\n",
       "      switch (pos_args) {\n",
       "        case  3: values[2] = <span class='py_macro_api'>PyTuple_GET_ITEM</span>(__pyx_args, 2);\n",
       "        CYTHON_FALLTHROUGH;\n",
       "        case  2: values[1] = <span class='py_macro_api'>PyTuple_GET_ITEM</span>(__pyx_args, 1);\n",
       "        CYTHON_FALLTHROUGH;\n",
       "        case  1: values[0] = <span class='py_macro_api'>PyTuple_GET_ITEM</span>(__pyx_args, 0);\n",
       "        CYTHON_FALLTHROUGH;\n",
       "        case  0: break;\n",
       "        default: goto __pyx_L5_argtuple_error;\n",
       "      }\n",
       "      kw_args = <span class='py_c_api'>PyDict_Size</span>(__pyx_kwds);\n",
       "      switch (pos_args) {\n",
       "        case  0:\n",
       "        if (likely((values[0] = <span class='py_c_api'>PyDict_GetItem</span>(__pyx_kwds, __pyx_n_s_u)) != 0)) kw_args--;\n",
       "        else goto __pyx_L5_argtuple_error;\n",
       "        CYTHON_FALLTHROUGH;\n",
       "        case  1:\n",
       "        if (likely((values[1] = <span class='py_c_api'>PyDict_GetItem</span>(__pyx_kwds, __pyx_n_s_v)) != 0)) kw_args--;\n",
       "        else {\n",
       "          <span class='pyx_c_api'>__Pyx_RaiseArgtupleInvalid</span>(\"cython_periodify\", 0, 2, 3, 1); __PYX_ERR(0, 8, __pyx_L3_error)\n",
       "        }\n",
       "        CYTHON_FALLTHROUGH;\n",
       "        case  2:\n",
       "        if (kw_args &gt; 0) {\n",
       "          PyObject* value = <span class='py_c_api'>PyDict_GetItem</span>(__pyx_kwds, __pyx_n_s_periods);\n",
       "          if (value) { values[2] = value; kw_args--; }\n",
       "        }\n",
       "      }\n",
       "      if (unlikely(kw_args &gt; 0)) {\n",
       "        if (unlikely(<span class='pyx_c_api'>__Pyx_ParseOptionalKeywords</span>(__pyx_kwds, __pyx_pyargnames, 0, values, pos_args, \"cython_periodify\") &lt; 0)) __PYX_ERR(0, 8, __pyx_L3_error)\n",
       "      }\n",
       "    } else {\n",
       "      switch (<span class='py_macro_api'>PyTuple_GET_SIZE</span>(__pyx_args)) {\n",
       "        case  3: values[2] = <span class='py_macro_api'>PyTuple_GET_ITEM</span>(__pyx_args, 2);\n",
       "        CYTHON_FALLTHROUGH;\n",
       "        case  2: values[1] = <span class='py_macro_api'>PyTuple_GET_ITEM</span>(__pyx_args, 1);\n",
       "        values[0] = <span class='py_macro_api'>PyTuple_GET_ITEM</span>(__pyx_args, 0);\n",
       "        break;\n",
       "        default: goto __pyx_L5_argtuple_error;\n",
       "      }\n",
       "    }\n",
       "    __pyx_v_u = ((PyArrayObject *)values[0]);\n",
       "    __pyx_v_v = ((PyArrayObject *)values[1]);\n",
       "    __pyx_v_periods = values[2];\n",
       "  }\n",
       "  goto __pyx_L4_argument_unpacking_done;\n",
       "  __pyx_L5_argtuple_error:;\n",
       "  <span class='pyx_c_api'>__Pyx_RaiseArgtupleInvalid</span>(\"cython_periodify\", 0, 2, 3, <span class='py_macro_api'>PyTuple_GET_SIZE</span>(__pyx_args)); __PYX_ERR(0, 8, __pyx_L3_error)\n",
       "  __pyx_L3_error:;\n",
       "  <span class='pyx_c_api'>__Pyx_AddTraceback</span>(\"_cython_magic_b0fa00b67fd674d7e8dd3f97299c9047.cython_periodify\", __pyx_clineno, __pyx_lineno, __pyx_filename);\n",
       "  <span class='refnanny'>__Pyx_RefNannyFinishContext</span>();\n",
       "  return NULL;\n",
       "  __pyx_L4_argument_unpacking_done:;\n",
       "  if (unlikely(!<span class='pyx_c_api'>__Pyx_ArgTypeTest</span>(((PyObject *)__pyx_v_u), __pyx_ptype_5numpy_ndarray, 1, \"u\", 0))) __PYX_ERR(0, 9, __pyx_L1_error)\n",
       "  if (unlikely(!<span class='pyx_c_api'>__Pyx_ArgTypeTest</span>(((PyObject *)__pyx_v_v), __pyx_ptype_5numpy_ndarray, 1, \"v\", 0))) __PYX_ERR(0, 10, __pyx_L1_error)\n",
       "  __pyx_r = __pyx_pf_46_cython_magic_b0fa00b67fd674d7e8dd3f97299c9047_cython_periodify(__pyx_self, __pyx_v_u, __pyx_v_v, __pyx_v_periods);\n",
       "</pre><pre class=\"cython line score-0\">&#xA0;<span class=\"\">12</span>: <span class=\"p\">):</span></pre>\n",
       "<pre class=\"cython line score-5\" onclick='toggleDiv(this)'>+<span class=\"\">13</span>:     <span class=\"k\">assert</span> <span class=\"n\">u</span><span class=\"o\">.</span><span class=\"n\">shape</span><span class=\"p\">[</span><span class=\"mf\">0</span><span class=\"p\">]</span> <span class=\"o\">==</span> <span class=\"n\">v</span><span class=\"o\">.</span><span class=\"n\">shape</span><span class=\"p\">[</span><span class=\"mf\">0</span><span class=\"p\">]</span></pre>\n",
       "<pre class='cython code score-5 '>  #ifndef CYTHON_WITHOUT_ASSERTIONS\n",
       "  if (unlikely(!Py_OptimizeFlag)) {\n",
       "    if (unlikely(!(((__pyx_v_u-&gt;dimensions[0]) == (__pyx_v_v-&gt;dimensions[0])) != 0))) {\n",
       "      <span class='py_c_api'>PyErr_SetNone</span>(PyExc_AssertionError);\n",
       "      __PYX_ERR(0, 13, __pyx_L1_error)\n",
       "    }\n",
       "  }\n",
       "  #endif\n",
       "</pre><pre class=\"cython line score-5\" onclick='toggleDiv(this)'>+<span class=\"\">14</span>:     <span class=\"k\">assert</span> <span class=\"n\">u</span><span class=\"o\">.</span><span class=\"n\">shape</span><span class=\"p\">[</span><span class=\"mf\">1</span><span class=\"p\">]</span> <span class=\"o\">==</span> <span class=\"n\">v</span><span class=\"o\">.</span><span class=\"n\">shape</span><span class=\"p\">[</span><span class=\"mf\">1</span><span class=\"p\">]</span></pre>\n",
       "<pre class='cython code score-5 '>  #ifndef CYTHON_WITHOUT_ASSERTIONS\n",
       "  if (unlikely(!Py_OptimizeFlag)) {\n",
       "    if (unlikely(!(((__pyx_v_u-&gt;dimensions[1]) == (__pyx_v_v-&gt;dimensions[1])) != 0))) {\n",
       "      <span class='py_c_api'>PyErr_SetNone</span>(PyExc_AssertionError);\n",
       "      __PYX_ERR(0, 14, __pyx_L1_error)\n",
       "    }\n",
       "  }\n",
       "  #endif\n",
       "</pre><pre class=\"cython line score-0\">&#xA0;<span class=\"\">15</span>:     <span class=\"c\">#cdef np.ndarray[np.float64_t, ndim=2] diff = v - u</span></pre>\n",
       "<pre class=\"cython line score-0\" onclick='toggleDiv(this)'>+<span class=\"\">16</span>:     <span class=\"k\">if</span> <span class=\"n\">periods</span> <span class=\"ow\">is</span> <span class=\"bp\">None</span><span class=\"p\">:</span></pre>\n",
       "<pre class='cython code score-0 '>  __pyx_t_1 = (__pyx_v_periods == Py_None);\n",
       "  __pyx_t_2 = (__pyx_t_1 != 0);\n",
       "  if (__pyx_t_2) {\n",
       "/* … */\n",
       "  }\n",
       "</pre><pre class=\"cython line score-6\" onclick='toggleDiv(this)'>+<span class=\"\">17</span>:         <span class=\"k\">return</span> <span class=\"n\">v</span> <span class=\"o\">-</span> <span class=\"n\">u</span></pre>\n",
       "<pre class='cython code score-6 '>    <span class='pyx_macro_api'>__Pyx_XDECREF</span>(__pyx_r);\n",
       "    __pyx_t_3 = <span class='py_c_api'>PyNumber_Subtract</span>(((PyObject *)__pyx_v_v), ((PyObject *)__pyx_v_u)); if (unlikely(!__pyx_t_3)) __PYX_ERR(0, 17, __pyx_L1_error)\n",
       "    <span class='refnanny'>__Pyx_GOTREF</span>(__pyx_t_3);\n",
       "    __pyx_r = __pyx_t_3;\n",
       "    __pyx_t_3 = 0;\n",
       "    goto __pyx_L0;\n",
       "</pre><pre class=\"cython line score-10\" onclick='toggleDiv(this)'>+<span class=\"\">18</span>:     <span class=\"k\">assert</span> <span class=\"nb\">len</span><span class=\"p\">(</span><span class=\"n\">periods</span><span class=\"p\">)</span> <span class=\"o\">==</span> <span class=\"n\">u</span><span class=\"o\">.</span><span class=\"n\">shape</span><span class=\"p\">[</span><span class=\"mf\">1</span><span class=\"p\">]</span></pre>\n",
       "<pre class='cython code score-10 '>  #ifndef CYTHON_WITHOUT_ASSERTIONS\n",
       "  if (unlikely(!Py_OptimizeFlag)) {\n",
       "    __pyx_t_4 = <span class='py_c_api'>PyObject_Length</span>(__pyx_v_periods); if (unlikely(__pyx_t_4 == -1)) __PYX_ERR(0, 18, __pyx_L1_error)\n",
       "    if (unlikely(!((__pyx_t_4 == (__pyx_v_u-&gt;dimensions[1])) != 0))) {\n",
       "      <span class='py_c_api'>PyErr_SetNone</span>(PyExc_AssertionError);\n",
       "      __PYX_ERR(0, 18, __pyx_L1_error)\n",
       "    }\n",
       "  }\n",
       "  #endif\n",
       "</pre><pre class=\"cython line score-47\" onclick='toggleDiv(this)'>+<span class=\"\">19</span>:     <span class=\"k\">cdef</span> <span class=\"kt\">np</span>.<span class=\"kt\">ndarray</span>[<span class=\"kt\">np</span>.<span class=\"nf\">float64_t</span><span class=\"p\">,</span> <span class=\"nf\">ndim</span><span class=\"o\">=</span><span class=\"mf\">2</span><span class=\"p\">]</span> <span class=\"n\">diff</span> <span class=\"o\">=</span> <span class=\"n\">np</span><span class=\"o\">.</span><span class=\"n\">zeros_like</span><span class=\"p\">(</span><span class=\"n\">u</span><span class=\"p\">)</span></pre>\n",
       "<pre class='cython code score-47 '>  __pyx_t_5 = <span class='pyx_c_api'>__Pyx_GetModuleGlobalName</span>(__pyx_n_s_np); if (unlikely(!__pyx_t_5)) __PYX_ERR(0, 19, __pyx_L1_error)\n",
       "  <span class='refnanny'>__Pyx_GOTREF</span>(__pyx_t_5);\n",
       "  __pyx_t_6 = <span class='pyx_c_api'>__Pyx_PyObject_GetAttrStr</span>(__pyx_t_5, __pyx_n_s_zeros_like); if (unlikely(!__pyx_t_6)) __PYX_ERR(0, 19, __pyx_L1_error)\n",
       "  <span class='refnanny'>__Pyx_GOTREF</span>(__pyx_t_6);\n",
       "  <span class='pyx_macro_api'>__Pyx_DECREF</span>(__pyx_t_5); __pyx_t_5 = 0;\n",
       "  __pyx_t_5 = NULL;\n",
       "  if (CYTHON_UNPACK_METHODS &amp;&amp; unlikely(<span class='py_c_api'>PyMethod_Check</span>(__pyx_t_6))) {\n",
       "    __pyx_t_5 = <span class='py_macro_api'>PyMethod_GET_SELF</span>(__pyx_t_6);\n",
       "    if (likely(__pyx_t_5)) {\n",
       "      PyObject* function = <span class='py_macro_api'>PyMethod_GET_FUNCTION</span>(__pyx_t_6);\n",
       "      <span class='pyx_macro_api'>__Pyx_INCREF</span>(__pyx_t_5);\n",
       "      <span class='pyx_macro_api'>__Pyx_INCREF</span>(function);\n",
       "      <span class='pyx_macro_api'>__Pyx_DECREF_SET</span>(__pyx_t_6, function);\n",
       "    }\n",
       "  }\n",
       "  if (!__pyx_t_5) {\n",
       "    __pyx_t_3 = <span class='pyx_c_api'>__Pyx_PyObject_CallOneArg</span>(__pyx_t_6, ((PyObject *)__pyx_v_u)); if (unlikely(!__pyx_t_3)) __PYX_ERR(0, 19, __pyx_L1_error)\n",
       "    <span class='refnanny'>__Pyx_GOTREF</span>(__pyx_t_3);\n",
       "  } else {\n",
       "    #if CYTHON_FAST_PYCALL\n",
       "    if (<span class='py_c_api'>PyFunction_Check</span>(__pyx_t_6)) {\n",
       "      PyObject *__pyx_temp[2] = {__pyx_t_5, ((PyObject *)__pyx_v_u)};\n",
       "      __pyx_t_3 = <span class='pyx_c_api'>__Pyx_PyFunction_FastCall</span>(__pyx_t_6, __pyx_temp+1-1, 1+1); if (unlikely(!__pyx_t_3)) __PYX_ERR(0, 19, __pyx_L1_error)\n",
       "      <span class='pyx_macro_api'>__Pyx_XDECREF</span>(__pyx_t_5); __pyx_t_5 = 0;\n",
       "      <span class='refnanny'>__Pyx_GOTREF</span>(__pyx_t_3);\n",
       "    } else\n",
       "    #endif\n",
       "    #if CYTHON_FAST_PYCCALL\n",
       "    if (<span class='pyx_c_api'>__Pyx_PyFastCFunction_Check</span>(__pyx_t_6)) {\n",
       "      PyObject *__pyx_temp[2] = {__pyx_t_5, ((PyObject *)__pyx_v_u)};\n",
       "      __pyx_t_3 = <span class='pyx_c_api'>__Pyx_PyCFunction_FastCall</span>(__pyx_t_6, __pyx_temp+1-1, 1+1); if (unlikely(!__pyx_t_3)) __PYX_ERR(0, 19, __pyx_L1_error)\n",
       "      <span class='pyx_macro_api'>__Pyx_XDECREF</span>(__pyx_t_5); __pyx_t_5 = 0;\n",
       "      <span class='refnanny'>__Pyx_GOTREF</span>(__pyx_t_3);\n",
       "    } else\n",
       "    #endif\n",
       "    {\n",
       "      __pyx_t_7 = <span class='py_c_api'>PyTuple_New</span>(1+1); if (unlikely(!__pyx_t_7)) __PYX_ERR(0, 19, __pyx_L1_error)\n",
       "      <span class='refnanny'>__Pyx_GOTREF</span>(__pyx_t_7);\n",
       "      <span class='refnanny'>__Pyx_GIVEREF</span>(__pyx_t_5); <span class='py_macro_api'>PyTuple_SET_ITEM</span>(__pyx_t_7, 0, __pyx_t_5); __pyx_t_5 = NULL;\n",
       "      <span class='pyx_macro_api'>__Pyx_INCREF</span>(((PyObject *)__pyx_v_u));\n",
       "      <span class='refnanny'>__Pyx_GIVEREF</span>(((PyObject *)__pyx_v_u));\n",
       "      <span class='py_macro_api'>PyTuple_SET_ITEM</span>(__pyx_t_7, 0+1, ((PyObject *)__pyx_v_u));\n",
       "      __pyx_t_3 = <span class='pyx_c_api'>__Pyx_PyObject_Call</span>(__pyx_t_6, __pyx_t_7, NULL); if (unlikely(!__pyx_t_3)) __PYX_ERR(0, 19, __pyx_L1_error)\n",
       "      <span class='refnanny'>__Pyx_GOTREF</span>(__pyx_t_3);\n",
       "      <span class='pyx_macro_api'>__Pyx_DECREF</span>(__pyx_t_7); __pyx_t_7 = 0;\n",
       "    }\n",
       "  }\n",
       "  <span class='pyx_macro_api'>__Pyx_DECREF</span>(__pyx_t_6); __pyx_t_6 = 0;\n",
       "  if (!(likely(((__pyx_t_3) == Py_None) || likely(<span class='pyx_c_api'>__Pyx_TypeTest</span>(__pyx_t_3, __pyx_ptype_5numpy_ndarray))))) __PYX_ERR(0, 19, __pyx_L1_error)\n",
       "  __pyx_t_8 = ((PyArrayObject *)__pyx_t_3);\n",
       "  {\n",
       "    __Pyx_BufFmt_StackElem __pyx_stack[1];\n",
       "    if (unlikely(<span class='pyx_c_api'>__Pyx_GetBufferAndValidate</span>(&amp;__pyx_pybuffernd_diff.rcbuffer-&gt;pybuffer, (PyObject*)__pyx_t_8, &amp;__Pyx_TypeInfo_nn___pyx_t_5numpy_float64_t, PyBUF_FORMAT| PyBUF_STRIDES| PyBUF_WRITABLE, 2, 0, __pyx_stack) == -1)) {\n",
       "      __pyx_v_diff = ((PyArrayObject *)Py_None); <span class='pyx_macro_api'>__Pyx_INCREF</span>(Py_None); __pyx_pybuffernd_diff.rcbuffer-&gt;pybuffer.buf = NULL;\n",
       "      __PYX_ERR(0, 19, __pyx_L1_error)\n",
       "    } else {__pyx_pybuffernd_diff.diminfo[0].strides = __pyx_pybuffernd_diff.rcbuffer-&gt;pybuffer.strides[0]; __pyx_pybuffernd_diff.diminfo[0].shape = __pyx_pybuffernd_diff.rcbuffer-&gt;pybuffer.shape[0]; __pyx_pybuffernd_diff.diminfo[1].strides = __pyx_pybuffernd_diff.rcbuffer-&gt;pybuffer.strides[1]; __pyx_pybuffernd_diff.diminfo[1].shape = __pyx_pybuffernd_diff.rcbuffer-&gt;pybuffer.shape[1];\n",
       "    }\n",
       "  }\n",
       "  __pyx_t_8 = 0;\n",
       "  __pyx_v_diff = ((PyArrayObject *)__pyx_t_3);\n",
       "  __pyx_t_3 = 0;\n",
       "</pre><pre class=\"cython line score-0\">&#xA0;<span class=\"\">20</span>:     <span class=\"c\">#ensures the largest coordinate is smaller than half a period</span></pre>\n",
       "<pre class=\"cython line score-47\" onclick='toggleDiv(this)'>+<span class=\"\">21</span>:     <span class=\"k\">cdef</span> <span class=\"kt\">np</span>.<span class=\"kt\">ndarray</span>[<span class=\"kt\">np</span>.<span class=\"nf\">float64_t</span><span class=\"p\">,</span> <span class=\"nf\">ndim</span><span class=\"o\">=</span><span class=\"mf\">1</span><span class=\"p\">]</span> <span class=\"n\">pers</span> <span class=\"o\">=</span> <span class=\"n\">np</span><span class=\"o\">.</span><span class=\"n\">array</span><span class=\"p\">(</span><span class=\"n\">periods</span><span class=\"p\">)</span></pre>\n",
       "<pre class='cython code score-47 '>  __pyx_t_6 = <span class='pyx_c_api'>__Pyx_GetModuleGlobalName</span>(__pyx_n_s_np); if (unlikely(!__pyx_t_6)) __PYX_ERR(0, 21, __pyx_L1_error)\n",
       "  <span class='refnanny'>__Pyx_GOTREF</span>(__pyx_t_6);\n",
       "  __pyx_t_7 = <span class='pyx_c_api'>__Pyx_PyObject_GetAttrStr</span>(__pyx_t_6, __pyx_n_s_array); if (unlikely(!__pyx_t_7)) __PYX_ERR(0, 21, __pyx_L1_error)\n",
       "  <span class='refnanny'>__Pyx_GOTREF</span>(__pyx_t_7);\n",
       "  <span class='pyx_macro_api'>__Pyx_DECREF</span>(__pyx_t_6); __pyx_t_6 = 0;\n",
       "  __pyx_t_6 = NULL;\n",
       "  if (CYTHON_UNPACK_METHODS &amp;&amp; unlikely(<span class='py_c_api'>PyMethod_Check</span>(__pyx_t_7))) {\n",
       "    __pyx_t_6 = <span class='py_macro_api'>PyMethod_GET_SELF</span>(__pyx_t_7);\n",
       "    if (likely(__pyx_t_6)) {\n",
       "      PyObject* function = <span class='py_macro_api'>PyMethod_GET_FUNCTION</span>(__pyx_t_7);\n",
       "      <span class='pyx_macro_api'>__Pyx_INCREF</span>(__pyx_t_6);\n",
       "      <span class='pyx_macro_api'>__Pyx_INCREF</span>(function);\n",
       "      <span class='pyx_macro_api'>__Pyx_DECREF_SET</span>(__pyx_t_7, function);\n",
       "    }\n",
       "  }\n",
       "  if (!__pyx_t_6) {\n",
       "    __pyx_t_3 = <span class='pyx_c_api'>__Pyx_PyObject_CallOneArg</span>(__pyx_t_7, __pyx_v_periods); if (unlikely(!__pyx_t_3)) __PYX_ERR(0, 21, __pyx_L1_error)\n",
       "    <span class='refnanny'>__Pyx_GOTREF</span>(__pyx_t_3);\n",
       "  } else {\n",
       "    #if CYTHON_FAST_PYCALL\n",
       "    if (<span class='py_c_api'>PyFunction_Check</span>(__pyx_t_7)) {\n",
       "      PyObject *__pyx_temp[2] = {__pyx_t_6, __pyx_v_periods};\n",
       "      __pyx_t_3 = <span class='pyx_c_api'>__Pyx_PyFunction_FastCall</span>(__pyx_t_7, __pyx_temp+1-1, 1+1); if (unlikely(!__pyx_t_3)) __PYX_ERR(0, 21, __pyx_L1_error)\n",
       "      <span class='pyx_macro_api'>__Pyx_XDECREF</span>(__pyx_t_6); __pyx_t_6 = 0;\n",
       "      <span class='refnanny'>__Pyx_GOTREF</span>(__pyx_t_3);\n",
       "    } else\n",
       "    #endif\n",
       "    #if CYTHON_FAST_PYCCALL\n",
       "    if (<span class='pyx_c_api'>__Pyx_PyFastCFunction_Check</span>(__pyx_t_7)) {\n",
       "      PyObject *__pyx_temp[2] = {__pyx_t_6, __pyx_v_periods};\n",
       "      __pyx_t_3 = <span class='pyx_c_api'>__Pyx_PyCFunction_FastCall</span>(__pyx_t_7, __pyx_temp+1-1, 1+1); if (unlikely(!__pyx_t_3)) __PYX_ERR(0, 21, __pyx_L1_error)\n",
       "      <span class='pyx_macro_api'>__Pyx_XDECREF</span>(__pyx_t_6); __pyx_t_6 = 0;\n",
       "      <span class='refnanny'>__Pyx_GOTREF</span>(__pyx_t_3);\n",
       "    } else\n",
       "    #endif\n",
       "    {\n",
       "      __pyx_t_5 = <span class='py_c_api'>PyTuple_New</span>(1+1); if (unlikely(!__pyx_t_5)) __PYX_ERR(0, 21, __pyx_L1_error)\n",
       "      <span class='refnanny'>__Pyx_GOTREF</span>(__pyx_t_5);\n",
       "      <span class='refnanny'>__Pyx_GIVEREF</span>(__pyx_t_6); <span class='py_macro_api'>PyTuple_SET_ITEM</span>(__pyx_t_5, 0, __pyx_t_6); __pyx_t_6 = NULL;\n",
       "      <span class='pyx_macro_api'>__Pyx_INCREF</span>(__pyx_v_periods);\n",
       "      <span class='refnanny'>__Pyx_GIVEREF</span>(__pyx_v_periods);\n",
       "      <span class='py_macro_api'>PyTuple_SET_ITEM</span>(__pyx_t_5, 0+1, __pyx_v_periods);\n",
       "      __pyx_t_3 = <span class='pyx_c_api'>__Pyx_PyObject_Call</span>(__pyx_t_7, __pyx_t_5, NULL); if (unlikely(!__pyx_t_3)) __PYX_ERR(0, 21, __pyx_L1_error)\n",
       "      <span class='refnanny'>__Pyx_GOTREF</span>(__pyx_t_3);\n",
       "      <span class='pyx_macro_api'>__Pyx_DECREF</span>(__pyx_t_5); __pyx_t_5 = 0;\n",
       "    }\n",
       "  }\n",
       "  <span class='pyx_macro_api'>__Pyx_DECREF</span>(__pyx_t_7); __pyx_t_7 = 0;\n",
       "  if (!(likely(((__pyx_t_3) == Py_None) || likely(<span class='pyx_c_api'>__Pyx_TypeTest</span>(__pyx_t_3, __pyx_ptype_5numpy_ndarray))))) __PYX_ERR(0, 21, __pyx_L1_error)\n",
       "  __pyx_t_9 = ((PyArrayObject *)__pyx_t_3);\n",
       "  {\n",
       "    __Pyx_BufFmt_StackElem __pyx_stack[1];\n",
       "    if (unlikely(<span class='pyx_c_api'>__Pyx_GetBufferAndValidate</span>(&amp;__pyx_pybuffernd_pers.rcbuffer-&gt;pybuffer, (PyObject*)__pyx_t_9, &amp;__Pyx_TypeInfo_nn___pyx_t_5numpy_float64_t, PyBUF_FORMAT| PyBUF_STRIDES, 1, 0, __pyx_stack) == -1)) {\n",
       "      __pyx_v_pers = ((PyArrayObject *)Py_None); <span class='pyx_macro_api'>__Pyx_INCREF</span>(Py_None); __pyx_pybuffernd_pers.rcbuffer-&gt;pybuffer.buf = NULL;\n",
       "      __PYX_ERR(0, 21, __pyx_L1_error)\n",
       "    } else {__pyx_pybuffernd_pers.diminfo[0].strides = __pyx_pybuffernd_pers.rcbuffer-&gt;pybuffer.strides[0]; __pyx_pybuffernd_pers.diminfo[0].shape = __pyx_pybuffernd_pers.rcbuffer-&gt;pybuffer.shape[0];\n",
       "    }\n",
       "  }\n",
       "  __pyx_t_9 = 0;\n",
       "  __pyx_v_pers = ((PyArrayObject *)__pyx_t_3);\n",
       "  __pyx_t_3 = 0;\n",
       "</pre><pre class=\"cython line score-53\" onclick='toggleDiv(this)'>+<span class=\"\">22</span>:     <span class=\"k\">cdef</span> <span class=\"kt\">np</span>.<span class=\"kt\">ndarray</span>[<span class=\"kt\">np</span>.<span class=\"nf\">float64_t</span><span class=\"p\">,</span> <span class=\"nf\">ndim</span><span class=\"o\">=</span><span class=\"mf\">1</span><span class=\"p\">]</span> <span class=\"n\">half</span> <span class=\"o\">=</span> <span class=\"mf\">0.5</span><span class=\"o\">*</span><span class=\"n\">np</span><span class=\"o\">.</span><span class=\"n\">array</span><span class=\"p\">(</span><span class=\"n\">periods</span><span class=\"p\">)</span></pre>\n",
       "<pre class='cython code score-53 '>  __pyx_t_7 = <span class='pyx_c_api'>__Pyx_GetModuleGlobalName</span>(__pyx_n_s_np); if (unlikely(!__pyx_t_7)) __PYX_ERR(0, 22, __pyx_L1_error)\n",
       "  <span class='refnanny'>__Pyx_GOTREF</span>(__pyx_t_7);\n",
       "  __pyx_t_5 = <span class='pyx_c_api'>__Pyx_PyObject_GetAttrStr</span>(__pyx_t_7, __pyx_n_s_array); if (unlikely(!__pyx_t_5)) __PYX_ERR(0, 22, __pyx_L1_error)\n",
       "  <span class='refnanny'>__Pyx_GOTREF</span>(__pyx_t_5);\n",
       "  <span class='pyx_macro_api'>__Pyx_DECREF</span>(__pyx_t_7); __pyx_t_7 = 0;\n",
       "  __pyx_t_7 = NULL;\n",
       "  if (CYTHON_UNPACK_METHODS &amp;&amp; unlikely(<span class='py_c_api'>PyMethod_Check</span>(__pyx_t_5))) {\n",
       "    __pyx_t_7 = <span class='py_macro_api'>PyMethod_GET_SELF</span>(__pyx_t_5);\n",
       "    if (likely(__pyx_t_7)) {\n",
       "      PyObject* function = <span class='py_macro_api'>PyMethod_GET_FUNCTION</span>(__pyx_t_5);\n",
       "      <span class='pyx_macro_api'>__Pyx_INCREF</span>(__pyx_t_7);\n",
       "      <span class='pyx_macro_api'>__Pyx_INCREF</span>(function);\n",
       "      <span class='pyx_macro_api'>__Pyx_DECREF_SET</span>(__pyx_t_5, function);\n",
       "    }\n",
       "  }\n",
       "  if (!__pyx_t_7) {\n",
       "    __pyx_t_3 = <span class='pyx_c_api'>__Pyx_PyObject_CallOneArg</span>(__pyx_t_5, __pyx_v_periods); if (unlikely(!__pyx_t_3)) __PYX_ERR(0, 22, __pyx_L1_error)\n",
       "    <span class='refnanny'>__Pyx_GOTREF</span>(__pyx_t_3);\n",
       "  } else {\n",
       "    #if CYTHON_FAST_PYCALL\n",
       "    if (<span class='py_c_api'>PyFunction_Check</span>(__pyx_t_5)) {\n",
       "      PyObject *__pyx_temp[2] = {__pyx_t_7, __pyx_v_periods};\n",
       "      __pyx_t_3 = <span class='pyx_c_api'>__Pyx_PyFunction_FastCall</span>(__pyx_t_5, __pyx_temp+1-1, 1+1); if (unlikely(!__pyx_t_3)) __PYX_ERR(0, 22, __pyx_L1_error)\n",
       "      <span class='pyx_macro_api'>__Pyx_XDECREF</span>(__pyx_t_7); __pyx_t_7 = 0;\n",
       "      <span class='refnanny'>__Pyx_GOTREF</span>(__pyx_t_3);\n",
       "    } else\n",
       "    #endif\n",
       "    #if CYTHON_FAST_PYCCALL\n",
       "    if (<span class='pyx_c_api'>__Pyx_PyFastCFunction_Check</span>(__pyx_t_5)) {\n",
       "      PyObject *__pyx_temp[2] = {__pyx_t_7, __pyx_v_periods};\n",
       "      __pyx_t_3 = <span class='pyx_c_api'>__Pyx_PyCFunction_FastCall</span>(__pyx_t_5, __pyx_temp+1-1, 1+1); if (unlikely(!__pyx_t_3)) __PYX_ERR(0, 22, __pyx_L1_error)\n",
       "      <span class='pyx_macro_api'>__Pyx_XDECREF</span>(__pyx_t_7); __pyx_t_7 = 0;\n",
       "      <span class='refnanny'>__Pyx_GOTREF</span>(__pyx_t_3);\n",
       "    } else\n",
       "    #endif\n",
       "    {\n",
       "      __pyx_t_6 = <span class='py_c_api'>PyTuple_New</span>(1+1); if (unlikely(!__pyx_t_6)) __PYX_ERR(0, 22, __pyx_L1_error)\n",
       "      <span class='refnanny'>__Pyx_GOTREF</span>(__pyx_t_6);\n",
       "      <span class='refnanny'>__Pyx_GIVEREF</span>(__pyx_t_7); <span class='py_macro_api'>PyTuple_SET_ITEM</span>(__pyx_t_6, 0, __pyx_t_7); __pyx_t_7 = NULL;\n",
       "      <span class='pyx_macro_api'>__Pyx_INCREF</span>(__pyx_v_periods);\n",
       "      <span class='refnanny'>__Pyx_GIVEREF</span>(__pyx_v_periods);\n",
       "      <span class='py_macro_api'>PyTuple_SET_ITEM</span>(__pyx_t_6, 0+1, __pyx_v_periods);\n",
       "      __pyx_t_3 = <span class='pyx_c_api'>__Pyx_PyObject_Call</span>(__pyx_t_5, __pyx_t_6, NULL); if (unlikely(!__pyx_t_3)) __PYX_ERR(0, 22, __pyx_L1_error)\n",
       "      <span class='refnanny'>__Pyx_GOTREF</span>(__pyx_t_3);\n",
       "      <span class='pyx_macro_api'>__Pyx_DECREF</span>(__pyx_t_6); __pyx_t_6 = 0;\n",
       "    }\n",
       "  }\n",
       "  <span class='pyx_macro_api'>__Pyx_DECREF</span>(__pyx_t_5); __pyx_t_5 = 0;\n",
       "  __pyx_t_5 = <span class='py_c_api'>PyNumber_Multiply</span>(__pyx_float_0_5, __pyx_t_3); if (unlikely(!__pyx_t_5)) __PYX_ERR(0, 22, __pyx_L1_error)\n",
       "  <span class='refnanny'>__Pyx_GOTREF</span>(__pyx_t_5);\n",
       "  <span class='pyx_macro_api'>__Pyx_DECREF</span>(__pyx_t_3); __pyx_t_3 = 0;\n",
       "  if (!(likely(((__pyx_t_5) == Py_None) || likely(<span class='pyx_c_api'>__Pyx_TypeTest</span>(__pyx_t_5, __pyx_ptype_5numpy_ndarray))))) __PYX_ERR(0, 22, __pyx_L1_error)\n",
       "  __pyx_t_10 = ((PyArrayObject *)__pyx_t_5);\n",
       "  {\n",
       "    __Pyx_BufFmt_StackElem __pyx_stack[1];\n",
       "    if (unlikely(<span class='pyx_c_api'>__Pyx_GetBufferAndValidate</span>(&amp;__pyx_pybuffernd_half.rcbuffer-&gt;pybuffer, (PyObject*)__pyx_t_10, &amp;__Pyx_TypeInfo_nn___pyx_t_5numpy_float64_t, PyBUF_FORMAT| PyBUF_STRIDES, 1, 0, __pyx_stack) == -1)) {\n",
       "      __pyx_v_half = ((PyArrayObject *)Py_None); <span class='pyx_macro_api'>__Pyx_INCREF</span>(Py_None); __pyx_pybuffernd_half.rcbuffer-&gt;pybuffer.buf = NULL;\n",
       "      __PYX_ERR(0, 22, __pyx_L1_error)\n",
       "    } else {__pyx_pybuffernd_half.diminfo[0].strides = __pyx_pybuffernd_half.rcbuffer-&gt;pybuffer.strides[0]; __pyx_pybuffernd_half.diminfo[0].shape = __pyx_pybuffernd_half.rcbuffer-&gt;pybuffer.shape[0];\n",
       "    }\n",
       "  }\n",
       "  __pyx_t_10 = 0;\n",
       "  __pyx_v_half = ((PyArrayObject *)__pyx_t_5);\n",
       "  __pyx_t_5 = 0;\n",
       "</pre><pre class=\"cython line score-0\">&#xA0;<span class=\"\">23</span>:     <span class=\"k\">cdef</span> <span class=\"kt\">int</span> <span class=\"nf\">i</span><span class=\"p\">,</span><span class=\"nf\">j</span></pre>\n",
       "<pre class=\"cython line score-0\">&#xA0;<span class=\"\">24</span>:     <span class=\"k\">cdef</span> <span class=\"kt\">float</span> <span class=\"nf\">d</span><span class=\"p\">,</span><span class=\"nf\">h</span><span class=\"p\">,</span><span class=\"nf\">p</span></pre>\n",
       "<pre class=\"cython line score-0\" onclick='toggleDiv(this)'>+<span class=\"\">25</span>:     <span class=\"k\">for</span> <span class=\"n\">i</span> <span class=\"ow\">in</span> <span class=\"nb\">range</span><span class=\"p\">(</span><span class=\"n\">diff</span><span class=\"o\">.</span><span class=\"n\">shape</span><span class=\"p\">[</span><span class=\"mf\">0</span><span class=\"p\">]):</span></pre>\n",
       "<pre class='cython code score-0 '>  __pyx_t_11 = (__pyx_v_diff-&gt;dimensions[0]);\n",
       "  for (__pyx_t_12 = 0; __pyx_t_12 &lt; __pyx_t_11; __pyx_t_12+=1) {\n",
       "    __pyx_v_i = __pyx_t_12;\n",
       "</pre><pre class=\"cython line score-0\" onclick='toggleDiv(this)'>+<span class=\"\">26</span>:         <span class=\"k\">for</span> <span class=\"n\">j</span> <span class=\"ow\">in</span> <span class=\"nb\">range</span><span class=\"p\">(</span><span class=\"n\">diff</span><span class=\"o\">.</span><span class=\"n\">shape</span><span class=\"p\">[</span><span class=\"mf\">1</span><span class=\"p\">]):</span></pre>\n",
       "<pre class='cython code score-0 '>    __pyx_t_13 = (__pyx_v_diff-&gt;dimensions[1]);\n",
       "    for (__pyx_t_14 = 0; __pyx_t_14 &lt; __pyx_t_13; __pyx_t_14+=1) {\n",
       "      __pyx_v_j = __pyx_t_14;\n",
       "</pre><pre class=\"cython line score-0\" onclick='toggleDiv(this)'>+<span class=\"\">27</span>:             <span class=\"n\">d</span> <span class=\"o\">=</span> <span class=\"n\">v</span><span class=\"p\">[</span><span class=\"n\">i</span><span class=\"p\">,</span><span class=\"n\">j</span><span class=\"p\">]</span> <span class=\"o\">-</span> <span class=\"n\">u</span><span class=\"p\">[</span><span class=\"n\">i</span><span class=\"p\">,</span><span class=\"n\">j</span><span class=\"p\">]</span></pre>\n",
       "<pre class='cython code score-0 '>      __pyx_t_15 = __pyx_v_i;\n",
       "      __pyx_t_16 = __pyx_v_j;\n",
       "      __pyx_t_17 = __pyx_v_i;\n",
       "      __pyx_t_18 = __pyx_v_j;\n",
       "      __pyx_v_d = ((*__Pyx_BufPtrStrided2d(__pyx_t_5numpy_float64_t *, __pyx_pybuffernd_v.rcbuffer-&gt;pybuffer.buf, __pyx_t_15, __pyx_pybuffernd_v.diminfo[0].strides, __pyx_t_16, __pyx_pybuffernd_v.diminfo[1].strides)) - (*__Pyx_BufPtrStrided2d(__pyx_t_5numpy_float64_t *, __pyx_pybuffernd_u.rcbuffer-&gt;pybuffer.buf, __pyx_t_17, __pyx_pybuffernd_u.diminfo[0].strides, __pyx_t_18, __pyx_pybuffernd_u.diminfo[1].strides)));\n",
       "</pre><pre class=\"cython line score-0\" onclick='toggleDiv(this)'>+<span class=\"\">28</span>:             <span class=\"n\">h</span> <span class=\"o\">=</span> <span class=\"n\">half</span><span class=\"p\">[</span><span class=\"n\">j</span><span class=\"p\">]</span></pre>\n",
       "<pre class='cython code score-0 '>      __pyx_t_19 = __pyx_v_j;\n",
       "      __pyx_v_h = (*__Pyx_BufPtrStrided1d(__pyx_t_5numpy_float64_t *, __pyx_pybuffernd_half.rcbuffer-&gt;pybuffer.buf, __pyx_t_19, __pyx_pybuffernd_half.diminfo[0].strides));\n",
       "</pre><pre class=\"cython line score-0\" onclick='toggleDiv(this)'>+<span class=\"\">29</span>:             <span class=\"n\">p</span> <span class=\"o\">=</span> <span class=\"n\">pers</span><span class=\"p\">[</span><span class=\"n\">j</span><span class=\"p\">]</span></pre>\n",
       "<pre class='cython code score-0 '>      __pyx_t_20 = __pyx_v_j;\n",
       "      __pyx_v_p = (*__Pyx_BufPtrStrided1d(__pyx_t_5numpy_float64_t *, __pyx_pybuffernd_pers.rcbuffer-&gt;pybuffer.buf, __pyx_t_20, __pyx_pybuffernd_pers.diminfo[0].strides));\n",
       "</pre><pre class=\"cython line score-0\" onclick='toggleDiv(this)'>+<span class=\"\">30</span>:             <span class=\"k\">while</span> <span class=\"n\">d</span> <span class=\"o\">&gt;</span> <span class=\"n\">h</span><span class=\"p\">:</span></pre>\n",
       "<pre class='cython code score-0 '>      while (1) {\n",
       "        __pyx_t_2 = ((__pyx_v_d &gt; __pyx_v_h) != 0);\n",
       "        if (!__pyx_t_2) break;\n",
       "</pre><pre class=\"cython line score-0\" onclick='toggleDiv(this)'>+<span class=\"\">31</span>:                 <span class=\"n\">d</span> <span class=\"o\">-=</span> <span class=\"n\">p</span></pre>\n",
       "<pre class='cython code score-0 '>        __pyx_v_d = (__pyx_v_d - __pyx_v_p);\n",
       "      }\n",
       "</pre><pre class=\"cython line score-0\" onclick='toggleDiv(this)'>+<span class=\"\">32</span>:             <span class=\"k\">while</span> <span class=\"n\">d</span> <span class=\"o\">&lt;</span> <span class=\"o\">-</span><span class=\"n\">h</span><span class=\"p\">:</span></pre>\n",
       "<pre class='cython code score-0 '>      while (1) {\n",
       "        __pyx_t_2 = ((__pyx_v_d &lt; (-__pyx_v_h)) != 0);\n",
       "        if (!__pyx_t_2) break;\n",
       "</pre><pre class=\"cython line score-0\" onclick='toggleDiv(this)'>+<span class=\"\">33</span>:                 <span class=\"n\">d</span> <span class=\"o\">+=</span> <span class=\"n\">p</span></pre>\n",
       "<pre class='cython code score-0 '>        __pyx_v_d = (__pyx_v_d + __pyx_v_p);\n",
       "      }\n",
       "</pre><pre class=\"cython line score-0\" onclick='toggleDiv(this)'>+<span class=\"\">34</span>:             <span class=\"n\">diff</span><span class=\"p\">[</span><span class=\"n\">i</span><span class=\"p\">,</span><span class=\"n\">j</span><span class=\"p\">]</span> <span class=\"o\">=</span> <span class=\"n\">d</span></pre>\n",
       "<pre class='cython code score-0 '>      __pyx_t_21 = __pyx_v_i;\n",
       "      __pyx_t_22 = __pyx_v_j;\n",
       "      *__Pyx_BufPtrStrided2d(__pyx_t_5numpy_float64_t *, __pyx_pybuffernd_diff.rcbuffer-&gt;pybuffer.buf, __pyx_t_21, __pyx_pybuffernd_diff.diminfo[0].strides, __pyx_t_22, __pyx_pybuffernd_diff.diminfo[1].strides) = __pyx_v_d;\n",
       "    }\n",
       "  }\n",
       "</pre><pre class=\"cython line score-2\" onclick='toggleDiv(this)'>+<span class=\"\">35</span>:     <span class=\"k\">return</span> <span class=\"n\">diff</span></pre>\n",
       "<pre class='cython code score-2 '>  <span class='pyx_macro_api'>__Pyx_XDECREF</span>(__pyx_r);\n",
       "  <span class='pyx_macro_api'>__Pyx_INCREF</span>(((PyObject *)__pyx_v_diff));\n",
       "  __pyx_r = ((PyObject *)__pyx_v_diff);\n",
       "  goto __pyx_L0;\n",
       "</pre></div></body></html>"
      ],
      "text/plain": [
       "<IPython.core.display.HTML object>"
      ]
     },
     "execution_count": 78,
     "metadata": {},
     "output_type": "execute_result"
    }
   ],
   "source": [
    "%%cython --annotate\n",
    "import numpy as np\n",
    "cimport numpy as np\n",
    "cimport cython\n",
    "\n",
    "@cython.boundscheck(False) # turn off bounds-checking for entire function\n",
    "@cython.wraparound(False)  # turn off negative index wrapping for entire function\n",
    "@cython.cdivision(True) # turn off division by zero checking for entire function\n",
    "def cython_periodify(\n",
    "    np.ndarray[np.float64_t, ndim=2] u, \n",
    "    np.ndarray[np.float64_t, ndim=2] v, \n",
    "    periods=None\n",
    "):\n",
    "    assert u.shape[0] == v.shape[0]\n",
    "    assert u.shape[1] == v.shape[1]\n",
    "    #cdef np.ndarray[np.float64_t, ndim=2] diff = v - u\n",
    "    if periods is None:\n",
    "        return v - u\n",
    "    assert len(periods) == u.shape[1]\n",
    "    cdef np.ndarray[np.float64_t, ndim=2] diff = np.zeros_like(u)\n",
    "    #ensures the largest coordinate is smaller than half a period\n",
    "    cdef np.ndarray[np.float64_t, ndim=1] pers = np.array(periods)\n",
    "    cdef np.ndarray[np.float64_t, ndim=1] half = 0.5*np.array(periods)\n",
    "    cdef int i,j\n",
    "    cdef float d,h,p\n",
    "    for i in range(diff.shape[0]):\n",
    "        for j in range(diff.shape[1]):\n",
    "            d = v[i,j] - u[i,j]\n",
    "            h = half[j]\n",
    "            p = pers[j]\n",
    "            while d > h:\n",
    "                d -= p\n",
    "            while d < -h:\n",
    "                d += p\n",
    "            diff[i,j] = d\n",
    "    return diff"
   ]
  },
  {
   "cell_type": "code",
   "execution_count": 79,
   "metadata": {
    "collapsed": false
   },
   "outputs": [
    {
     "name": "stdout",
     "output_type": "stream",
     "text": [
      "10 loops, best of 3: 52.1 ms per loop\n"
     ]
    }
   ],
   "source": [
    "%timeit cython_periodify(u, v, np.array([0.9,0.5,0.5]))"
   ]
  },
  {
   "cell_type": "code",
   "execution_count": 76,
   "metadata": {
    "collapsed": false
   },
   "outputs": [
    {
     "name": "stdout",
     "output_type": "stream",
     "text": [
      "100 loops, best of 3: 8.74 ms per loop\n"
     ]
    }
   ],
   "source": [
    "%timeit v-u"
   ]
  },
  {
   "cell_type": "code",
   "execution_count": 80,
   "metadata": {
    "collapsed": false
   },
   "outputs": [
    {
     "name": "stdout",
     "output_type": "stream",
     "text": [
      "100 loops, best of 3: 8.75 ms per loop\n"
     ]
    }
   ],
   "source": [
    "%timeit cython_periodify(u, v)"
   ]
  },
  {
   "cell_type": "code",
   "execution_count": 89,
   "metadata": {
    "collapsed": false
   },
   "outputs": [
    {
     "ename": "ImportError",
     "evalue": "cannot import name periodify",
     "output_type": "error",
     "traceback": [
      "\u001b[0;31m---------------------------------------------------------------------------\u001b[0m",
      "\u001b[0;31mImportError\u001b[0m                               Traceback (most recent call last)",
      "\u001b[0;32m<ipython-input-89-de305729cbbb>\u001b[0m in \u001b[0;36m<module>\u001b[0;34m()\u001b[0m\n\u001b[0;32m----> 1\u001b[0;31m \u001b[0;32mfrom\u001b[0m \u001b[0mcolloids\u001b[0m \u001b[0;32mimport\u001b[0m \u001b[0mperiodify\u001b[0m\u001b[0;34m\u001b[0m\u001b[0m\n\u001b[0m",
      "\u001b[0;31mImportError\u001b[0m: cannot import name periodify"
     ]
    }
   ],
   "source": [
    "from colloids import periodify"
   ]
  },
  {
   "cell_type": "code",
   "execution_count": 85,
   "metadata": {
    "collapsed": true
   },
   "outputs": [],
   "source": [
    "periodify?"
   ]
  },
  {
   "cell_type": "markdown",
   "metadata": {
    "collapsed": true
   },
   "source": [
    "## $w_\\ell$\n",
    "\n",
    "$$ w_\\ell = \\sum_{m_1+m_2+m_3=0} \n",
    "\t\t\t\\left( \\begin{array}{ccc}\n",
    "\t\t\t\t\\ell & \\ell & \\ell \\\\\n",
    "\t\t\t\tm_1 & m_2 & m_3 \n",
    "\t\t\t\\end{array} \\right)\n",
    "\t\t\tq_{\\ell m_1} q_{\\ell m_2} q_{\\ell m_3}\n",
    "\t\t\t$$"
   ]
  },
  {
   "cell_type": "code",
   "execution_count": 7,
   "metadata": {
    "collapsed": true
   },
   "outputs": [],
   "source": [
    "qlm = boo.bonds2qlm(pos, bonds)"
   ]
  },
  {
   "cell_type": "code",
   "execution_count": 9,
   "metadata": {
    "collapsed": false
   },
   "outputs": [
    {
     "name": "stdout",
     "output_type": "stream",
     "text": [
      "1 loops, best of 3: 482 ms per loop\n"
     ]
    }
   ],
   "source": [
    "%timeit boo.wl(qlm)"
   ]
  },
  {
   "cell_type": "code",
   "execution_count": 21,
   "metadata": {
    "collapsed": false
   },
   "outputs": [],
   "source": [
    "from colloids.boo import get_qlm, get_w3j\n",
    "def python_wl(qlm):\n",
    "    l = qlm.shape[1]-1\n",
    "    w = np.zeros(qlm.shape[0], qlm.dtype)\n",
    "    for m1 in range(-l, l+1):\n",
    "        for m2 in range(-l, l+1):\n",
    "            m3 = -m1-m2\n",
    "            if -l<=m3 and m3<=l:\n",
    "                w+= get_w3j(l, [m1, m2, m3]) * get_qlm(qlm, m1) * get_qlm(qlm, m2) * get_qlm(qlm, m3)\n",
    "    return w.real"
   ]
  },
  {
   "cell_type": "code",
   "execution_count": 31,
   "metadata": {
    "collapsed": false
   },
   "outputs": [
    {
     "name": "stdout",
     "output_type": "stream",
     "text": [
      "10 loops, best of 3: 113 ms per loop\n"
     ]
    }
   ],
   "source": [
    "%timeit python_wl(qlm)"
   ]
  },
  {
   "cell_type": "code",
   "execution_count": 18,
   "metadata": {
    "collapsed": false
   },
   "outputs": [
    {
     "data": {
      "text/plain": [
       "0"
      ]
     },
     "execution_count": 18,
     "metadata": {},
     "output_type": "execute_result"
    }
   ],
   "source": [
    "np.sum(boo.wl(qlm) - python_wl(qlm).real > 1e-12)"
   ]
  },
  {
   "cell_type": "code",
   "execution_count": 30,
   "metadata": {
    "collapsed": false
   },
   "outputs": [],
   "source": [
    "@jit\n",
    "def numba_wl(qlm):\n",
    "    l = qlm.shape[1]-1\n",
    "    w = np.zeros(qlm.shape[0], qlm.dtype)\n",
    "    for m1 in range(-l, l+1):\n",
    "        for m2 in range(-l, l+1):\n",
    "            m3 = -m1-m2\n",
    "            if -l<=m3 and m3<=l:\n",
    "                w+= get_w3j(l, [m1, m2, m3]) * get_qlm(qlm, m1) * get_qlm(qlm, m2) * get_qlm(qlm, m3)\n",
    "    return w.real"
   ]
  },
  {
   "cell_type": "code",
   "execution_count": 33,
   "metadata": {
    "collapsed": false
   },
   "outputs": [
    {
     "name": "stdout",
     "output_type": "stream",
     "text": [
      "10 loops, best of 3: 111 ms per loop\n"
     ]
    }
   ],
   "source": [
    "%timeit numba_wl(qlm)"
   ]
  },
  {
   "cell_type": "markdown",
   "metadata": {},
   "source": [
    "## Spatial correlation"
   ]
  },
  {
   "cell_type": "code",
   "execution_count": 27,
   "metadata": {
    "collapsed": true
   },
   "outputs": [],
   "source": [
    "def coarsegrain_qlm(qlm, bonds, inside):\n",
    "    \"\"\"Coarse grain the bond orientational order on the neighbourhood of a particle\n",
    "    $$Q_{\\ell m}(i) = \\frac{1}{N_i+1}\\left( q_{\\ell m}(i) +  \\sum_{j=0}^{N_i} q_{\\ell m}(j)\\right)$$\n",
    "    Returns Qlm and the mask of the valid particles\n",
    "    \"\"\"\n",
    "    #Valid particles must be valid themselves have only valid neighbours\n",
    "    inside2 = np.copy(inside)\n",
    "    np.bitwise_and.at(inside2, bonds[:,0], inside[bonds[:,1]])\n",
    "    np.bitwise_and.at(inside2, bonds[:,1], inside[bonds[:,0]])\n",
    "    #number of neighbours\n",
    "    Nngb = np.zeros(len(qlm), int)\n",
    "    np.add.at(Nngb, bonds.ravel(), 1)\n",
    "    #sum the boo coefficients of all the neighbours\n",
    "    Qlm = np.zeros_like(qlm)\n",
    "    np.add.at(Qlm, bonds[:,0], qlm[bonds[:,1]])\n",
    "    np.add.at(Qlm, bonds[:,1], qlm[bonds[:,0]])\n",
    "    Qlm[np.bitwise_not(inside2)] = 0\n",
    "    return Qlm / np.maximum(1, Nngb)[:,None], inside2"
   ]
  },
  {
   "cell_type": "code",
   "execution_count": 37,
   "metadata": {
    "collapsed": false
   },
   "outputs": [],
   "source": [
    "Qlm, inside2 = coarsegrain_qlm(qlm, bonds, inside)"
   ]
  },
  {
   "cell_type": "code",
   "execution_count": 29,
   "metadata": {
    "collapsed": false
   },
   "outputs": [
    {
     "name": "stdout",
     "output_type": "stream",
     "text": [
      "1 loops, best of 3: 220 ms per loop\n"
     ]
    }
   ],
   "source": [
    "%timeit coarsegrain_qlm(qlm, bonds, inside)"
   ]
  },
  {
   "cell_type": "code",
   "execution_count": 34,
   "metadata": {
    "collapsed": true
   },
   "outputs": [],
   "source": [
    "@jit\n",
    "def numba_coarsegrain_qlm(qlm, bonds, inside):\n",
    "    \"\"\"Coarse grain the bond orientational order on the neighbourhood of a particle\n",
    "    $$Q_{\\ell m}(i) = \\frac{1}{N_i+1}\\left( q_{\\ell m}(i) +  \\sum_{j=0}^{N_i} q_{\\ell m}(j)\\right)$$\n",
    "    Returns Qlm and the mask of the valid particles\n",
    "    \"\"\"\n",
    "    #Valid particles must be valid themselves have only valid neighbours\n",
    "    inside2 = np.copy(inside)\n",
    "    np.bitwise_and.at(inside2, bonds[:,0], inside[bonds[:,1]])\n",
    "    np.bitwise_and.at(inside2, bonds[:,1], inside[bonds[:,0]])\n",
    "    #number of neighbours\n",
    "    Nngb = np.zeros(len(qlm), int)\n",
    "    np.add.at(Nngb, bonds.ravel(), 1)\n",
    "    #sum the boo coefficients of all the neighbours\n",
    "    Qlm = np.zeros_like(qlm)\n",
    "    np.add.at(Qlm, bonds[:,0], qlm[bonds[:,1]])\n",
    "    np.add.at(Qlm, bonds[:,1], qlm[bonds[:,0]])\n",
    "    Qlm[np.bitwise_not(inside2)] = 0\n",
    "    return Qlm / np.maximum(1, Nngb)[:,None], inside2"
   ]
  },
  {
   "cell_type": "code",
   "execution_count": 36,
   "metadata": {
    "collapsed": false
   },
   "outputs": [
    {
     "name": "stdout",
     "output_type": "stream",
     "text": [
      "1 loops, best of 3: 227 ms per loop\n"
     ]
    }
   ],
   "source": [
    "%timeit numba_coarsegrain_qlm(qlm, bonds, inside)"
   ]
  },
  {
   "cell_type": "code",
   "execution_count": 58,
   "metadata": {
    "collapsed": false
   },
   "outputs": [],
   "source": [
    "maxdist = 30.0\n",
    "bounds = np.vstack((pos[inside2].min(0)+maxdist, pos[inside2].max(0)-maxdist))\n",
    "is_center = (pos>bounds[0]).min(1) & (pos<bounds[1]).min(1)"
   ]
  },
  {
   "cell_type": "code",
   "execution_count": 59,
   "metadata": {
    "collapsed": true
   },
   "outputs": [],
   "source": [
    "hq, hQ, g = boo.gG_l(pos, qlm, Qlm, is_center, Nbins=250, maxdist=30.0)"
   ]
  },
  {
   "cell_type": "code",
   "execution_count": 60,
   "metadata": {
    "collapsed": false
   },
   "outputs": [
    {
     "data": {
      "text/plain": [
       "<matplotlib.legend.Legend at 0x7f7a9cb82f50>"
      ]
     },
     "execution_count": 60,
     "metadata": {},
     "output_type": "execute_result"
    },
    {
     "data": {
      "image/png": "[encoded data removed]",
      "text/plain": [
       "<matplotlib.figure.Figure at 0x7f7a9cdd3110>"
      ]
     },
     "metadata": {},
     "output_type": "display_data"
    }
   ],
   "source": [
    "plt.plot(hq, label='hq')\n",
    "plt.plot(hQ, label='hQ')\n",
    "plt.plot(g, label='g')\n",
    "plt.legend()"
   ]
  },
  {
   "cell_type": "code",
   "execution_count": 71,
   "metadata": {
    "collapsed": false
   },
   "outputs": [
    {
     "data": {
      "text/plain": [
       "<matplotlib.legend.Legend at 0x7f7a9cbb17d0>"
      ]
     },
     "execution_count": 71,
     "metadata": {},
     "output_type": "execute_result"
    },
    {
     "data": {
      "image/png": "[encoded data removed]",
      "text/plain": [
       "<matplotlib.figure.Figure at 0x7f7a9ccaf3d0>"
      ]
     },
     "metadata": {},
     "output_type": "display_data"
    }
   ],
   "source": [
    "good = g>1\n",
    "plt.plot(np.where(good)[0], hq[good]/g[good], label='hq/g')\n",
    "plt.plot(np.where(good)[0], hQ[good]/g[good], label='hQ/g')\n",
    "plt.yscale('log')\n",
    "plt.legend()"
   ]
  },
  {
   "cell_type": "code",
   "execution_count": 255,
   "metadata": {
    "collapsed": false
   },
   "outputs": [
    {
     "name": "stdout",
     "output_type": "stream",
     "text": [
      "1 loops, best of 3: 854 ms per loop\n"
     ]
    }
   ],
   "source": [
    "%timeit boo.gG_l(pos, qlm, Qlm, is_center, Nbins=250, maxdist=30.0)"
   ]
  },
  {
   "cell_type": "code",
   "execution_count": 66,
   "metadata": {
    "collapsed": true
   },
   "outputs": [],
   "source": [
    "maxdist = 60.0\n",
    "bounds = np.vstack((pos[inside2].min(0)+maxdist, pos[inside2].max(0)-maxdist))\n",
    "is_center2 = (pos>bounds[0]).min(1) & (pos<bounds[1]).min(1)"
   ]
  },
  {
   "cell_type": "code",
   "execution_count": 67,
   "metadata": {
    "collapsed": false
   },
   "outputs": [],
   "source": [
    "hq2, hQ2, g2 = boo.gG_l(pos, qlm, Qlm, is_center2, Nbins=250, maxdist=60.0)"
   ]
  },
  {
   "cell_type": "code",
   "execution_count": 68,
   "metadata": {
    "collapsed": false
   },
   "outputs": [
    {
     "data": {
      "text/plain": [
       "<matplotlib.legend.Legend at 0x7f7a9ca46f50>"
      ]
     },
     "execution_count": 68,
     "metadata": {},
     "output_type": "execute_result"
    },
    {
     "data": {
      "image/png": "[encoded data removed]",
      "text/plain": [
       "<matplotlib.figure.Figure at 0x7f7aa4e83150>"
      ]
     },
     "metadata": {},
     "output_type": "display_data"
    }
   ],
   "source": [
    "plt.plot(hq2, label='hq')\n",
    "plt.plot(hQ2, label='hQ')\n",
    "plt.plot(g2, label='g')\n",
    "plt.legend()"
   ]
  },
  {
   "cell_type": "code",
   "execution_count": 70,
   "metadata": {
    "collapsed": false
   },
   "outputs": [
    {
     "data": {
      "text/plain": [
       "<matplotlib.legend.Legend at 0x7f7a9c8fd410>"
      ]
     },
     "execution_count": 70,
     "metadata": {},
     "output_type": "execute_result"
    },
    {
     "data": {
      "image/png": "[encoded data removed]",
      "text/plain": [
       "<matplotlib.figure.Figure at 0x7f7a9cca55d0>"
      ]
     },
     "metadata": {},
     "output_type": "display_data"
    }
   ],
   "source": [
    "good = g2>1\n",
    "plt.plot(np.where(good)[0], hq2[good]/g2[good], label='hq/g')\n",
    "plt.plot(np.where(good)[0], hQ2[good]/g2[good], label='hQ/g')\n",
    "plt.yscale('log')\n",
    "plt.legend()"
   ]
  },
  {
   "cell_type": "code",
   "execution_count": 45,
   "metadata": {
    "collapsed": false
   },
   "outputs": [
    {
     "name": "stdout",
     "output_type": "stream",
     "text": [
      "1 loops, best of 3: 1.15 s per loop\n"
     ]
    }
   ],
   "source": [
    "%timeit boo.gG_l(pos, qlm, Qlm, is_center2, Nbins=1000, maxdist=120.0)"
   ]
  },
  {
   "cell_type": "code",
   "execution_count": 106,
   "metadata": {
    "collapsed": false
   },
   "outputs": [],
   "source": [
    "from scipy.spatial import cKDTree as KDTree\n",
    "from colloids.boo import boo_product\n",
    "\n",
    "def gG_l(pos, qlms, Qlms, is_center, Nbins, maxdist):\n",
    "    \"\"\"Spatial correlation of the qlms and the Qlms (non normalized.\n",
    "    For each particle tagged as is_center, do the cross product between their qlm, their Qlm and count, \n",
    "    then bin each quantity with respect to distance. \n",
    "    The two first sums need to be normalised by the last one.\n",
    "    \n",
    "     - pos is a Nxd array of coordinates, with d the dimension of space\n",
    "     - qlm is a Nx(2l+1) array of boo coordinates for l-fold symmetry\n",
    "     - Qlm is the coarse-grained version of qlm\n",
    "     - is_center is a N array of booleans. For example all particles further away than maxdist from any edge of the box.\n",
    "     - Nbins is the number of bins along r\n",
    "     - maxdist is the maximum distance considered\"\"\"\n",
    "    assert len(pos) == len(qlms)\n",
    "    assert len(qlms) == len(Qlms)\n",
    "    assert len(is_center) == len(pos)\n",
    "    maxsq = float(maxdist**2)\n",
    "    hQ = np.zeros(Nbins)\n",
    "    hq = np.zeros(Nbins)\n",
    "    g = np.zeros(Nbins, int)\n",
    "    #spatial indexing\n",
    "    tree = KDTree(pos, 12)\n",
    "    for i in np.where(is_center)[0]:\n",
    "        js = np.array(tree.query_ball_point(pos[i], maxdist))\n",
    "        js = js[js!=i]\n",
    "        rs = np.sqrt(np.sum((pos[js] - pos[i])**2, -1)) / maxdist * g.shape[0]\n",
    "        pqs = boo_product(qlms[i][None,:], qlms[js])\n",
    "        pQs = boo_product(Qlms[i][None,:], Qlms[js])\n",
    "        np.add.at(g, rs.astype(int), 1)\n",
    "        np.add.at(hq, rs.astype(int), pqs)\n",
    "        np.add.at(hQ, rs.astype(int), pQs)\n",
    "    return hq, hQ, g"
   ]
  },
  {
   "cell_type": "code",
   "execution_count": 102,
   "metadata": {
    "collapsed": false
   },
   "outputs": [],
   "source": [
    "hq1, hQ1, g1 = gG_l(pos, qlm, Qlm, is_center, Nbins=250, maxdist=30.0)"
   ]
  },
  {
   "cell_type": "code",
   "execution_count": 84,
   "metadata": {
    "collapsed": false
   },
   "outputs": [
    {
     "data": {
      "text/plain": [
       "<matplotlib.legend.Legend at 0x7f7a67fdf1d0>"
      ]
     },
     "execution_count": 84,
     "metadata": {},
     "output_type": "execute_result"
    },
    {
     "data": {
      "image/png": "[encoded data removed]",
      "text/plain": [
       "<matplotlib.figure.Figure at 0x7f7a680d9dd0>"
      ]
     },
     "metadata": {},
     "output_type": "display_data"
    }
   ],
   "source": [
    "plt.plot(hq, label='hq')\n",
    "plt.plot(hQ, label='hQ')\n",
    "plt.plot(g, label='g')\n",
    "plt.plot(hq1, ls=':', label='hq1')\n",
    "plt.plot(hQ1, ls=':', label='hQ1')\n",
    "plt.plot(g1, ls=':', label='g1')\n",
    "plt.legend()"
   ]
  },
  {
   "cell_type": "code",
   "execution_count": 86,
   "metadata": {
    "collapsed": false
   },
   "outputs": [
    {
     "data": {
      "text/plain": [
       "(0, 1.2505552149377763e-11, 7.0485839387401938e-12)"
      ]
     },
     "execution_count": 86,
     "metadata": {},
     "output_type": "execute_result"
    }
   ],
   "source": [
    "np.abs(g - g1).max(), np.abs(hq - hq1).max(), np.abs(hQ - hQ1).max()"
   ]
  },
  {
   "cell_type": "code",
   "execution_count": 96,
   "metadata": {
    "collapsed": false
   },
   "outputs": [
    {
     "name": "stdout",
     "output_type": "stream",
     "text": [
      "1 loops, best of 3: 5.98 s per loop\n"
     ]
    }
   ],
   "source": [
    "%timeit gG_l(pos, qlm, Qlm, is_center, Nbins=250, maxdist=30.0)"
   ]
  },
  {
   "cell_type": "code",
   "execution_count": 92,
   "metadata": {
    "collapsed": false
   },
   "outputs": [
    {
     "name": "stdout",
     "output_type": "stream",
     "text": [
      "1 loops, best of 3: 19.3 s per loop\n"
     ]
    }
   ],
   "source": [
    "%timeit boo.gG_l(pos, qlm, Qlm, is_center2, Nbins=1000, maxdist=120.0)"
   ]
  },
  {
   "cell_type": "code",
   "execution_count": 235,
   "metadata": {
    "collapsed": true
   },
   "outputs": [],
   "source": [
    "def gG_l_tree(pos, qlms, Qlms, is_center, Nbins, maxdist):\n",
    "    \"\"\"Spatial correlation of the qlms and the Qlms (non normalized.\n",
    "    For each particle tagged as is_center, do the cross product between their qlm, their Qlm and count, \n",
    "    then bin each quantity with respect to distance. \n",
    "    The two first sums need to be normalised by the last one.\n",
    "    \n",
    "     - pos is a Nxd array of coordinates, with d the dimension of space\n",
    "     - qlm is a Nx(2l+1) array of boo coordinates for l-fold symmetry\n",
    "     - Qlm is the coarse-grained version of qlm\n",
    "     - is_center is a N array of booleans. For example all particles further away than maxdist from any edge of the box.\n",
    "     - Nbins is the number of bins along r\n",
    "     - maxdist is the maximum distance considered\"\"\"\n",
    "    assert len(pos) == len(qlms)\n",
    "    assert len(qlms) == len(Qlms)\n",
    "    assert len(is_center) == len(pos)\n",
    "    rsq2r = np.sqrt(np.arange(Nbins**2)).astype(int)\n",
    "    l2r = float((Nbins/maxdist)**2)\n",
    "    #maxsq = float(maxdist**2)\n",
    "    hQ = np.zeros(Nbins)\n",
    "    hq = np.zeros(Nbins)\n",
    "    g = np.zeros(Nbins, int)\n",
    "    #spatial indexing\n",
    "    tree = KDTree(pos, 12)\n",
    "    centertree = KDTree(pos[is_center], 12)\n",
    "    for i, js in zip(np.where(is_center)[0], centertree.query_ball_tree(tree, maxdist)):\n",
    "    #for i in np.where(is_center)[0]:\n",
    "        #js = np.array(tree.query_ball_point(pos[i], maxdist))\n",
    "        js = np.array(js)\n",
    "        js = js[js!=i]\n",
    "        #rs = np.sqrt(np.sum((pos[js] - pos[i])**2, -1)) / maxdist * g.shape[0]\n",
    "        #rsqs = numexpr.evaluate('sum((a-b)**2, axis=1)', {'a':pos[js], 'b':pos[i]}) * l2r\n",
    "        rsqs = np.sum((pos[js] - pos[i])**2, -1) * l2r\n",
    "        rs = rsq2r[rsqs.astype(int)]\n",
    "        pqs = boo_product(qlms[i][None,:], qlms[js])\n",
    "        #pQs = boo_product(Qlms[i][None,:], Qlms[js])\n",
    "        np.add.at(g, rs, 1)\n",
    "        np.add.at(hq, rs.astype(int), pqs)\n",
    "        #np.add.at(hQ, rs.astype(int), pQs)\n",
    "    return hq, hQ, g"
   ]
  },
  {
   "cell_type": "code",
   "execution_count": 236,
   "metadata": {
    "collapsed": false
   },
   "outputs": [
    {
     "name": "stdout",
     "output_type": "stream",
     "text": [
      "1 loops, best of 3: 4.16 s per loop\n"
     ]
    }
   ],
   "source": [
    "%timeit gG_l_tree(pos, qlm, Qlm, is_center, Nbins=250, maxdist=30.0)"
   ]
  },
  {
   "cell_type": "code",
   "execution_count": 266,
   "metadata": {
    "collapsed": true
   },
   "outputs": [],
   "source": [
    "def gG_l_record(pos, qlms, Qlms, is_center, Nbins, maxdist):\n",
    "    \"\"\"Spatial correlation of the qlms and the Qlms (non normalized.\n",
    "    For each particle tagged as is_center, do the cross product between their qlm, their Qlm and count, \n",
    "    then bin each quantity with respect to distance. \n",
    "    The two first sums need to be normalised by the last one.\n",
    "    \n",
    "     - pos is a Nxd array of coordinates, with d the dimension of space\n",
    "     - qlm is a Nx(2l+1) array of boo coordinates for l-fold symmetry\n",
    "     - Qlm is the coarse-grained version of qlm\n",
    "     - is_center is a N array of booleans. For example all particles further away than maxdist from any edge of the box.\n",
    "     - Nbins is the number of bins along r\n",
    "     - maxdist is the maximum distance considered\"\"\"\n",
    "    assert len(pos) == len(qlms)\n",
    "    assert len(qlms) == len(Qlms)\n",
    "    assert len(is_center) == len(pos)\n",
    "    #conversion factor between indices and bins\n",
    "    l2r = Nbins/maxdist\n",
    "    #result containers\n",
    "    hqQ = np.zeros((Nbins,2)) \n",
    "    g = np.zeros(Nbins, int)\n",
    "    #spatial indexing\n",
    "    tree = KDTree(pos, 12)\n",
    "    centertree = KDTree(pos[is_center], 12)\n",
    "    #all pairs of points closer than maxdist with their distances in a record array\n",
    "    query = centertree.sparse_distance_matrix(tree, maxdist, output_type='ndarray')\n",
    "    #keep only pairs where the points are distinct\n",
    "    centerindex = np.where(is_center)[0]\n",
    "    query['i'] = centerindex[query['i']]\n",
    "    good = query['i'] != query['j']\n",
    "    query = query[good]\n",
    "    #binning of distances\n",
    "    rs = (query['v'] * l2r).astype(int)\n",
    "    np.add.at(g, rs, 1)\n",
    "    #binning of boo cross products\n",
    "    pqQs = np.empty((len(rs),2))\n",
    "    pqQs[:,0] = boo_product(qlms[query['i']], qlms[query['j']])\n",
    "    pqQs[:,1] = boo_product(Qlms[query['i']], Qlms[query['j']])\n",
    "    np.add.at(hqQ, rs, pqQs)\n",
    "    return hqQ[:,0], hqQ[:,1], g"
   ]
  },
  {
   "cell_type": "code",
   "execution_count": 267,
   "metadata": {
    "collapsed": false
   },
   "outputs": [
    {
     "data": {
      "text/plain": [
       "[<matplotlib.lines.Line2D at 0x7f7a5fc74b50>]"
      ]
     },
     "execution_count": 267,
     "metadata": {},
     "output_type": "execute_result"
    },
    {
     "data": {
      "image/png": "[encoded data removed]",
      "text/plain": [
       "<matplotlib.figure.Figure at 0x7f7a5d28d910>"
      ]
     },
     "metadata": {},
     "output_type": "display_data"
    }
   ],
   "source": [
    "hq3, hQ3, g3 = gG_l_record(pos, qlm, Qlm, is_center, Nbins=250, maxdist=30.0)\n",
    "plt.subplot(1,3,1)\n",
    "plt.plot(g)\n",
    "plt.plot(g3, ls=':')\n",
    "plt.subplot(1,3,2)\n",
    "plt.plot(hq, label='hq')\n",
    "plt.plot(hq3, ls=':', label='hq3')\n",
    "plt.subplot(1,3,3)\n",
    "plt.plot(hQ, label='hQ')\n",
    "plt.plot(hQ3, ls=':', label='hQ3')"
   ]
  },
  {
   "cell_type": "code",
   "execution_count": 268,
   "metadata": {
    "collapsed": false
   },
   "outputs": [
    {
     "name": "stdout",
     "output_type": "stream",
     "text": [
      "1 loops, best of 3: 1.14 s per loop\n"
     ]
    }
   ],
   "source": [
    "%timeit gG_l_record(pos, qlm, Qlm, is_center, Nbins=250, maxdist=30.0)"
   ]
  },
  {
   "cell_type": "code",
   "execution_count": 212,
   "metadata": {
    "collapsed": false
   },
   "outputs": [
    {
     "name": "stdout",
     "output_type": "stream",
     "text": [
      "> \u001b[1;32m<ipython-input-210-923716ae9c93>\u001b[0m(27)\u001b[0;36mgG_l_record\u001b[1;34m()\u001b[0m\n",
      "\u001b[1;32m     26 \u001b[1;33m    \u001b[0mquery\u001b[0m \u001b[1;33m=\u001b[0m \u001b[0mcentertree\u001b[0m\u001b[1;33m.\u001b[0m\u001b[0msparse_distance_matrix\u001b[0m\u001b[1;33m(\u001b[0m\u001b[0mtree\u001b[0m\u001b[1;33m,\u001b[0m \u001b[0mmaxdist\u001b[0m\u001b[1;33m,\u001b[0m \u001b[0moutput_type\u001b[0m\u001b[1;33m=\u001b[0m\u001b[1;34m'ndarray'\u001b[0m\u001b[1;33m)\u001b[0m\u001b[1;33m\u001b[0m\u001b[0m\n",
      "\u001b[0m\u001b[1;32m---> 27 \u001b[1;33m    \u001b[0mquery\u001b[0m\u001b[1;33m.\u001b[0m\u001b[0mi\u001b[0m \u001b[1;33m=\u001b[0m \u001b[0mcenterindex\u001b[0m\u001b[1;33m[\u001b[0m\u001b[0mquery\u001b[0m\u001b[1;33m.\u001b[0m\u001b[0mi\u001b[0m\u001b[1;33m]\u001b[0m\u001b[1;33m\u001b[0m\u001b[0m\n",
      "\u001b[0m\u001b[1;32m     28 \u001b[1;33m    \u001b[0mgood\u001b[0m \u001b[1;33m=\u001b[0m \u001b[0mquery\u001b[0m\u001b[1;33m.\u001b[0m\u001b[0mj\u001b[0m \u001b[1;33m!=\u001b[0m \u001b[0mquery\u001b[0m\u001b[1;33m.\u001b[0m\u001b[0mi\u001b[0m\u001b[1;33m\u001b[0m\u001b[0m\n",
      "\u001b[0m\n",
      "ipdb> query.dtype\n",
      "dtype([('i', '<i8'), ('j', '<i8'), ('v', '<f8')], align=True)\n",
      "ipdb> query['i'].shape\n",
      "(962782,)\n",
      "ipdb> q\n"
     ]
    }
   ],
   "source": [
    "%debug"
   ]
  },
  {
   "cell_type": "code",
   "execution_count": 206,
   "metadata": {
    "collapsed": false
   },
   "outputs": [
    {
     "name": "stdout",
     "output_type": "stream",
     "text": [
      "building '_cython_magic_8e21d051df37107da4dfc0d81ba886b3' extension\n",
      "C compiler: gcc -pthread -fno-strict-aliasing -g -O2 -DNDEBUG -g -fwrapv -O3 -Wall -Wstrict-prototypes -fPIC\n",
      "\n",
      "compile options: '-I/home/mathieu/anaconda3/envs/python2/lib/python2.7/site-packages/numpy/core/include -I/home/mathieu/anaconda3/envs/python2/lib/python2.7/site-packages/numpy/core/include -I/home/mathieu/anaconda3/envs/python2/lib/python2.7/site-packages/numpy/core/include -I/home/mathieu/anaconda3/envs/python2/lib/python2.7/site-packages/numpy/core/include -I/home/mathieu/anaconda3/envs/python2/lib/python2.7/site-packages/numpy/core/include -I/home/mathieu/anaconda3/envs/python2/lib/python2.7/site-packages/numpy/core/include -I/home/mathieu/anaconda3/envs/python2/lib/python2.7/site-packages/numpy/core/include -I/home/mathieu/anaconda3/envs/python2/lib/python2.7/site-packages/numpy/core/include -I/home/mathieu/anaconda3/envs/python2/lib/python2.7/site-packages/numpy/core/include -I/home/mathieu/anaconda3/envs/python2/lib/python2.7/site-packages/numpy/core/include -I/home/mathieu/anaconda3/envs/python2/lib/python2.7/site-packages/numpy/core/include -I/home/mathieu/anaconda3/envs/python2/lib/python2.7/site-packages/numpy/core/include -I/home/mathieu/anaconda3/envs/python2/lib/python2.7/site-packages/numpy/core/include -I/home/mathieu/anaconda3/envs/python2/lib/python2.7/site-packages/numpy/core/include -I/home/mathieu/anaconda3/envs/python2/lib/python2.7/site-packages/numpy/core/include -I/home/mathieu/anaconda3/envs/python2/lib/python2.7/site-packages/numpy/core/include -I/home/mathieu/anaconda3/envs/python2/lib/python2.7/site-packages/numpy/core/include -I/home/mathieu/anaconda3/envs/python2/lib/python2.7/site-packages/numpy/core/include -I/home/mathieu/anaconda3/envs/python2/lib/python2.7/site-packages/numpy/core/include -I/home/mathieu/anaconda3/envs/python2/lib/python2.7/site-packages/numpy/core/include -I/home/mathieu/anaconda3/envs/python2/lib/python2.7/site-packages/numpy/core/include -I/home/mathieu/anaconda3/envs/python2/lib/python2.7/site-packages/numpy/core/include -I/home/mathieu/anaconda3/envs/python2/lib/python2.7/site-packages/numpy/core/include -I/home/mathieu/anaconda3/envs/python2/include/python2.7 -c'\n",
      "gcc: /data/mleocmach/.cache/ipython/cython/_cython_magic_8e21d051df37107da4dfc0d81ba886b3.c\n",
      "In file included from /home/mathieu/anaconda3/envs/python2/lib/python2.7/site-packages/numpy/core/include/numpy/ndarraytypes.h:1809:0,\n",
      "                 from /home/mathieu/anaconda3/envs/python2/lib/python2.7/site-packages/numpy/core/include/numpy/ndarrayobject.h:18,\n",
      "                 from /home/mathieu/anaconda3/envs/python2/lib/python2.7/site-packages/numpy/core/include/numpy/arrayobject.h:4,\n",
      "                 from /data/mleocmach/.cache/ipython/cython/_cython_magic_8e21d051df37107da4dfc0d81ba886b3.c:279:\n",
      "/home/mathieu/anaconda3/envs/python2/lib/python2.7/site-packages/numpy/core/include/numpy/npy_1_7_deprecated_api.h:15:2: warning: #warning \"Using deprecated NumPy API, disable it by \" \"#defining NPY_NO_DEPRECATED_API NPY_1_7_API_VERSION\" [-Wcpp]\n",
      " #warning \"Using deprecated NumPy API, disable it by \" \\\n",
      "  ^\n",
      "In file included from /home/mathieu/anaconda3/envs/python2/lib/python2.7/site-packages/numpy/core/include/numpy/ndarrayobject.h:27:0,\n",
      "                 from /home/mathieu/anaconda3/envs/python2/lib/python2.7/site-packages/numpy/core/include/numpy/arrayobject.h:4,\n",
      "                 from /data/mleocmach/.cache/ipython/cython/_cython_magic_8e21d051df37107da4dfc0d81ba886b3.c:279:\n",
      "/home/mathieu/anaconda3/envs/python2/lib/python2.7/site-packages/numpy/core/include/numpy/__multiarray_api.h:1453:1: warning: ‘_import_array’ defined but not used [-Wunused-function]\n",
      " _import_array(void)\n",
      " ^\n",
      "gcc -pthread -shared -L/home/mathieu/anaconda3/envs/python2/lib -Wl,-rpath=/home/mathieu/anaconda3/envs/python2/lib,--no-as-needed /data/mleocmach/.cache/ipython/cython/data/mleocmach/.cache/ipython/cython/_cython_magic_8e21d051df37107da4dfc0d81ba886b3.o -L/home/mathieu/anaconda3/envs/python2/lib -lpython2.7 -o /data/mleocmach/.cache/ipython/cython/_cython_magic_8e21d051df37107da4dfc0d81ba886b3.so\n"
     ]
    },
    {
     "data": {
      "text/html": [
       "<!DOCTYPE html>\n",
       "<!-- Generated by Cython 0.23.4 -->\n",
       "<html>\n",
       "<head>\n",
       "    <meta http-equiv=\"Content-Type\" content=\"text/html; charset=utf-8\" />\n",
       "    <title>Cython: _cython_magic_8e21d051df37107da4dfc0d81ba886b3.pyx</title>\n",
       "    <style type=\"text/css\">\n",
       "    \n",
       "body.cython { font-family: courier; font-size: 12; }\n",
       "\n",
       ".cython.tag  {  }\n",
       ".cython.line { margin: 0em }\n",
       ".cython.code { font-size: 9; color: #444444; display: none; margin: 0px 0px 0px 8px; border-left: 8px none; }\n",
       "\n",
       ".cython.line .run { background-color: #B0FFB0; }\n",
       ".cython.line .mis { background-color: #FFB0B0; }\n",
       ".cython.code.run  { border-left: 8px solid #B0FFB0; }\n",
       ".cython.code.mis  { border-left: 8px solid #FFB0B0; }\n",
       "\n",
       ".cython.code .py_c_api  { color: red; }\n",
       ".cython.code .py_macro_api  { color: #FF7000; }\n",
       ".cython.code .pyx_c_api  { color: #FF3000; }\n",
       ".cython.code .pyx_macro_api  { color: #FF7000; }\n",
       ".cython.code .refnanny  { color: #FFA000; }\n",
       ".cython.code .trace  { color: #FFA000; }\n",
       ".cython.code .error_goto  { color: #FFA000; }\n",
       "\n",
       ".cython.code .coerce  { color: #008000; border: 1px dotted #008000 }\n",
       ".cython.code .py_attr { color: #FF0000; font-weight: bold; }\n",
       ".cython.code .c_attr  { color: #0000FF; }\n",
       ".cython.code .py_call { color: #FF0000; font-weight: bold; }\n",
       ".cython.code .c_call  { color: #0000FF; }\n",
       "\n",
       ".cython.score-0 {background-color: #FFFFff;}\n",
       ".cython.score-1 {background-color: #FFFFe7;}\n",
       ".cython.score-2 {background-color: #FFFFd4;}\n",
       ".cython.score-3 {background-color: #FFFFc4;}\n",
       ".cython.score-4 {background-color: #FFFFb6;}\n",
       ".cython.score-5 {background-color: #FFFFaa;}\n",
       ".cython.score-6 {background-color: #FFFF9f;}\n",
       ".cython.score-7 {background-color: #FFFF96;}\n",
       ".cython.score-8 {background-color: #FFFF8d;}\n",
       ".cython.score-9 {background-color: #FFFF86;}\n",
       ".cython.score-10 {background-color: #FFFF7f;}\n",
       ".cython.score-11 {background-color: #FFFF79;}\n",
       ".cython.score-12 {background-color: #FFFF73;}\n",
       ".cython.score-13 {background-color: #FFFF6e;}\n",
       ".cython.score-14 {background-color: #FFFF6a;}\n",
       ".cython.score-15 {background-color: #FFFF66;}\n",
       ".cython.score-16 {background-color: #FFFF62;}\n",
       ".cython.score-17 {background-color: #FFFF5e;}\n",
       ".cython.score-18 {background-color: #FFFF5b;}\n",
       ".cython.score-19 {background-color: #FFFF57;}\n",
       ".cython.score-20 {background-color: #FFFF55;}\n",
       ".cython.score-21 {background-color: #FFFF52;}\n",
       ".cython.score-22 {background-color: #FFFF4f;}\n",
       ".cython.score-23 {background-color: #FFFF4d;}\n",
       ".cython.score-24 {background-color: #FFFF4b;}\n",
       ".cython.score-25 {background-color: #FFFF48;}\n",
       ".cython.score-26 {background-color: #FFFF46;}\n",
       ".cython.score-27 {background-color: #FFFF44;}\n",
       ".cython.score-28 {background-color: #FFFF43;}\n",
       ".cython.score-29 {background-color: #FFFF41;}\n",
       ".cython.score-30 {background-color: #FFFF3f;}\n",
       ".cython.score-31 {background-color: #FFFF3e;}\n",
       ".cython.score-32 {background-color: #FFFF3c;}\n",
       ".cython.score-33 {background-color: #FFFF3b;}\n",
       ".cython.score-34 {background-color: #FFFF39;}\n",
       ".cython.score-35 {background-color: #FFFF38;}\n",
       ".cython.score-36 {background-color: #FFFF37;}\n",
       ".cython.score-37 {background-color: #FFFF36;}\n",
       ".cython.score-38 {background-color: #FFFF35;}\n",
       ".cython.score-39 {background-color: #FFFF34;}\n",
       ".cython.score-40 {background-color: #FFFF33;}\n",
       ".cython.score-41 {background-color: #FFFF32;}\n",
       ".cython.score-42 {background-color: #FFFF31;}\n",
       ".cython.score-43 {background-color: #FFFF30;}\n",
       ".cython.score-44 {background-color: #FFFF2f;}\n",
       ".cython.score-45 {background-color: #FFFF2e;}\n",
       ".cython.score-46 {background-color: #FFFF2d;}\n",
       ".cython.score-47 {background-color: #FFFF2c;}\n",
       ".cython.score-48 {background-color: #FFFF2b;}\n",
       ".cython.score-49 {background-color: #FFFF2b;}\n",
       ".cython.score-50 {background-color: #FFFF2a;}\n",
       ".cython.score-51 {background-color: #FFFF29;}\n",
       ".cython.score-52 {background-color: #FFFF29;}\n",
       ".cython.score-53 {background-color: #FFFF28;}\n",
       ".cython.score-54 {background-color: #FFFF27;}\n",
       ".cython.score-55 {background-color: #FFFF27;}\n",
       ".cython.score-56 {background-color: #FFFF26;}\n",
       ".cython.score-57 {background-color: #FFFF26;}\n",
       ".cython.score-58 {background-color: #FFFF25;}\n",
       ".cython.score-59 {background-color: #FFFF24;}\n",
       ".cython.score-60 {background-color: #FFFF24;}\n",
       ".cython.score-61 {background-color: #FFFF23;}\n",
       ".cython.score-62 {background-color: #FFFF23;}\n",
       ".cython.score-63 {background-color: #FFFF22;}\n",
       ".cython.score-64 {background-color: #FFFF22;}\n",
       ".cython.score-65 {background-color: #FFFF22;}\n",
       ".cython.score-66 {background-color: #FFFF21;}\n",
       ".cython.score-67 {background-color: #FFFF21;}\n",
       ".cython.score-68 {background-color: #FFFF20;}\n",
       ".cython.score-69 {background-color: #FFFF20;}\n",
       ".cython.score-70 {background-color: #FFFF1f;}\n",
       ".cython.score-71 {background-color: #FFFF1f;}\n",
       ".cython.score-72 {background-color: #FFFF1f;}\n",
       ".cython.score-73 {background-color: #FFFF1e;}\n",
       ".cython.score-74 {background-color: #FFFF1e;}\n",
       ".cython.score-75 {background-color: #FFFF1e;}\n",
       ".cython.score-76 {background-color: #FFFF1d;}\n",
       ".cython.score-77 {background-color: #FFFF1d;}\n",
       ".cython.score-78 {background-color: #FFFF1c;}\n",
       ".cython.score-79 {background-color: #FFFF1c;}\n",
       ".cython.score-80 {background-color: #FFFF1c;}\n",
       ".cython.score-81 {background-color: #FFFF1c;}\n",
       ".cython.score-82 {background-color: #FFFF1b;}\n",
       ".cython.score-83 {background-color: #FFFF1b;}\n",
       ".cython.score-84 {background-color: #FFFF1b;}\n",
       ".cython.score-85 {background-color: #FFFF1a;}\n",
       ".cython.score-86 {background-color: #FFFF1a;}\n",
       ".cython.score-87 {background-color: #FFFF1a;}\n",
       ".cython.score-88 {background-color: #FFFF1a;}\n",
       ".cython.score-89 {background-color: #FFFF19;}\n",
       ".cython.score-90 {background-color: #FFFF19;}\n",
       ".cython.score-91 {background-color: #FFFF19;}\n",
       ".cython.score-92 {background-color: #FFFF19;}\n",
       ".cython.score-93 {background-color: #FFFF18;}\n",
       ".cython.score-94 {background-color: #FFFF18;}\n",
       ".cython.score-95 {background-color: #FFFF18;}\n",
       ".cython.score-96 {background-color: #FFFF18;}\n",
       ".cython.score-97 {background-color: #FFFF17;}\n",
       ".cython.score-98 {background-color: #FFFF17;}\n",
       ".cython.score-99 {background-color: #FFFF17;}\n",
       ".cython.score-100 {background-color: #FFFF17;}\n",
       ".cython.score-101 {background-color: #FFFF16;}\n",
       ".cython.score-102 {background-color: #FFFF16;}\n",
       ".cython.score-103 {background-color: #FFFF16;}\n",
       ".cython.score-104 {background-color: #FFFF16;}\n",
       ".cython.score-105 {background-color: #FFFF16;}\n",
       ".cython.score-106 {background-color: #FFFF15;}\n",
       ".cython.score-107 {background-color: #FFFF15;}\n",
       ".cython.score-108 {background-color: #FFFF15;}\n",
       ".cython.score-109 {background-color: #FFFF15;}\n",
       ".cython.score-110 {background-color: #FFFF15;}\n",
       ".cython.score-111 {background-color: #FFFF15;}\n",
       ".cython.score-112 {background-color: #FFFF14;}\n",
       ".cython.score-113 {background-color: #FFFF14;}\n",
       ".cython.score-114 {background-color: #FFFF14;}\n",
       ".cython.score-115 {background-color: #FFFF14;}\n",
       ".cython.score-116 {background-color: #FFFF14;}\n",
       ".cython.score-117 {background-color: #FFFF14;}\n",
       ".cython.score-118 {background-color: #FFFF13;}\n",
       ".cython.score-119 {background-color: #FFFF13;}\n",
       ".cython.score-120 {background-color: #FFFF13;}\n",
       ".cython.score-121 {background-color: #FFFF13;}\n",
       ".cython.score-122 {background-color: #FFFF13;}\n",
       ".cython.score-123 {background-color: #FFFF13;}\n",
       ".cython.score-124 {background-color: #FFFF13;}\n",
       ".cython.score-125 {background-color: #FFFF12;}\n",
       ".cython.score-126 {background-color: #FFFF12;}\n",
       ".cython.score-127 {background-color: #FFFF12;}\n",
       ".cython.score-128 {background-color: #FFFF12;}\n",
       ".cython.score-129 {background-color: #FFFF12;}\n",
       ".cython.score-130 {background-color: #FFFF12;}\n",
       ".cython.score-131 {background-color: #FFFF12;}\n",
       ".cython.score-132 {background-color: #FFFF11;}\n",
       ".cython.score-133 {background-color: #FFFF11;}\n",
       ".cython.score-134 {background-color: #FFFF11;}\n",
       ".cython.score-135 {background-color: #FFFF11;}\n",
       ".cython.score-136 {background-color: #FFFF11;}\n",
       ".cython.score-137 {background-color: #FFFF11;}\n",
       ".cython.score-138 {background-color: #FFFF11;}\n",
       ".cython.score-139 {background-color: #FFFF11;}\n",
       ".cython.score-140 {background-color: #FFFF11;}\n",
       ".cython.score-141 {background-color: #FFFF10;}\n",
       ".cython.score-142 {background-color: #FFFF10;}\n",
       ".cython.score-143 {background-color: #FFFF10;}\n",
       ".cython.score-144 {background-color: #FFFF10;}\n",
       ".cython.score-145 {background-color: #FFFF10;}\n",
       ".cython.score-146 {background-color: #FFFF10;}\n",
       ".cython.score-147 {background-color: #FFFF10;}\n",
       ".cython.score-148 {background-color: #FFFF10;}\n",
       ".cython.score-149 {background-color: #FFFF10;}\n",
       ".cython.score-150 {background-color: #FFFF0f;}\n",
       ".cython.score-151 {background-color: #FFFF0f;}\n",
       ".cython.score-152 {background-color: #FFFF0f;}\n",
       ".cython.score-153 {background-color: #FFFF0f;}\n",
       ".cython.score-154 {background-color: #FFFF0f;}\n",
       ".cython.score-155 {background-color: #FFFF0f;}\n",
       ".cython.score-156 {background-color: #FFFF0f;}\n",
       ".cython.score-157 {background-color: #FFFF0f;}\n",
       ".cython.score-158 {background-color: #FFFF0f;}\n",
       ".cython.score-159 {background-color: #FFFF0f;}\n",
       ".cython.score-160 {background-color: #FFFF0f;}\n",
       ".cython.score-161 {background-color: #FFFF0e;}\n",
       ".cython.score-162 {background-color: #FFFF0e;}\n",
       ".cython.score-163 {background-color: #FFFF0e;}\n",
       ".cython.score-164 {background-color: #FFFF0e;}\n",
       ".cython.score-165 {background-color: #FFFF0e;}\n",
       ".cython.score-166 {background-color: #FFFF0e;}\n",
       ".cython.score-167 {background-color: #FFFF0e;}\n",
       ".cython.score-168 {background-color: #FFFF0e;}\n",
       ".cython.score-169 {background-color: #FFFF0e;}\n",
       ".cython.score-170 {background-color: #FFFF0e;}\n",
       ".cython.score-171 {background-color: #FFFF0e;}\n",
       ".cython.score-172 {background-color: #FFFF0e;}\n",
       ".cython.score-173 {background-color: #FFFF0d;}\n",
       ".cython.score-174 {background-color: #FFFF0d;}\n",
       ".cython.score-175 {background-color: #FFFF0d;}\n",
       ".cython.score-176 {background-color: #FFFF0d;}\n",
       ".cython.score-177 {background-color: #FFFF0d;}\n",
       ".cython.score-178 {background-color: #FFFF0d;}\n",
       ".cython.score-179 {background-color: #FFFF0d;}\n",
       ".cython.score-180 {background-color: #FFFF0d;}\n",
       ".cython.score-181 {background-color: #FFFF0d;}\n",
       ".cython.score-182 {background-color: #FFFF0d;}\n",
       ".cython.score-183 {background-color: #FFFF0d;}\n",
       ".cython.score-184 {background-color: #FFFF0d;}\n",
       ".cython.score-185 {background-color: #FFFF0d;}\n",
       ".cython.score-186 {background-color: #FFFF0d;}\n",
       ".cython.score-187 {background-color: #FFFF0c;}\n",
       ".cython.score-188 {background-color: #FFFF0c;}\n",
       ".cython.score-189 {background-color: #FFFF0c;}\n",
       ".cython.score-190 {background-color: #FFFF0c;}\n",
       ".cython.score-191 {background-color: #FFFF0c;}\n",
       ".cython.score-192 {background-color: #FFFF0c;}\n",
       ".cython.score-193 {background-color: #FFFF0c;}\n",
       ".cython.score-194 {background-color: #FFFF0c;}\n",
       ".cython.score-195 {background-color: #FFFF0c;}\n",
       ".cython.score-196 {background-color: #FFFF0c;}\n",
       ".cython.score-197 {background-color: #FFFF0c;}\n",
       ".cython.score-198 {background-color: #FFFF0c;}\n",
       ".cython.score-199 {background-color: #FFFF0c;}\n",
       ".cython.score-200 {background-color: #FFFF0c;}\n",
       ".cython.score-201 {background-color: #FFFF0c;}\n",
       ".cython.score-202 {background-color: #FFFF0c;}\n",
       ".cython.score-203 {background-color: #FFFF0b;}\n",
       ".cython.score-204 {background-color: #FFFF0b;}\n",
       ".cython.score-205 {background-color: #FFFF0b;}\n",
       ".cython.score-206 {background-color: #FFFF0b;}\n",
       ".cython.score-207 {background-color: #FFFF0b;}\n",
       ".cython.score-208 {background-color: #FFFF0b;}\n",
       ".cython.score-209 {background-color: #FFFF0b;}\n",
       ".cython.score-210 {background-color: #FFFF0b;}\n",
       ".cython.score-211 {background-color: #FFFF0b;}\n",
       ".cython.score-212 {background-color: #FFFF0b;}\n",
       ".cython.score-213 {background-color: #FFFF0b;}\n",
       ".cython.score-214 {background-color: #FFFF0b;}\n",
       ".cython.score-215 {background-color: #FFFF0b;}\n",
       ".cython.score-216 {background-color: #FFFF0b;}\n",
       ".cython.score-217 {background-color: #FFFF0b;}\n",
       ".cython.score-218 {background-color: #FFFF0b;}\n",
       ".cython.score-219 {background-color: #FFFF0b;}\n",
       ".cython.score-220 {background-color: #FFFF0b;}\n",
       ".cython.score-221 {background-color: #FFFF0b;}\n",
       ".cython.score-222 {background-color: #FFFF0a;}\n",
       ".cython.score-223 {background-color: #FFFF0a;}\n",
       ".cython.score-224 {background-color: #FFFF0a;}\n",
       ".cython.score-225 {background-color: #FFFF0a;}\n",
       ".cython.score-226 {background-color: #FFFF0a;}\n",
       ".cython.score-227 {background-color: #FFFF0a;}\n",
       ".cython.score-228 {background-color: #FFFF0a;}\n",
       ".cython.score-229 {background-color: #FFFF0a;}\n",
       ".cython.score-230 {background-color: #FFFF0a;}\n",
       ".cython.score-231 {background-color: #FFFF0a;}\n",
       ".cython.score-232 {background-color: #FFFF0a;}\n",
       ".cython.score-233 {background-color: #FFFF0a;}\n",
       ".cython.score-234 {background-color: #FFFF0a;}\n",
       ".cython.score-235 {background-color: #FFFF0a;}\n",
       ".cython.score-236 {background-color: #FFFF0a;}\n",
       ".cython.score-237 {background-color: #FFFF0a;}\n",
       ".cython.score-238 {background-color: #FFFF0a;}\n",
       ".cython.score-239 {background-color: #FFFF0a;}\n",
       ".cython.score-240 {background-color: #FFFF0a;}\n",
       ".cython.score-241 {background-color: #FFFF0a;}\n",
       ".cython.score-242 {background-color: #FFFF0a;}\n",
       ".cython.score-243 {background-color: #FFFF0a;}\n",
       ".cython.score-244 {background-color: #FFFF0a;}\n",
       ".cython.score-245 {background-color: #FFFF0a;}\n",
       ".cython.score-246 {background-color: #FFFF09;}\n",
       ".cython.score-247 {background-color: #FFFF09;}\n",
       ".cython.score-248 {background-color: #FFFF09;}\n",
       ".cython.score-249 {background-color: #FFFF09;}\n",
       ".cython.score-250 {background-color: #FFFF09;}\n",
       ".cython.score-251 {background-color: #FFFF09;}\n",
       ".cython.score-252 {background-color: #FFFF09;}\n",
       ".cython.score-253 {background-color: #FFFF09;}\n",
       ".cython.score-254 {background-color: #FFFF09;}\n",
       ".cython .hll { background-color: #ffffcc }\n",
       ".cython  { background: #f8f8f8; }\n",
       ".cython .c { color: #408080; font-style: italic } /* Comment */\n",
       ".cython .err { border: 1px solid #FF0000 } /* Error */\n",
       ".cython .k { color: #008000; font-weight: bold } /* Keyword */\n",
       ".cython .o { color: #666666 } /* Operator */\n",
       ".cython .cm { color: #408080; font-style: italic } /* Comment.Multiline */\n",
       ".cython .cp { color: #BC7A00 } /* Comment.Preproc */\n",
       ".cython .c1 { color: #408080; font-style: italic } /* Comment.Single */\n",
       ".cython .cs { color: #408080; font-style: italic } /* Comment.Special */\n",
       ".cython .gd { color: #A00000 } /* Generic.Deleted */\n",
       ".cython .ge { font-style: italic } /* Generic.Emph */\n",
       ".cython .gr { color: #FF0000 } /* Generic.Error */\n",
       ".cython .gh { color: #000080; font-weight: bold } /* Generic.Heading */\n",
       ".cython .gi { color: #00A000 } /* Generic.Inserted */\n",
       ".cython .go { color: #888888 } /* Generic.Output */\n",
       ".cython .gp { color: #000080; font-weight: bold } /* Generic.Prompt */\n",
       ".cython .gs { font-weight: bold } /* Generic.Strong */\n",
       ".cython .gu { color: #800080; font-weight: bold } /* Generic.Subheading */\n",
       ".cython .gt { color: #0044DD } /* Generic.Traceback */\n",
       ".cython .kc { color: #008000; font-weight: bold } /* Keyword.Constant */\n",
       ".cython .kd { color: #008000; font-weight: bold } /* Keyword.Declaration */\n",
       ".cython .kn { color: #008000; font-weight: bold } /* Keyword.Namespace */\n",
       ".cython .kp { color: #008000 } /* Keyword.Pseudo */\n",
       ".cython .kr { color: #008000; font-weight: bold } /* Keyword.Reserved */\n",
       ".cython .kt { color: #B00040 } /* Keyword.Type */\n",
       ".cython .m { color: #666666 } /* Literal.Number */\n",
       ".cython .s { color: #BA2121 } /* Literal.String */\n",
       ".cython .na { color: #7D9029 } /* Name.Attribute */\n",
       ".cython .nb { color: #008000 } /* Name.Builtin */\n",
       ".cython .nc { color: #0000FF; font-weight: bold } /* Name.Class */\n",
       ".cython .no { color: #880000 } /* Name.Constant */\n",
       ".cython .nd { color: #AA22FF } /* Name.Decorator */\n",
       ".cython .ni { color: #999999; font-weight: bold } /* Name.Entity */\n",
       ".cython .ne { color: #D2413A; font-weight: bold } /* Name.Exception */\n",
       ".cython .nf { color: #0000FF } /* Name.Function */\n",
       ".cython .nl { color: #A0A000 } /* Name.Label */\n",
       ".cython .nn { color: #0000FF; font-weight: bold } /* Name.Namespace */\n",
       ".cython .nt { color: #008000; font-weight: bold } /* Name.Tag */\n",
       ".cython .nv { color: #19177C } /* Name.Variable */\n",
       ".cython .ow { color: #AA22FF; font-weight: bold } /* Operator.Word */\n",
       ".cython .w { color: #bbbbbb } /* Text.Whitespace */\n",
       ".cython .mb { color: #666666 } /* Literal.Number.Bin */\n",
       ".cython .mf { color: #666666 } /* Literal.Number.Float */\n",
       ".cython .mh { color: #666666 } /* Literal.Number.Hex */\n",
       ".cython .mi { color: #666666 } /* Literal.Number.Integer */\n",
       ".cython .mo { color: #666666 } /* Literal.Number.Oct */\n",
       ".cython .sb { color: #BA2121 } /* Literal.String.Backtick */\n",
       ".cython .sc { color: #BA2121 } /* Literal.String.Char */\n",
       ".cython .sd { color: #BA2121; font-style: italic } /* Literal.String.Doc */\n",
       ".cython .s2 { color: #BA2121 } /* Literal.String.Double */\n",
       ".cython .se { color: #BB6622; font-weight: bold } /* Literal.String.Escape */\n",
       ".cython .sh { color: #BA2121 } /* Literal.String.Heredoc */\n",
       ".cython .si { color: #BB6688; font-weight: bold } /* Literal.String.Interpol */\n",
       ".cython .sx { color: #008000 } /* Literal.String.Other */\n",
       ".cython .sr { color: #BB6688 } /* Literal.String.Regex */\n",
       ".cython .s1 { color: #BA2121 } /* Literal.String.Single */\n",
       ".cython .ss { color: #19177C } /* Literal.String.Symbol */\n",
       ".cython .bp { color: #008000 } /* Name.Builtin.Pseudo */\n",
       ".cython .vc { color: #19177C } /* Name.Variable.Class */\n",
       ".cython .vg { color: #19177C } /* Name.Variable.Global */\n",
       ".cython .vi { color: #19177C } /* Name.Variable.Instance */\n",
       ".cython .il { color: #666666 } /* Literal.Number.Integer.Long */\n",
       "    </style>\n",
       "    <script>\n",
       "    function toggleDiv(id) {\n",
       "        theDiv = id.nextElementSibling\n",
       "        if (theDiv.style.display != 'block') theDiv.style.display = 'block';\n",
       "        else theDiv.style.display = 'none';\n",
       "    }\n",
       "    </script>\n",
       "</head>\n",
       "<body class=\"cython\">\n",
       "<p><span style=\"border-bottom: solid 1px grey;\">Generated by Cython 0.23.4</span></p>\n",
       "<p>\n",
       "    <span style=\"background-color: #FFFF00\">Yellow lines</span> hint at Python interaction.<br />\n",
       "    Click on a line that starts with a \"<code>+</code>\" to see the C code that Cython generated for it.\n",
       "</p>\n",
       "<div class=\"cython\"><pre class=\"cython line score-19\" onclick='toggleDiv(this)'>+<span class=\"\">01</span>: <span class=\"k\">import</span> <span class=\"nn\">numpy</span> <span class=\"k\">as</span> <span class=\"nn\">np</span></pre>\n",
       "<pre class='cython code score-19 '>  __pyx_t_1 = <span class='pyx_c_api'>__Pyx_Import</span>(__pyx_n_s_numpy, 0, -1);<span class='error_goto'> if (unlikely(!__pyx_t_1)) {__pyx_filename = __pyx_f[0]; __pyx_lineno = 1; __pyx_clineno = __LINE__; goto __pyx_L1_error;}</span>\n",
       "  <span class='refnanny'>__Pyx_GOTREF</span>(__pyx_t_1);\n",
       "  if (<span class='py_c_api'>PyDict_SetItem</span>(__pyx_d, __pyx_n_s_np, __pyx_t_1) &lt; 0) <span class='error_goto'>{__pyx_filename = __pyx_f[0]; __pyx_lineno = 1; __pyx_clineno = __LINE__; goto __pyx_L1_error;}</span>\n",
       "  <span class='pyx_macro_api'>__Pyx_DECREF</span>(__pyx_t_1); __pyx_t_1 = 0;\n",
       "/* … */\n",
       "  __pyx_t_2 = <span class='py_c_api'>PyDict_New</span>();<span class='error_goto'> if (unlikely(!__pyx_t_2)) {__pyx_filename = __pyx_f[0]; __pyx_lineno = 1; __pyx_clineno = __LINE__; goto __pyx_L1_error;}</span>\n",
       "  <span class='refnanny'>__Pyx_GOTREF</span>(__pyx_t_2);\n",
       "  if (<span class='py_c_api'>PyDict_SetItem</span>(__pyx_d, __pyx_n_s_test, __pyx_t_2) &lt; 0) <span class='error_goto'>{__pyx_filename = __pyx_f[0]; __pyx_lineno = 1; __pyx_clineno = __LINE__; goto __pyx_L1_error;}</span>\n",
       "  <span class='pyx_macro_api'>__Pyx_DECREF</span>(__pyx_t_2); __pyx_t_2 = 0;\n",
       "</pre><pre class=\"cython line score-0\">&#xA0;<span class=\"\">02</span>: <span class=\"k\">cimport</span> <span class=\"nn\">numpy</span> <span class=\"k\">as</span> <span class=\"nn\">np</span></pre>\n",
       "<pre class=\"cython line score-0\">&#xA0;<span class=\"\">03</span>: <span class=\"k\">cimport</span> <span class=\"nn\">cython</span></pre>\n",
       "<pre class=\"cython line score-0\">&#xA0;<span class=\"\">04</span>: <span class=\"k\">from</span> <span class=\"nn\">libc.math</span> <span class=\"k\">cimport</span> <span class=\"n\">sqrt</span></pre>\n",
       "<pre class=\"cython line score-0\">&#xA0;<span class=\"\">05</span>: </pre>\n",
       "<pre class=\"cython line score-19\" onclick='toggleDiv(this)'>+<span class=\"\">06</span>: <span class=\"k\">from</span> <span class=\"nn\">scipy.spatial</span> <span class=\"k\">import</span> <span class=\"n\">cKDTree</span> <span class=\"k\">as</span> <span class=\"n\">KDTree</span></pre>\n",
       "<pre class='cython code score-19 '>  __pyx_t_1 = <span class='py_c_api'>PyList_New</span>(1);<span class='error_goto'> if (unlikely(!__pyx_t_1)) {__pyx_filename = __pyx_f[0]; __pyx_lineno = 6; __pyx_clineno = __LINE__; goto __pyx_L1_error;}</span>\n",
       "  <span class='refnanny'>__Pyx_GOTREF</span>(__pyx_t_1);\n",
       "  <span class='pyx_macro_api'>__Pyx_INCREF</span>(__pyx_n_s_cKDTree);\n",
       "  <span class='refnanny'>__Pyx_GIVEREF</span>(__pyx_n_s_cKDTree);\n",
       "  <span class='py_macro_api'>PyList_SET_ITEM</span>(__pyx_t_1, 0, __pyx_n_s_cKDTree);\n",
       "  __pyx_t_2 = <span class='pyx_c_api'>__Pyx_Import</span>(__pyx_n_s_scipy_spatial, __pyx_t_1, -1);<span class='error_goto'> if (unlikely(!__pyx_t_2)) {__pyx_filename = __pyx_f[0]; __pyx_lineno = 6; __pyx_clineno = __LINE__; goto __pyx_L1_error;}</span>\n",
       "  <span class='refnanny'>__Pyx_GOTREF</span>(__pyx_t_2);\n",
       "  <span class='pyx_macro_api'>__Pyx_DECREF</span>(__pyx_t_1); __pyx_t_1 = 0;\n",
       "  __pyx_t_1 = <span class='pyx_c_api'>__Pyx_ImportFrom</span>(__pyx_t_2, __pyx_n_s_cKDTree);<span class='error_goto'> if (unlikely(!__pyx_t_1)) {__pyx_filename = __pyx_f[0]; __pyx_lineno = 6; __pyx_clineno = __LINE__; goto __pyx_L1_error;}</span>\n",
       "  <span class='refnanny'>__Pyx_GOTREF</span>(__pyx_t_1);\n",
       "  if (<span class='py_c_api'>PyDict_SetItem</span>(__pyx_d, __pyx_n_s_KDTree, __pyx_t_1) &lt; 0) <span class='error_goto'>{__pyx_filename = __pyx_f[0]; __pyx_lineno = 6; __pyx_clineno = __LINE__; goto __pyx_L1_error;}</span>\n",
       "  <span class='pyx_macro_api'>__Pyx_DECREF</span>(__pyx_t_1); __pyx_t_1 = 0;\n",
       "  <span class='pyx_macro_api'>__Pyx_DECREF</span>(__pyx_t_2); __pyx_t_2 = 0;\n",
       "</pre><pre class=\"cython line score-0\">&#xA0;<span class=\"\">07</span>: <span class=\"c\">#from scipy.spatial cimport cKDTree as KDTree</span></pre>\n",
       "<pre class=\"cython line score-29\" onclick='toggleDiv(this)'>+<span class=\"\">08</span>: <span class=\"k\">from</span> <span class=\"nn\">colloids</span> <span class=\"k\">import</span> <span class=\"n\">particles</span><span class=\"p\">,</span> <span class=\"n\">boo</span></pre>\n",
       "<pre class='cython code score-29 '>  __pyx_t_2 = <span class='py_c_api'>PyList_New</span>(2);<span class='error_goto'> if (unlikely(!__pyx_t_2)) {__pyx_filename = __pyx_f[0]; __pyx_lineno = 8; __pyx_clineno = __LINE__; goto __pyx_L1_error;}</span>\n",
       "  <span class='refnanny'>__Pyx_GOTREF</span>(__pyx_t_2);\n",
       "  <span class='pyx_macro_api'>__Pyx_INCREF</span>(__pyx_n_s_particles);\n",
       "  <span class='refnanny'>__Pyx_GIVEREF</span>(__pyx_n_s_particles);\n",
       "  <span class='py_macro_api'>PyList_SET_ITEM</span>(__pyx_t_2, 0, __pyx_n_s_particles);\n",
       "  <span class='pyx_macro_api'>__Pyx_INCREF</span>(__pyx_n_s_boo);\n",
       "  <span class='refnanny'>__Pyx_GIVEREF</span>(__pyx_n_s_boo);\n",
       "  <span class='py_macro_api'>PyList_SET_ITEM</span>(__pyx_t_2, 1, __pyx_n_s_boo);\n",
       "  __pyx_t_1 = <span class='pyx_c_api'>__Pyx_Import</span>(__pyx_n_s_colloids, __pyx_t_2, -1);<span class='error_goto'> if (unlikely(!__pyx_t_1)) {__pyx_filename = __pyx_f[0]; __pyx_lineno = 8; __pyx_clineno = __LINE__; goto __pyx_L1_error;}</span>\n",
       "  <span class='refnanny'>__Pyx_GOTREF</span>(__pyx_t_1);\n",
       "  <span class='pyx_macro_api'>__Pyx_DECREF</span>(__pyx_t_2); __pyx_t_2 = 0;\n",
       "  __pyx_t_2 = <span class='pyx_c_api'>__Pyx_ImportFrom</span>(__pyx_t_1, __pyx_n_s_particles);<span class='error_goto'> if (unlikely(!__pyx_t_2)) {__pyx_filename = __pyx_f[0]; __pyx_lineno = 8; __pyx_clineno = __LINE__; goto __pyx_L1_error;}</span>\n",
       "  <span class='refnanny'>__Pyx_GOTREF</span>(__pyx_t_2);\n",
       "  if (<span class='py_c_api'>PyDict_SetItem</span>(__pyx_d, __pyx_n_s_particles, __pyx_t_2) &lt; 0) <span class='error_goto'>{__pyx_filename = __pyx_f[0]; __pyx_lineno = 8; __pyx_clineno = __LINE__; goto __pyx_L1_error;}</span>\n",
       "  <span class='pyx_macro_api'>__Pyx_DECREF</span>(__pyx_t_2); __pyx_t_2 = 0;\n",
       "  __pyx_t_2 = <span class='pyx_c_api'>__Pyx_ImportFrom</span>(__pyx_t_1, __pyx_n_s_boo);<span class='error_goto'> if (unlikely(!__pyx_t_2)) {__pyx_filename = __pyx_f[0]; __pyx_lineno = 8; __pyx_clineno = __LINE__; goto __pyx_L1_error;}</span>\n",
       "  <span class='refnanny'>__Pyx_GOTREF</span>(__pyx_t_2);\n",
       "  if (<span class='py_c_api'>PyDict_SetItem</span>(__pyx_d, __pyx_n_s_boo, __pyx_t_2) &lt; 0) <span class='error_goto'>{__pyx_filename = __pyx_f[0]; __pyx_lineno = 8; __pyx_clineno = __LINE__; goto __pyx_L1_error;}</span>\n",
       "  <span class='pyx_macro_api'>__Pyx_DECREF</span>(__pyx_t_2); __pyx_t_2 = 0;\n",
       "  <span class='pyx_macro_api'>__Pyx_DECREF</span>(__pyx_t_1); __pyx_t_1 = 0;\n",
       "</pre><pre class=\"cython line score-19\" onclick='toggleDiv(this)'>+<span class=\"\">09</span>: <span class=\"k\">from</span> <span class=\"nn\">colloids.boo</span> <span class=\"k\">import</span> <span class=\"n\">boo_product</span></pre>\n",
       "<pre class='cython code score-19 '>  __pyx_t_1 = <span class='py_c_api'>PyList_New</span>(1);<span class='error_goto'> if (unlikely(!__pyx_t_1)) {__pyx_filename = __pyx_f[0]; __pyx_lineno = 9; __pyx_clineno = __LINE__; goto __pyx_L1_error;}</span>\n",
       "  <span class='refnanny'>__Pyx_GOTREF</span>(__pyx_t_1);\n",
       "  <span class='pyx_macro_api'>__Pyx_INCREF</span>(__pyx_n_s_boo_product);\n",
       "  <span class='refnanny'>__Pyx_GIVEREF</span>(__pyx_n_s_boo_product);\n",
       "  <span class='py_macro_api'>PyList_SET_ITEM</span>(__pyx_t_1, 0, __pyx_n_s_boo_product);\n",
       "  __pyx_t_2 = <span class='pyx_c_api'>__Pyx_Import</span>(__pyx_n_s_colloids_boo, __pyx_t_1, -1);<span class='error_goto'> if (unlikely(!__pyx_t_2)) {__pyx_filename = __pyx_f[0]; __pyx_lineno = 9; __pyx_clineno = __LINE__; goto __pyx_L1_error;}</span>\n",
       "  <span class='refnanny'>__Pyx_GOTREF</span>(__pyx_t_2);\n",
       "  <span class='pyx_macro_api'>__Pyx_DECREF</span>(__pyx_t_1); __pyx_t_1 = 0;\n",
       "  __pyx_t_1 = <span class='pyx_c_api'>__Pyx_ImportFrom</span>(__pyx_t_2, __pyx_n_s_boo_product);<span class='error_goto'> if (unlikely(!__pyx_t_1)) {__pyx_filename = __pyx_f[0]; __pyx_lineno = 9; __pyx_clineno = __LINE__; goto __pyx_L1_error;}</span>\n",
       "  <span class='refnanny'>__Pyx_GOTREF</span>(__pyx_t_1);\n",
       "  if (<span class='py_c_api'>PyDict_SetItem</span>(__pyx_d, __pyx_n_s_boo_product, __pyx_t_1) &lt; 0) <span class='error_goto'>{__pyx_filename = __pyx_f[0]; __pyx_lineno = 9; __pyx_clineno = __LINE__; goto __pyx_L1_error;}</span>\n",
       "  <span class='pyx_macro_api'>__Pyx_DECREF</span>(__pyx_t_1); __pyx_t_1 = 0;\n",
       "  <span class='pyx_macro_api'>__Pyx_DECREF</span>(__pyx_t_2); __pyx_t_2 = 0;\n",
       "</pre><pre class=\"cython line score-0\">&#xA0;<span class=\"\">10</span>: </pre>\n",
       "<pre class=\"cython line score-0\">&#xA0;<span class=\"\">11</span>: <span class=\"c\">#_dtype = [(&#39;i&#39;,np.intp),(&#39;j&#39;,np.intp),(&#39;v&#39;,np.float64)]</span></pre>\n",
       "<pre class=\"cython line score-0\">&#xA0;<span class=\"\">12</span>: <span class=\"c\">#res_dtype = np.dtype(_dtype, align = True)</span></pre>\n",
       "<pre class=\"cython line score-0\">&#xA0;<span class=\"\">13</span>: <span class=\"k\">cdef</span> <span class=\"kt\">packed</span> <span class=\"k\">struct</span> <span class=\"nf\">ijdist</span><span class=\"p\">:</span></pre>\n",
       "<pre class=\"cython line score-0\">&#xA0;<span class=\"\">14</span>:     <span class=\"n\">np</span><span class=\"o\">.</span><span class=\"n\">intp_t</span> <span class=\"n\">i</span><span class=\"p\">,</span><span class=\"n\">j</span></pre>\n",
       "<pre class=\"cython line score-0\">&#xA0;<span class=\"\">15</span>:     <span class=\"n\">np</span><span class=\"o\">.</span><span class=\"n\">float64_t</span> <span class=\"n\">v</span></pre>\n",
       "<pre class=\"cython line score-0\">&#xA0;<span class=\"\">16</span>: </pre>\n",
       "<pre class=\"cython line score-0\">&#xA0;<span class=\"\">17</span>: <span class=\"nd\">@cython</span><span class=\"o\">.</span><span class=\"n\">boundscheck</span><span class=\"p\">(</span><span class=\"bp\">False</span><span class=\"p\">)</span> <span class=\"c\"># turn off bounds-checking for entire function</span></pre>\n",
       "<pre class=\"cython line score-0\">&#xA0;<span class=\"\">18</span>: <span class=\"nd\">@cython</span><span class=\"o\">.</span><span class=\"n\">wraparound</span><span class=\"p\">(</span><span class=\"bp\">False</span><span class=\"p\">)</span>  <span class=\"c\"># turn off negative index wrapping for entire function</span></pre>\n",
       "<pre class=\"cython line score-0\">&#xA0;<span class=\"\">19</span>: <span class=\"nd\">@cython</span><span class=\"o\">.</span><span class=\"n\">cdivision</span><span class=\"p\">(</span><span class=\"bp\">True</span><span class=\"p\">)</span> <span class=\"c\"># turn off division by zero checking for entire function</span></pre>\n",
       "<pre class=\"cython line score-114\" onclick='toggleDiv(this)'>+<span class=\"\">20</span>: <span class=\"k\">def</span> <span class=\"nf\">cython_gG_l</span><span class=\"p\">(</span></pre>\n",
       "<pre class='cython code score-114 '>/* Python wrapper */\n",
       "static PyObject *__pyx_pw_46_cython_magic_8e21d051df37107da4dfc0d81ba886b3_1cython_gG_l(PyObject *__pyx_self, PyObject *__pyx_args, PyObject *__pyx_kwds); /*proto*/\n",
       "static char __pyx_doc_46_cython_magic_8e21d051df37107da4dfc0d81ba886b3_cython_gG_l[] = \"Spatial correlation of the qlms and the Qlms (non normalized.\\n    For each particle tagged as is_center, do the cross product between their qlm, their Qlm and count, \\n    then bin each quantity with respect to distance. \\n    The two first sums need to be normalised by the last one.\\n    \\n     - pos is a Nxd array of coordinates, with d the dimension of space\\n     - qlm is a Nx(2l+1) array of boo coordinates for l-fold symmetry\\n     - Qlm is the coarse-grained version of qlm\\n     - is_center is a N array of booleans. For example all particles further away than maxdist from any edge of the box.\\n     - Nbins is the number of bins along r\\n     - maxdist is the maximum distance considered\";\n",
       "static PyMethodDef __pyx_mdef_46_cython_magic_8e21d051df37107da4dfc0d81ba886b3_1cython_gG_l = {\"cython_gG_l\", (PyCFunction)__pyx_pw_46_cython_magic_8e21d051df37107da4dfc0d81ba886b3_1cython_gG_l, METH_VARARGS|METH_KEYWORDS, __pyx_doc_46_cython_magic_8e21d051df37107da4dfc0d81ba886b3_cython_gG_l};\n",
       "static PyObject *__pyx_pw_46_cython_magic_8e21d051df37107da4dfc0d81ba886b3_1cython_gG_l(PyObject *__pyx_self, PyObject *__pyx_args, PyObject *__pyx_kwds) {\n",
       "  PyArrayObject *__pyx_v_pos = 0;\n",
       "  PyObject *__pyx_v_qlms = 0;\n",
       "  PyObject *__pyx_v_Qlms = 0;\n",
       "  PyObject *__pyx_v_is_center = 0;\n",
       "  int __pyx_v_Nbins;\n",
       "  float __pyx_v_maxdist;\n",
       "  PyObject *__pyx_r = 0;\n",
       "  <span class='refnanny'>__Pyx_RefNannyDeclarations</span>\n",
       "  <span class='refnanny'>__Pyx_RefNannySetupContext</span>(\"cython_gG_l (wrapper)\", 0);\n",
       "  {\n",
       "    static PyObject **__pyx_pyargnames[] = {&amp;__pyx_n_s_pos,&amp;__pyx_n_s_qlms,&amp;__pyx_n_s_Qlms,&amp;__pyx_n_s_is_center,&amp;__pyx_n_s_Nbins,&amp;__pyx_n_s_maxdist,0};\n",
       "    PyObject* values[6] = {0,0,0,0,0,0};\n",
       "    if (unlikely(__pyx_kwds)) {\n",
       "      Py_ssize_t kw_args;\n",
       "      const Py_ssize_t pos_args = <span class='py_macro_api'>PyTuple_GET_SIZE</span>(__pyx_args);\n",
       "      switch (pos_args) {\n",
       "        case  6: values[5] = <span class='py_macro_api'>PyTuple_GET_ITEM</span>(__pyx_args, 5);\n",
       "        case  5: values[4] = <span class='py_macro_api'>PyTuple_GET_ITEM</span>(__pyx_args, 4);\n",
       "        case  4: values[3] = <span class='py_macro_api'>PyTuple_GET_ITEM</span>(__pyx_args, 3);\n",
       "        case  3: values[2] = <span class='py_macro_api'>PyTuple_GET_ITEM</span>(__pyx_args, 2);\n",
       "        case  2: values[1] = <span class='py_macro_api'>PyTuple_GET_ITEM</span>(__pyx_args, 1);\n",
       "        case  1: values[0] = <span class='py_macro_api'>PyTuple_GET_ITEM</span>(__pyx_args, 0);\n",
       "        case  0: break;\n",
       "        default: goto __pyx_L5_argtuple_error;\n",
       "      }\n",
       "      kw_args = <span class='py_c_api'>PyDict_Size</span>(__pyx_kwds);\n",
       "      switch (pos_args) {\n",
       "        case  0:\n",
       "        if (likely((values[0] = <span class='py_c_api'>PyDict_GetItem</span>(__pyx_kwds, __pyx_n_s_pos)) != 0)) kw_args--;\n",
       "        else goto __pyx_L5_argtuple_error;\n",
       "        case  1:\n",
       "        if (likely((values[1] = <span class='py_c_api'>PyDict_GetItem</span>(__pyx_kwds, __pyx_n_s_qlms)) != 0)) kw_args--;\n",
       "        else {\n",
       "          <span class='pyx_c_api'>__Pyx_RaiseArgtupleInvalid</span>(\"cython_gG_l\", 1, 6, 6, 1); <span class='error_goto'>{__pyx_filename = __pyx_f[0]; __pyx_lineno = 20; __pyx_clineno = __LINE__; goto __pyx_L3_error;}</span>\n",
       "        }\n",
       "        case  2:\n",
       "        if (likely((values[2] = <span class='py_c_api'>PyDict_GetItem</span>(__pyx_kwds, __pyx_n_s_Qlms)) != 0)) kw_args--;\n",
       "        else {\n",
       "          <span class='pyx_c_api'>__Pyx_RaiseArgtupleInvalid</span>(\"cython_gG_l\", 1, 6, 6, 2); <span class='error_goto'>{__pyx_filename = __pyx_f[0]; __pyx_lineno = 20; __pyx_clineno = __LINE__; goto __pyx_L3_error;}</span>\n",
       "        }\n",
       "        case  3:\n",
       "        if (likely((values[3] = <span class='py_c_api'>PyDict_GetItem</span>(__pyx_kwds, __pyx_n_s_is_center)) != 0)) kw_args--;\n",
       "        else {\n",
       "          <span class='pyx_c_api'>__Pyx_RaiseArgtupleInvalid</span>(\"cython_gG_l\", 1, 6, 6, 3); <span class='error_goto'>{__pyx_filename = __pyx_f[0]; __pyx_lineno = 20; __pyx_clineno = __LINE__; goto __pyx_L3_error;}</span>\n",
       "        }\n",
       "        case  4:\n",
       "        if (likely((values[4] = <span class='py_c_api'>PyDict_GetItem</span>(__pyx_kwds, __pyx_n_s_Nbins)) != 0)) kw_args--;\n",
       "        else {\n",
       "          <span class='pyx_c_api'>__Pyx_RaiseArgtupleInvalid</span>(\"cython_gG_l\", 1, 6, 6, 4); <span class='error_goto'>{__pyx_filename = __pyx_f[0]; __pyx_lineno = 20; __pyx_clineno = __LINE__; goto __pyx_L3_error;}</span>\n",
       "        }\n",
       "        case  5:\n",
       "        if (likely((values[5] = <span class='py_c_api'>PyDict_GetItem</span>(__pyx_kwds, __pyx_n_s_maxdist)) != 0)) kw_args--;\n",
       "        else {\n",
       "          <span class='pyx_c_api'>__Pyx_RaiseArgtupleInvalid</span>(\"cython_gG_l\", 1, 6, 6, 5); <span class='error_goto'>{__pyx_filename = __pyx_f[0]; __pyx_lineno = 20; __pyx_clineno = __LINE__; goto __pyx_L3_error;}</span>\n",
       "        }\n",
       "      }\n",
       "      if (unlikely(kw_args &gt; 0)) {\n",
       "        if (unlikely(<span class='pyx_c_api'>__Pyx_ParseOptionalKeywords</span>(__pyx_kwds, __pyx_pyargnames, 0, values, pos_args, \"cython_gG_l\") &lt; 0)) <span class='error_goto'>{__pyx_filename = __pyx_f[0]; __pyx_lineno = 20; __pyx_clineno = __LINE__; goto __pyx_L3_error;}</span>\n",
       "      }\n",
       "    } else if (<span class='py_macro_api'>PyTuple_GET_SIZE</span>(__pyx_args) != 6) {\n",
       "      goto __pyx_L5_argtuple_error;\n",
       "    } else {\n",
       "      values[0] = <span class='py_macro_api'>PyTuple_GET_ITEM</span>(__pyx_args, 0);\n",
       "      values[1] = <span class='py_macro_api'>PyTuple_GET_ITEM</span>(__pyx_args, 1);\n",
       "      values[2] = <span class='py_macro_api'>PyTuple_GET_ITEM</span>(__pyx_args, 2);\n",
       "      values[3] = <span class='py_macro_api'>PyTuple_GET_ITEM</span>(__pyx_args, 3);\n",
       "      values[4] = <span class='py_macro_api'>PyTuple_GET_ITEM</span>(__pyx_args, 4);\n",
       "      values[5] = <span class='py_macro_api'>PyTuple_GET_ITEM</span>(__pyx_args, 5);\n",
       "    }\n",
       "    __pyx_v_pos = ((PyArrayObject *)values[0]);\n",
       "    __pyx_v_qlms = values[1];\n",
       "    __pyx_v_Qlms = values[2];\n",
       "    __pyx_v_is_center = values[3];\n",
       "    __pyx_v_Nbins = <span class='pyx_c_api'>__Pyx_PyInt_As_int</span>(values[4]);<span class='error_goto'> if (unlikely((__pyx_v_Nbins == (int)-1) &amp;&amp; PyErr_Occurred())) {__pyx_filename = __pyx_f[0]; __pyx_lineno = 24; __pyx_clineno = __LINE__; goto __pyx_L3_error;}</span>\n",
       "    __pyx_v_maxdist = __pyx_<span class='py_c_api'>PyFloat_AsFloat</span>(values[5]);<span class='error_goto'> if (unlikely((__pyx_v_maxdist == (float)-1) &amp;&amp; PyErr_Occurred())) {__pyx_filename = __pyx_f[0]; __pyx_lineno = 24; __pyx_clineno = __LINE__; goto __pyx_L3_error;}</span>\n",
       "  }\n",
       "  goto __pyx_L4_argument_unpacking_done;\n",
       "  __pyx_L5_argtuple_error:;\n",
       "  <span class='pyx_c_api'>__Pyx_RaiseArgtupleInvalid</span>(\"cython_gG_l\", 1, 6, 6, <span class='py_macro_api'>PyTuple_GET_SIZE</span>(__pyx_args)); <span class='error_goto'>{__pyx_filename = __pyx_f[0]; __pyx_lineno = 20; __pyx_clineno = __LINE__; goto __pyx_L3_error;}</span>\n",
       "  __pyx_L3_error:;\n",
       "  <span class='pyx_c_api'>__Pyx_AddTraceback</span>(\"_cython_magic_8e21d051df37107da4dfc0d81ba886b3.cython_gG_l\", __pyx_clineno, __pyx_lineno, __pyx_filename);\n",
       "  <span class='refnanny'>__Pyx_RefNannyFinishContext</span>();\n",
       "  return NULL;\n",
       "  __pyx_L4_argument_unpacking_done:;\n",
       "  if (unlikely(!<span class='pyx_c_api'>__Pyx_ArgTypeTest</span>(((PyObject *)__pyx_v_pos), __pyx_ptype_5numpy_ndarray, 1, \"pos\", 0))) <span class='error_goto'>{__pyx_filename = __pyx_f[0]; __pyx_lineno = 21; __pyx_clineno = __LINE__; goto __pyx_L1_error;}</span>\n",
       "  __pyx_r = __pyx_pf_46_cython_magic_8e21d051df37107da4dfc0d81ba886b3_cython_gG_l(__pyx_self, __pyx_v_pos, __pyx_v_qlms, __pyx_v_Qlms, __pyx_v_is_center, __pyx_v_Nbins, __pyx_v_maxdist);\n",
       "  int __pyx_lineno = 0;\n",
       "  const char *__pyx_filename = NULL;\n",
       "  int __pyx_clineno = 0;\n",
       "\n",
       "  /* function exit code */\n",
       "  goto __pyx_L0;\n",
       "  __pyx_L1_error:;\n",
       "  __pyx_r = NULL;\n",
       "  __pyx_L0:;\n",
       "  <span class='refnanny'>__Pyx_RefNannyFinishContext</span>();\n",
       "  return __pyx_r;\n",
       "}\n",
       "\n",
       "static PyObject *__pyx_pf_46_cython_magic_8e21d051df37107da4dfc0d81ba886b3_cython_gG_l(CYTHON_UNUSED PyObject *__pyx_self, PyArrayObject *__pyx_v_pos, PyObject *__pyx_v_qlms, PyObject *__pyx_v_Qlms, PyObject *__pyx_v_is_center, int __pyx_v_Nbins, float __pyx_v_maxdist) {\n",
       "  int __pyx_v_i;\n",
       "  int __pyx_v_it;\n",
       "  int __pyx_v_r;\n",
       "  float __pyx_v_l2r;\n",
       "  PyObject *__pyx_v_hQ = NULL;\n",
       "  PyObject *__pyx_v_hq = NULL;\n",
       "  PyObject *__pyx_v_g = NULL;\n",
       "  PyObject *__pyx_v_tree = NULL;\n",
       "  PyObject *__pyx_v_centertree = NULL;\n",
       "  PyObject *__pyx_v_centerindex = NULL;\n",
       "  PyArrayObject *__pyx_v_query = 0;\n",
       "  __Pyx_LocalBuf_ND __pyx_pybuffernd_pos;\n",
       "  __Pyx_Buffer __pyx_pybuffer_pos;\n",
       "  __Pyx_LocalBuf_ND __pyx_pybuffernd_query;\n",
       "  __Pyx_Buffer __pyx_pybuffer_query;\n",
       "  PyObject *__pyx_r = NULL;\n",
       "  <span class='refnanny'>__Pyx_RefNannyDeclarations</span>\n",
       "  <span class='refnanny'>__Pyx_RefNannySetupContext</span>(\"cython_gG_l\", 0);\n",
       "  __pyx_pybuffer_query.pybuffer.buf = NULL;\n",
       "  __pyx_pybuffer_query.refcount = 0;\n",
       "  __pyx_pybuffernd_query.data = NULL;\n",
       "  __pyx_pybuffernd_query.rcbuffer = &amp;__pyx_pybuffer_query;\n",
       "  __pyx_pybuffer_pos.pybuffer.buf = NULL;\n",
       "  __pyx_pybuffer_pos.refcount = 0;\n",
       "  __pyx_pybuffernd_pos.data = NULL;\n",
       "  __pyx_pybuffernd_pos.rcbuffer = &amp;__pyx_pybuffer_pos;\n",
       "  {\n",
       "    __Pyx_BufFmt_StackElem __pyx_stack[1];\n",
       "    if (unlikely(<span class='pyx_c_api'>__Pyx_GetBufferAndValidate</span>(&amp;__pyx_pybuffernd_pos.rcbuffer-&gt;pybuffer, (PyObject*)__pyx_v_pos, &amp;__Pyx_TypeInfo_nn___pyx_t_5numpy_float64_t, PyBUF_FORMAT| PyBUF_STRIDES, 2, 0, __pyx_stack) == -1)) <span class='error_goto'>{__pyx_filename = __pyx_f[0]; __pyx_lineno = 20; __pyx_clineno = __LINE__; goto __pyx_L1_error;}</span>\n",
       "  }\n",
       "  __pyx_pybuffernd_pos.diminfo[0].strides = __pyx_pybuffernd_pos.rcbuffer-&gt;pybuffer.strides[0]; __pyx_pybuffernd_pos.diminfo[0].shape = __pyx_pybuffernd_pos.rcbuffer-&gt;pybuffer.shape[0]; __pyx_pybuffernd_pos.diminfo[1].strides = __pyx_pybuffernd_pos.rcbuffer-&gt;pybuffer.strides[1]; __pyx_pybuffernd_pos.diminfo[1].shape = __pyx_pybuffernd_pos.rcbuffer-&gt;pybuffer.shape[1];\n",
       "/* … */\n",
       "  /* function exit code */\n",
       "  __pyx_L1_error:;\n",
       "  <span class='pyx_macro_api'>__Pyx_XDECREF</span>(__pyx_t_3);\n",
       "  <span class='pyx_macro_api'>__Pyx_XDECREF</span>(__pyx_t_4);\n",
       "  <span class='pyx_macro_api'>__Pyx_XDECREF</span>(__pyx_t_5);\n",
       "  <span class='pyx_macro_api'>__Pyx_XDECREF</span>(__pyx_t_6);\n",
       "  <span class='pyx_macro_api'>__Pyx_XDECREF</span>(__pyx_t_7);\n",
       "  { PyObject *__pyx_type, *__pyx_value, *__pyx_tb;\n",
       "    <span class='pyx_c_api'>__Pyx_ErrFetch</span>(&amp;__pyx_type, &amp;__pyx_value, &amp;__pyx_tb);\n",
       "    <span class='pyx_c_api'>__Pyx_SafeReleaseBuffer</span>(&amp;__pyx_pybuffernd_pos.rcbuffer-&gt;pybuffer);\n",
       "    <span class='pyx_c_api'>__Pyx_SafeReleaseBuffer</span>(&amp;__pyx_pybuffernd_query.rcbuffer-&gt;pybuffer);\n",
       "  <span class='pyx_c_api'>__Pyx_ErrRestore</span>(__pyx_type, __pyx_value, __pyx_tb);}\n",
       "  <span class='pyx_c_api'>__Pyx_AddTraceback</span>(\"_cython_magic_8e21d051df37107da4dfc0d81ba886b3.cython_gG_l\", __pyx_clineno, __pyx_lineno, __pyx_filename);\n",
       "  __pyx_r = NULL;\n",
       "  goto __pyx_L2;\n",
       "  __pyx_L0:;\n",
       "  <span class='pyx_c_api'>__Pyx_SafeReleaseBuffer</span>(&amp;__pyx_pybuffernd_pos.rcbuffer-&gt;pybuffer);\n",
       "  <span class='pyx_c_api'>__Pyx_SafeReleaseBuffer</span>(&amp;__pyx_pybuffernd_query.rcbuffer-&gt;pybuffer);\n",
       "  __pyx_L2:;\n",
       "  <span class='pyx_macro_api'>__Pyx_XDECREF</span>(__pyx_v_hQ);\n",
       "  <span class='pyx_macro_api'>__Pyx_XDECREF</span>(__pyx_v_hq);\n",
       "  <span class='pyx_macro_api'>__Pyx_XDECREF</span>(__pyx_v_g);\n",
       "  <span class='pyx_macro_api'>__Pyx_XDECREF</span>(__pyx_v_tree);\n",
       "  <span class='pyx_macro_api'>__Pyx_XDECREF</span>(__pyx_v_centertree);\n",
       "  <span class='pyx_macro_api'>__Pyx_XDECREF</span>(__pyx_v_centerindex);\n",
       "  <span class='pyx_macro_api'>__Pyx_XDECREF</span>((PyObject *)__pyx_v_query);\n",
       "  <span class='refnanny'>__Pyx_XGIVEREF</span>(__pyx_r);\n",
       "  <span class='refnanny'>__Pyx_RefNannyFinishContext</span>();\n",
       "  return __pyx_r;\n",
       "}\n",
       "/* … */\n",
       "  __pyx_tuple__7 = <span class='py_c_api'>PyTuple_Pack</span>(19, __pyx_n_s_pos, __pyx_n_s_qlms, __pyx_n_s_Qlms, __pyx_n_s_is_center, __pyx_n_s_Nbins, __pyx_n_s_maxdist, __pyx_n_s_i, __pyx_n_s_it, __pyx_n_s_j, __pyx_n_s_r, __pyx_n_s_rsq, __pyx_n_s_l2r, __pyx_n_s_hQ, __pyx_n_s_hq, __pyx_n_s_g, __pyx_n_s_tree, __pyx_n_s_centertree, __pyx_n_s_centerindex, __pyx_n_s_query);<span class='error_goto'> if (unlikely(!__pyx_tuple__7)) {__pyx_filename = __pyx_f[0]; __pyx_lineno = 20; __pyx_clineno = __LINE__; goto __pyx_L1_error;}</span>\n",
       "  <span class='refnanny'>__Pyx_GOTREF</span>(__pyx_tuple__7);\n",
       "  <span class='refnanny'>__Pyx_GIVEREF</span>(__pyx_tuple__7);\n",
       "/* … */\n",
       "  __pyx_t_2 = PyCFunction_NewEx(&amp;__pyx_mdef_46_cython_magic_8e21d051df37107da4dfc0d81ba886b3_1cython_gG_l, NULL, __pyx_n_s_cython_magic_8e21d051df37107da4);<span class='error_goto'> if (unlikely(!__pyx_t_2)) {__pyx_filename = __pyx_f[0]; __pyx_lineno = 20; __pyx_clineno = __LINE__; goto __pyx_L1_error;}</span>\n",
       "  <span class='refnanny'>__Pyx_GOTREF</span>(__pyx_t_2);\n",
       "  if (<span class='py_c_api'>PyDict_SetItem</span>(__pyx_d, __pyx_n_s_cython_gG_l, __pyx_t_2) &lt; 0) <span class='error_goto'>{__pyx_filename = __pyx_f[0]; __pyx_lineno = 20; __pyx_clineno = __LINE__; goto __pyx_L1_error;}</span>\n",
       "  <span class='pyx_macro_api'>__Pyx_DECREF</span>(__pyx_t_2); __pyx_t_2 = 0;\n",
       "</pre><pre class=\"cython line score-0\">&#xA0;<span class=\"\">21</span>:     <span class=\"n\">np</span><span class=\"o\">.</span><span class=\"n\">ndarray</span><span class=\"p\">[</span><span class=\"n\">np</span><span class=\"o\">.</span><span class=\"n\">float64_t</span><span class=\"p\">,</span> <span class=\"n\">ndim</span><span class=\"o\">=</span><span class=\"mf\">2</span><span class=\"p\">]</span> <span class=\"n\">pos</span><span class=\"p\">,</span></pre>\n",
       "<pre class=\"cython line score-0\">&#xA0;<span class=\"\">22</span>:     <span class=\"n\">qlms</span><span class=\"p\">,</span> <span class=\"n\">Qlms</span><span class=\"p\">,</span></pre>\n",
       "<pre class=\"cython line score-0\">&#xA0;<span class=\"\">23</span>:     <span class=\"n\">is_center</span><span class=\"p\">,</span></pre>\n",
       "<pre class=\"cython line score-0\">&#xA0;<span class=\"\">24</span>:     <span class=\"nb\">int</span> <span class=\"n\">Nbins</span><span class=\"p\">,</span> <span class=\"nb\">float</span> <span class=\"n\">maxdist</span><span class=\"p\">):</span></pre>\n",
       "<pre class=\"cython line score-0\">&#xA0;<span class=\"\">25</span>:     <span class=\"sd\">&quot;&quot;&quot;Spatial correlation of the qlms and the Qlms (non normalized.</span></pre>\n",
       "<pre class=\"cython line score-0\">&#xA0;<span class=\"\">26</span>: <span class=\"sd\">    For each particle tagged as is_center, do the cross product between their qlm, their Qlm and count, </span></pre>\n",
       "<pre class=\"cython line score-0\">&#xA0;<span class=\"\">27</span>: <span class=\"sd\">    then bin each quantity with respect to distance. </span></pre>\n",
       "<pre class=\"cython line score-0\">&#xA0;<span class=\"\">28</span>: <span class=\"sd\">    The two first sums need to be normalised by the last one.</span></pre>\n",
       "<pre class=\"cython line score-0\">&#xA0;<span class=\"\">29</span>: <span class=\"sd\">    </span></pre>\n",
       "<pre class=\"cython line score-0\">&#xA0;<span class=\"\">30</span>: <span class=\"sd\">     - pos is a Nxd array of coordinates, with d the dimension of space</span></pre>\n",
       "<pre class=\"cython line score-0\">&#xA0;<span class=\"\">31</span>: <span class=\"sd\">     - qlm is a Nx(2l+1) array of boo coordinates for l-fold symmetry</span></pre>\n",
       "<pre class=\"cython line score-0\">&#xA0;<span class=\"\">32</span>: <span class=\"sd\">     - Qlm is the coarse-grained version of qlm</span></pre>\n",
       "<pre class=\"cython line score-0\">&#xA0;<span class=\"\">33</span>: <span class=\"sd\">     - is_center is a N array of booleans. For example all particles further away than maxdist from any edge of the box.</span></pre>\n",
       "<pre class=\"cython line score-0\">&#xA0;<span class=\"\">34</span>: <span class=\"sd\">     - Nbins is the number of bins along r</span></pre>\n",
       "<pre class=\"cython line score-0\">&#xA0;<span class=\"\">35</span>: <span class=\"sd\">     - maxdist is the maximum distance considered&quot;&quot;&quot;</span></pre>\n",
       "<pre class=\"cython line score-0\">&#xA0;<span class=\"\">36</span>:     <span class=\"k\">cdef</span> <span class=\"kt\">int</span> <span class=\"nf\">i</span><span class=\"p\">,</span><span class=\"nf\">it</span><span class=\"p\">,</span><span class=\"nf\">j</span><span class=\"p\">,</span><span class=\"nf\">r</span></pre>\n",
       "<pre class=\"cython line score-0\">&#xA0;<span class=\"\">37</span>:     <span class=\"k\">cdef</span> <span class=\"kt\">float</span> <span class=\"nf\">rsq</span></pre>\n",
       "<pre class=\"cython line score-15\" onclick='toggleDiv(this)'>+<span class=\"\">38</span>:     <span class=\"k\">assert</span> <span class=\"nb\">len</span><span class=\"p\">(</span><span class=\"n\">pos</span><span class=\"p\">)</span> <span class=\"o\">==</span> <span class=\"nb\">len</span><span class=\"p\">(</span><span class=\"n\">qlms</span><span class=\"p\">)</span></pre>\n",
       "<pre class='cython code score-15 '>  #ifndef CYTHON_WITHOUT_ASSERTIONS\n",
       "  if (unlikely(!Py_OptimizeFlag)) {\n",
       "    __pyx_t_1 = <span class='py_c_api'>PyObject_Length</span>(((PyObject *)__pyx_v_pos));<span class='error_goto'> if (unlikely(__pyx_t_1 == -1)) {__pyx_filename = __pyx_f[0]; __pyx_lineno = 38; __pyx_clineno = __LINE__; goto __pyx_L1_error;}</span>\n",
       "    __pyx_t_2 = <span class='py_c_api'>PyObject_Length</span>(__pyx_v_qlms);<span class='error_goto'> if (unlikely(__pyx_t_2 == -1)) {__pyx_filename = __pyx_f[0]; __pyx_lineno = 38; __pyx_clineno = __LINE__; goto __pyx_L1_error;}</span>\n",
       "    if (unlikely(!((__pyx_t_1 == __pyx_t_2) != 0))) {\n",
       "      <span class='py_c_api'>PyErr_SetNone</span>(PyExc_AssertionError);\n",
       "      <span class='error_goto'>{__pyx_filename = __pyx_f[0]; __pyx_lineno = 38; __pyx_clineno = __LINE__; goto __pyx_L1_error;}</span>\n",
       "    }\n",
       "  }\n",
       "  #endif\n",
       "</pre><pre class=\"cython line score-15\" onclick='toggleDiv(this)'>+<span class=\"\">39</span>:     <span class=\"k\">assert</span> <span class=\"nb\">len</span><span class=\"p\">(</span><span class=\"n\">qlms</span><span class=\"p\">)</span> <span class=\"o\">==</span> <span class=\"nb\">len</span><span class=\"p\">(</span><span class=\"n\">Qlms</span><span class=\"p\">)</span></pre>\n",
       "<pre class='cython code score-15 '>  #ifndef CYTHON_WITHOUT_ASSERTIONS\n",
       "  if (unlikely(!Py_OptimizeFlag)) {\n",
       "    __pyx_t_2 = <span class='py_c_api'>PyObject_Length</span>(__pyx_v_qlms);<span class='error_goto'> if (unlikely(__pyx_t_2 == -1)) {__pyx_filename = __pyx_f[0]; __pyx_lineno = 39; __pyx_clineno = __LINE__; goto __pyx_L1_error;}</span>\n",
       "    __pyx_t_1 = <span class='py_c_api'>PyObject_Length</span>(__pyx_v_Qlms);<span class='error_goto'> if (unlikely(__pyx_t_1 == -1)) {__pyx_filename = __pyx_f[0]; __pyx_lineno = 39; __pyx_clineno = __LINE__; goto __pyx_L1_error;}</span>\n",
       "    if (unlikely(!((__pyx_t_2 == __pyx_t_1) != 0))) {\n",
       "      <span class='py_c_api'>PyErr_SetNone</span>(PyExc_AssertionError);\n",
       "      <span class='error_goto'>{__pyx_filename = __pyx_f[0]; __pyx_lineno = 39; __pyx_clineno = __LINE__; goto __pyx_L1_error;}</span>\n",
       "    }\n",
       "  }\n",
       "  #endif\n",
       "</pre><pre class=\"cython line score-15\" onclick='toggleDiv(this)'>+<span class=\"\">40</span>:     <span class=\"k\">assert</span> <span class=\"nb\">len</span><span class=\"p\">(</span><span class=\"n\">is_center</span><span class=\"p\">)</span> <span class=\"o\">==</span> <span class=\"nb\">len</span><span class=\"p\">(</span><span class=\"n\">pos</span><span class=\"p\">)</span></pre>\n",
       "<pre class='cython code score-15 '>  #ifndef CYTHON_WITHOUT_ASSERTIONS\n",
       "  if (unlikely(!Py_OptimizeFlag)) {\n",
       "    __pyx_t_1 = <span class='py_c_api'>PyObject_Length</span>(__pyx_v_is_center);<span class='error_goto'> if (unlikely(__pyx_t_1 == -1)) {__pyx_filename = __pyx_f[0]; __pyx_lineno = 40; __pyx_clineno = __LINE__; goto __pyx_L1_error;}</span>\n",
       "    __pyx_t_2 = <span class='py_c_api'>PyObject_Length</span>(((PyObject *)__pyx_v_pos));<span class='error_goto'> if (unlikely(__pyx_t_2 == -1)) {__pyx_filename = __pyx_f[0]; __pyx_lineno = 40; __pyx_clineno = __LINE__; goto __pyx_L1_error;}</span>\n",
       "    if (unlikely(!((__pyx_t_1 == __pyx_t_2) != 0))) {\n",
       "      <span class='py_c_api'>PyErr_SetNone</span>(PyExc_AssertionError);\n",
       "      <span class='error_goto'>{__pyx_filename = __pyx_f[0]; __pyx_lineno = 40; __pyx_clineno = __LINE__; goto __pyx_L1_error;}</span>\n",
       "    }\n",
       "  }\n",
       "  #endif\n",
       "</pre><pre class=\"cython line score-0\">&#xA0;<span class=\"\">41</span>:     <span class=\"c\">#cdef np.ndarray[np.int64_t, ndim=1]  rsq2r = np.sqrt(np.arange(Nbins**2)).astype(int)</span></pre>\n",
       "<pre class=\"cython line score-0\" onclick='toggleDiv(this)'>+<span class=\"\">42</span>:     <span class=\"k\">cdef</span> <span class=\"kt\">float</span> <span class=\"nf\">l2r</span> <span class=\"o\">=</span> <span class=\"p\">(</span><span class=\"n\">Nbins</span><span class=\"o\">/</span><span class=\"n\">maxdist</span><span class=\"p\">)</span><span class=\"c\">#**2</span></pre>\n",
       "<pre class='cython code score-0 '>  __pyx_v_l2r = (__pyx_v_Nbins / __pyx_v_maxdist);\n",
       "</pre><pre class=\"cython line score-0\">&#xA0;<span class=\"\">43</span>:     <span class=\"c\">#maxsq = float(maxdist**2)</span></pre>\n",
       "<pre class=\"cython line score-31\" onclick='toggleDiv(this)'>+<span class=\"\">44</span>:     <span class=\"n\">hQ</span> <span class=\"o\">=</span> <span class=\"n\">np</span><span class=\"o\">.</span><span class=\"n\">zeros</span><span class=\"p\">(</span><span class=\"n\">Nbins</span><span class=\"p\">)</span></pre>\n",
       "<pre class='cython code score-31 '>  __pyx_t_4 = <span class='pyx_c_api'>__Pyx_GetModuleGlobalName</span>(__pyx_n_s_np);<span class='error_goto'> if (unlikely(!__pyx_t_4)) {__pyx_filename = __pyx_f[0]; __pyx_lineno = 44; __pyx_clineno = __LINE__; goto __pyx_L1_error;}</span>\n",
       "  <span class='refnanny'>__Pyx_GOTREF</span>(__pyx_t_4);\n",
       "  __pyx_t_5 = <span class='pyx_c_api'>__Pyx_PyObject_GetAttrStr</span>(__pyx_t_4, __pyx_n_s_zeros);<span class='error_goto'> if (unlikely(!__pyx_t_5)) {__pyx_filename = __pyx_f[0]; __pyx_lineno = 44; __pyx_clineno = __LINE__; goto __pyx_L1_error;}</span>\n",
       "  <span class='refnanny'>__Pyx_GOTREF</span>(__pyx_t_5);\n",
       "  <span class='pyx_macro_api'>__Pyx_DECREF</span>(__pyx_t_4); __pyx_t_4 = 0;\n",
       "  __pyx_t_4 = <span class='pyx_c_api'>__Pyx_PyInt_From_int</span>(__pyx_v_Nbins);<span class='error_goto'> if (unlikely(!__pyx_t_4)) {__pyx_filename = __pyx_f[0]; __pyx_lineno = 44; __pyx_clineno = __LINE__; goto __pyx_L1_error;}</span>\n",
       "  <span class='refnanny'>__Pyx_GOTREF</span>(__pyx_t_4);\n",
       "  __pyx_t_6 = NULL;\n",
       "  if (CYTHON_COMPILING_IN_CPYTHON &amp;&amp; unlikely(<span class='py_c_api'>PyMethod_Check</span>(__pyx_t_5))) {\n",
       "    __pyx_t_6 = <span class='py_macro_api'>PyMethod_GET_SELF</span>(__pyx_t_5);\n",
       "    if (likely(__pyx_t_6)) {\n",
       "      PyObject* function = <span class='py_macro_api'>PyMethod_GET_FUNCTION</span>(__pyx_t_5);\n",
       "      <span class='pyx_macro_api'>__Pyx_INCREF</span>(__pyx_t_6);\n",
       "      <span class='pyx_macro_api'>__Pyx_INCREF</span>(function);\n",
       "      <span class='pyx_macro_api'>__Pyx_DECREF_SET</span>(__pyx_t_5, function);\n",
       "    }\n",
       "  }\n",
       "  if (!__pyx_t_6) {\n",
       "    __pyx_t_3 = <span class='pyx_c_api'>__Pyx_PyObject_CallOneArg</span>(__pyx_t_5, __pyx_t_4);<span class='error_goto'> if (unlikely(!__pyx_t_3)) {__pyx_filename = __pyx_f[0]; __pyx_lineno = 44; __pyx_clineno = __LINE__; goto __pyx_L1_error;}</span>\n",
       "    <span class='pyx_macro_api'>__Pyx_DECREF</span>(__pyx_t_4); __pyx_t_4 = 0;\n",
       "    <span class='refnanny'>__Pyx_GOTREF</span>(__pyx_t_3);\n",
       "  } else {\n",
       "    __pyx_t_7 = <span class='py_c_api'>PyTuple_New</span>(1+1);<span class='error_goto'> if (unlikely(!__pyx_t_7)) {__pyx_filename = __pyx_f[0]; __pyx_lineno = 44; __pyx_clineno = __LINE__; goto __pyx_L1_error;}</span>\n",
       "    <span class='refnanny'>__Pyx_GOTREF</span>(__pyx_t_7);\n",
       "    <span class='refnanny'>__Pyx_GIVEREF</span>(__pyx_t_6); <span class='py_macro_api'>PyTuple_SET_ITEM</span>(__pyx_t_7, 0, __pyx_t_6); __pyx_t_6 = NULL;\n",
       "    <span class='refnanny'>__Pyx_GIVEREF</span>(__pyx_t_4);\n",
       "    <span class='py_macro_api'>PyTuple_SET_ITEM</span>(__pyx_t_7, 0+1, __pyx_t_4);\n",
       "    __pyx_t_4 = 0;\n",
       "    __pyx_t_3 = <span class='pyx_c_api'>__Pyx_PyObject_Call</span>(__pyx_t_5, __pyx_t_7, NULL);<span class='error_goto'> if (unlikely(!__pyx_t_3)) {__pyx_filename = __pyx_f[0]; __pyx_lineno = 44; __pyx_clineno = __LINE__; goto __pyx_L1_error;}</span>\n",
       "    <span class='refnanny'>__Pyx_GOTREF</span>(__pyx_t_3);\n",
       "    <span class='pyx_macro_api'>__Pyx_DECREF</span>(__pyx_t_7); __pyx_t_7 = 0;\n",
       "  }\n",
       "  <span class='pyx_macro_api'>__Pyx_DECREF</span>(__pyx_t_5); __pyx_t_5 = 0;\n",
       "  __pyx_v_hQ = __pyx_t_3;\n",
       "  __pyx_t_3 = 0;\n",
       "</pre><pre class=\"cython line score-31\" onclick='toggleDiv(this)'>+<span class=\"\">45</span>:     <span class=\"n\">hq</span> <span class=\"o\">=</span> <span class=\"n\">np</span><span class=\"o\">.</span><span class=\"n\">zeros</span><span class=\"p\">(</span><span class=\"n\">Nbins</span><span class=\"p\">)</span></pre>\n",
       "<pre class='cython code score-31 '>  __pyx_t_5 = <span class='pyx_c_api'>__Pyx_GetModuleGlobalName</span>(__pyx_n_s_np);<span class='error_goto'> if (unlikely(!__pyx_t_5)) {__pyx_filename = __pyx_f[0]; __pyx_lineno = 45; __pyx_clineno = __LINE__; goto __pyx_L1_error;}</span>\n",
       "  <span class='refnanny'>__Pyx_GOTREF</span>(__pyx_t_5);\n",
       "  __pyx_t_7 = <span class='pyx_c_api'>__Pyx_PyObject_GetAttrStr</span>(__pyx_t_5, __pyx_n_s_zeros);<span class='error_goto'> if (unlikely(!__pyx_t_7)) {__pyx_filename = __pyx_f[0]; __pyx_lineno = 45; __pyx_clineno = __LINE__; goto __pyx_L1_error;}</span>\n",
       "  <span class='refnanny'>__Pyx_GOTREF</span>(__pyx_t_7);\n",
       "  <span class='pyx_macro_api'>__Pyx_DECREF</span>(__pyx_t_5); __pyx_t_5 = 0;\n",
       "  __pyx_t_5 = <span class='pyx_c_api'>__Pyx_PyInt_From_int</span>(__pyx_v_Nbins);<span class='error_goto'> if (unlikely(!__pyx_t_5)) {__pyx_filename = __pyx_f[0]; __pyx_lineno = 45; __pyx_clineno = __LINE__; goto __pyx_L1_error;}</span>\n",
       "  <span class='refnanny'>__Pyx_GOTREF</span>(__pyx_t_5);\n",
       "  __pyx_t_4 = NULL;\n",
       "  if (CYTHON_COMPILING_IN_CPYTHON &amp;&amp; unlikely(<span class='py_c_api'>PyMethod_Check</span>(__pyx_t_7))) {\n",
       "    __pyx_t_4 = <span class='py_macro_api'>PyMethod_GET_SELF</span>(__pyx_t_7);\n",
       "    if (likely(__pyx_t_4)) {\n",
       "      PyObject* function = <span class='py_macro_api'>PyMethod_GET_FUNCTION</span>(__pyx_t_7);\n",
       "      <span class='pyx_macro_api'>__Pyx_INCREF</span>(__pyx_t_4);\n",
       "      <span class='pyx_macro_api'>__Pyx_INCREF</span>(function);\n",
       "      <span class='pyx_macro_api'>__Pyx_DECREF_SET</span>(__pyx_t_7, function);\n",
       "    }\n",
       "  }\n",
       "  if (!__pyx_t_4) {\n",
       "    __pyx_t_3 = <span class='pyx_c_api'>__Pyx_PyObject_CallOneArg</span>(__pyx_t_7, __pyx_t_5);<span class='error_goto'> if (unlikely(!__pyx_t_3)) {__pyx_filename = __pyx_f[0]; __pyx_lineno = 45; __pyx_clineno = __LINE__; goto __pyx_L1_error;}</span>\n",
       "    <span class='pyx_macro_api'>__Pyx_DECREF</span>(__pyx_t_5); __pyx_t_5 = 0;\n",
       "    <span class='refnanny'>__Pyx_GOTREF</span>(__pyx_t_3);\n",
       "  } else {\n",
       "    __pyx_t_6 = <span class='py_c_api'>PyTuple_New</span>(1+1);<span class='error_goto'> if (unlikely(!__pyx_t_6)) {__pyx_filename = __pyx_f[0]; __pyx_lineno = 45; __pyx_clineno = __LINE__; goto __pyx_L1_error;}</span>\n",
       "    <span class='refnanny'>__Pyx_GOTREF</span>(__pyx_t_6);\n",
       "    <span class='refnanny'>__Pyx_GIVEREF</span>(__pyx_t_4); <span class='py_macro_api'>PyTuple_SET_ITEM</span>(__pyx_t_6, 0, __pyx_t_4); __pyx_t_4 = NULL;\n",
       "    <span class='refnanny'>__Pyx_GIVEREF</span>(__pyx_t_5);\n",
       "    <span class='py_macro_api'>PyTuple_SET_ITEM</span>(__pyx_t_6, 0+1, __pyx_t_5);\n",
       "    __pyx_t_5 = 0;\n",
       "    __pyx_t_3 = <span class='pyx_c_api'>__Pyx_PyObject_Call</span>(__pyx_t_7, __pyx_t_6, NULL);<span class='error_goto'> if (unlikely(!__pyx_t_3)) {__pyx_filename = __pyx_f[0]; __pyx_lineno = 45; __pyx_clineno = __LINE__; goto __pyx_L1_error;}</span>\n",
       "    <span class='refnanny'>__Pyx_GOTREF</span>(__pyx_t_3);\n",
       "    <span class='pyx_macro_api'>__Pyx_DECREF</span>(__pyx_t_6); __pyx_t_6 = 0;\n",
       "  }\n",
       "  <span class='pyx_macro_api'>__Pyx_DECREF</span>(__pyx_t_7); __pyx_t_7 = 0;\n",
       "  __pyx_v_hq = __pyx_t_3;\n",
       "  __pyx_t_3 = 0;\n",
       "</pre><pre class=\"cython line score-30\" onclick='toggleDiv(this)'>+<span class=\"\">46</span>:     <span class=\"n\">g</span> <span class=\"o\">=</span> <span class=\"n\">np</span><span class=\"o\">.</span><span class=\"n\">zeros</span><span class=\"p\">(</span><span class=\"n\">Nbins</span><span class=\"p\">,</span> <span class=\"nb\">int</span><span class=\"p\">)</span></pre>\n",
       "<pre class='cython code score-30 '>  __pyx_t_7 = <span class='pyx_c_api'>__Pyx_GetModuleGlobalName</span>(__pyx_n_s_np);<span class='error_goto'> if (unlikely(!__pyx_t_7)) {__pyx_filename = __pyx_f[0]; __pyx_lineno = 46; __pyx_clineno = __LINE__; goto __pyx_L1_error;}</span>\n",
       "  <span class='refnanny'>__Pyx_GOTREF</span>(__pyx_t_7);\n",
       "  __pyx_t_6 = <span class='pyx_c_api'>__Pyx_PyObject_GetAttrStr</span>(__pyx_t_7, __pyx_n_s_zeros);<span class='error_goto'> if (unlikely(!__pyx_t_6)) {__pyx_filename = __pyx_f[0]; __pyx_lineno = 46; __pyx_clineno = __LINE__; goto __pyx_L1_error;}</span>\n",
       "  <span class='refnanny'>__Pyx_GOTREF</span>(__pyx_t_6);\n",
       "  <span class='pyx_macro_api'>__Pyx_DECREF</span>(__pyx_t_7); __pyx_t_7 = 0;\n",
       "  __pyx_t_7 = <span class='pyx_c_api'>__Pyx_PyInt_From_int</span>(__pyx_v_Nbins);<span class='error_goto'> if (unlikely(!__pyx_t_7)) {__pyx_filename = __pyx_f[0]; __pyx_lineno = 46; __pyx_clineno = __LINE__; goto __pyx_L1_error;}</span>\n",
       "  <span class='refnanny'>__Pyx_GOTREF</span>(__pyx_t_7);\n",
       "  __pyx_t_5 = NULL;\n",
       "  __pyx_t_2 = 0;\n",
       "  if (CYTHON_COMPILING_IN_CPYTHON &amp;&amp; unlikely(<span class='py_c_api'>PyMethod_Check</span>(__pyx_t_6))) {\n",
       "    __pyx_t_5 = <span class='py_macro_api'>PyMethod_GET_SELF</span>(__pyx_t_6);\n",
       "    if (likely(__pyx_t_5)) {\n",
       "      PyObject* function = <span class='py_macro_api'>PyMethod_GET_FUNCTION</span>(__pyx_t_6);\n",
       "      <span class='pyx_macro_api'>__Pyx_INCREF</span>(__pyx_t_5);\n",
       "      <span class='pyx_macro_api'>__Pyx_INCREF</span>(function);\n",
       "      <span class='pyx_macro_api'>__Pyx_DECREF_SET</span>(__pyx_t_6, function);\n",
       "      __pyx_t_2 = 1;\n",
       "    }\n",
       "  }\n",
       "  __pyx_t_4 = <span class='py_c_api'>PyTuple_New</span>(2+__pyx_t_2);<span class='error_goto'> if (unlikely(!__pyx_t_4)) {__pyx_filename = __pyx_f[0]; __pyx_lineno = 46; __pyx_clineno = __LINE__; goto __pyx_L1_error;}</span>\n",
       "  <span class='refnanny'>__Pyx_GOTREF</span>(__pyx_t_4);\n",
       "  if (__pyx_t_5) {\n",
       "    <span class='refnanny'>__Pyx_GIVEREF</span>(__pyx_t_5); <span class='py_macro_api'>PyTuple_SET_ITEM</span>(__pyx_t_4, 0, __pyx_t_5); __pyx_t_5 = NULL;\n",
       "  }\n",
       "  <span class='refnanny'>__Pyx_GIVEREF</span>(__pyx_t_7);\n",
       "  <span class='py_macro_api'>PyTuple_SET_ITEM</span>(__pyx_t_4, 0+__pyx_t_2, __pyx_t_7);\n",
       "  <span class='pyx_macro_api'>__Pyx_INCREF</span>(((PyObject *)(&amp;PyInt_Type)));\n",
       "  <span class='refnanny'>__Pyx_GIVEREF</span>(((PyObject *)(&amp;PyInt_Type)));\n",
       "  <span class='py_macro_api'>PyTuple_SET_ITEM</span>(__pyx_t_4, 1+__pyx_t_2, ((PyObject *)(&amp;PyInt_Type)));\n",
       "  __pyx_t_7 = 0;\n",
       "  __pyx_t_3 = <span class='pyx_c_api'>__Pyx_PyObject_Call</span>(__pyx_t_6, __pyx_t_4, NULL);<span class='error_goto'> if (unlikely(!__pyx_t_3)) {__pyx_filename = __pyx_f[0]; __pyx_lineno = 46; __pyx_clineno = __LINE__; goto __pyx_L1_error;}</span>\n",
       "  <span class='refnanny'>__Pyx_GOTREF</span>(__pyx_t_3);\n",
       "  <span class='pyx_macro_api'>__Pyx_DECREF</span>(__pyx_t_4); __pyx_t_4 = 0;\n",
       "  <span class='pyx_macro_api'>__Pyx_DECREF</span>(__pyx_t_6); __pyx_t_6 = 0;\n",
       "  __pyx_v_g = __pyx_t_3;\n",
       "  __pyx_t_3 = 0;\n",
       "</pre><pre class=\"cython line score-0\">&#xA0;<span class=\"\">47</span>:     <span class=\"c\">#spatial indexing</span></pre>\n",
       "<pre class=\"cython line score-26\" onclick='toggleDiv(this)'>+<span class=\"\">48</span>:     <span class=\"n\">tree</span> <span class=\"o\">=</span> <span class=\"n\">KDTree</span><span class=\"p\">(</span><span class=\"n\">pos</span><span class=\"p\">,</span> <span class=\"mf\">12</span><span class=\"p\">)</span></pre>\n",
       "<pre class='cython code score-26 '>  __pyx_t_6 = <span class='pyx_c_api'>__Pyx_GetModuleGlobalName</span>(__pyx_n_s_KDTree);<span class='error_goto'> if (unlikely(!__pyx_t_6)) {__pyx_filename = __pyx_f[0]; __pyx_lineno = 48; __pyx_clineno = __LINE__; goto __pyx_L1_error;}</span>\n",
       "  <span class='refnanny'>__Pyx_GOTREF</span>(__pyx_t_6);\n",
       "  __pyx_t_4 = NULL;\n",
       "  __pyx_t_2 = 0;\n",
       "  if (CYTHON_COMPILING_IN_CPYTHON &amp;&amp; unlikely(<span class='py_c_api'>PyMethod_Check</span>(__pyx_t_6))) {\n",
       "    __pyx_t_4 = <span class='py_macro_api'>PyMethod_GET_SELF</span>(__pyx_t_6);\n",
       "    if (likely(__pyx_t_4)) {\n",
       "      PyObject* function = <span class='py_macro_api'>PyMethod_GET_FUNCTION</span>(__pyx_t_6);\n",
       "      <span class='pyx_macro_api'>__Pyx_INCREF</span>(__pyx_t_4);\n",
       "      <span class='pyx_macro_api'>__Pyx_INCREF</span>(function);\n",
       "      <span class='pyx_macro_api'>__Pyx_DECREF_SET</span>(__pyx_t_6, function);\n",
       "      __pyx_t_2 = 1;\n",
       "    }\n",
       "  }\n",
       "  __pyx_t_7 = <span class='py_c_api'>PyTuple_New</span>(2+__pyx_t_2);<span class='error_goto'> if (unlikely(!__pyx_t_7)) {__pyx_filename = __pyx_f[0]; __pyx_lineno = 48; __pyx_clineno = __LINE__; goto __pyx_L1_error;}</span>\n",
       "  <span class='refnanny'>__Pyx_GOTREF</span>(__pyx_t_7);\n",
       "  if (__pyx_t_4) {\n",
       "    <span class='refnanny'>__Pyx_GIVEREF</span>(__pyx_t_4); <span class='py_macro_api'>PyTuple_SET_ITEM</span>(__pyx_t_7, 0, __pyx_t_4); __pyx_t_4 = NULL;\n",
       "  }\n",
       "  <span class='pyx_macro_api'>__Pyx_INCREF</span>(((PyObject *)__pyx_v_pos));\n",
       "  <span class='refnanny'>__Pyx_GIVEREF</span>(((PyObject *)__pyx_v_pos));\n",
       "  <span class='py_macro_api'>PyTuple_SET_ITEM</span>(__pyx_t_7, 0+__pyx_t_2, ((PyObject *)__pyx_v_pos));\n",
       "  <span class='pyx_macro_api'>__Pyx_INCREF</span>(__pyx_int_12);\n",
       "  <span class='refnanny'>__Pyx_GIVEREF</span>(__pyx_int_12);\n",
       "  <span class='py_macro_api'>PyTuple_SET_ITEM</span>(__pyx_t_7, 1+__pyx_t_2, __pyx_int_12);\n",
       "  __pyx_t_3 = <span class='pyx_c_api'>__Pyx_PyObject_Call</span>(__pyx_t_6, __pyx_t_7, NULL);<span class='error_goto'> if (unlikely(!__pyx_t_3)) {__pyx_filename = __pyx_f[0]; __pyx_lineno = 48; __pyx_clineno = __LINE__; goto __pyx_L1_error;}</span>\n",
       "  <span class='refnanny'>__Pyx_GOTREF</span>(__pyx_t_3);\n",
       "  <span class='pyx_macro_api'>__Pyx_DECREF</span>(__pyx_t_7); __pyx_t_7 = 0;\n",
       "  <span class='pyx_macro_api'>__Pyx_DECREF</span>(__pyx_t_6); __pyx_t_6 = 0;\n",
       "  __pyx_v_tree = __pyx_t_3;\n",
       "  __pyx_t_3 = 0;\n",
       "</pre><pre class=\"cython line score-30\" onclick='toggleDiv(this)'>+<span class=\"\">49</span>:     <span class=\"n\">centertree</span> <span class=\"o\">=</span> <span class=\"n\">KDTree</span><span class=\"p\">(</span><span class=\"n\">pos</span><span class=\"p\">[</span><span class=\"n\">is_center</span><span class=\"p\">],</span> <span class=\"mf\">12</span><span class=\"p\">)</span></pre>\n",
       "<pre class='cython code score-30 '>  __pyx_t_6 = <span class='pyx_c_api'>__Pyx_GetModuleGlobalName</span>(__pyx_n_s_KDTree);<span class='error_goto'> if (unlikely(!__pyx_t_6)) {__pyx_filename = __pyx_f[0]; __pyx_lineno = 49; __pyx_clineno = __LINE__; goto __pyx_L1_error;}</span>\n",
       "  <span class='refnanny'>__Pyx_GOTREF</span>(__pyx_t_6);\n",
       "  __pyx_t_7 = <span class='py_c_api'>PyObject_GetItem</span>(((PyObject *)__pyx_v_pos), __pyx_v_is_center);<span class='error_goto'> if (unlikely(__pyx_t_7 == NULL)) {__pyx_filename = __pyx_f[0]; __pyx_lineno = 49; __pyx_clineno = __LINE__; goto __pyx_L1_error;}</span>;\n",
       "  <span class='refnanny'>__Pyx_GOTREF</span>(__pyx_t_7);\n",
       "  __pyx_t_4 = NULL;\n",
       "  __pyx_t_2 = 0;\n",
       "  if (CYTHON_COMPILING_IN_CPYTHON &amp;&amp; unlikely(<span class='py_c_api'>PyMethod_Check</span>(__pyx_t_6))) {\n",
       "    __pyx_t_4 = <span class='py_macro_api'>PyMethod_GET_SELF</span>(__pyx_t_6);\n",
       "    if (likely(__pyx_t_4)) {\n",
       "      PyObject* function = <span class='py_macro_api'>PyMethod_GET_FUNCTION</span>(__pyx_t_6);\n",
       "      <span class='pyx_macro_api'>__Pyx_INCREF</span>(__pyx_t_4);\n",
       "      <span class='pyx_macro_api'>__Pyx_INCREF</span>(function);\n",
       "      <span class='pyx_macro_api'>__Pyx_DECREF_SET</span>(__pyx_t_6, function);\n",
       "      __pyx_t_2 = 1;\n",
       "    }\n",
       "  }\n",
       "  __pyx_t_5 = <span class='py_c_api'>PyTuple_New</span>(2+__pyx_t_2);<span class='error_goto'> if (unlikely(!__pyx_t_5)) {__pyx_filename = __pyx_f[0]; __pyx_lineno = 49; __pyx_clineno = __LINE__; goto __pyx_L1_error;}</span>\n",
       "  <span class='refnanny'>__Pyx_GOTREF</span>(__pyx_t_5);\n",
       "  if (__pyx_t_4) {\n",
       "    <span class='refnanny'>__Pyx_GIVEREF</span>(__pyx_t_4); <span class='py_macro_api'>PyTuple_SET_ITEM</span>(__pyx_t_5, 0, __pyx_t_4); __pyx_t_4 = NULL;\n",
       "  }\n",
       "  <span class='refnanny'>__Pyx_GIVEREF</span>(__pyx_t_7);\n",
       "  <span class='py_macro_api'>PyTuple_SET_ITEM</span>(__pyx_t_5, 0+__pyx_t_2, __pyx_t_7);\n",
       "  <span class='pyx_macro_api'>__Pyx_INCREF</span>(__pyx_int_12);\n",
       "  <span class='refnanny'>__Pyx_GIVEREF</span>(__pyx_int_12);\n",
       "  <span class='py_macro_api'>PyTuple_SET_ITEM</span>(__pyx_t_5, 1+__pyx_t_2, __pyx_int_12);\n",
       "  __pyx_t_7 = 0;\n",
       "  __pyx_t_3 = <span class='pyx_c_api'>__Pyx_PyObject_Call</span>(__pyx_t_6, __pyx_t_5, NULL);<span class='error_goto'> if (unlikely(!__pyx_t_3)) {__pyx_filename = __pyx_f[0]; __pyx_lineno = 49; __pyx_clineno = __LINE__; goto __pyx_L1_error;}</span>\n",
       "  <span class='refnanny'>__Pyx_GOTREF</span>(__pyx_t_3);\n",
       "  <span class='pyx_macro_api'>__Pyx_DECREF</span>(__pyx_t_5); __pyx_t_5 = 0;\n",
       "  <span class='pyx_macro_api'>__Pyx_DECREF</span>(__pyx_t_6); __pyx_t_6 = 0;\n",
       "  __pyx_v_centertree = __pyx_t_3;\n",
       "  __pyx_t_3 = 0;\n",
       "</pre><pre class=\"cython line score-32\" onclick='toggleDiv(this)'>+<span class=\"\">50</span>:     <span class=\"n\">centerindex</span> <span class=\"o\">=</span> <span class=\"n\">np</span><span class=\"o\">.</span><span class=\"n\">where</span><span class=\"p\">(</span><span class=\"n\">is_center</span><span class=\"p\">)[</span><span class=\"mf\">0</span><span class=\"p\">]</span></pre>\n",
       "<pre class='cython code score-32 '>  __pyx_t_6 = <span class='pyx_c_api'>__Pyx_GetModuleGlobalName</span>(__pyx_n_s_np);<span class='error_goto'> if (unlikely(!__pyx_t_6)) {__pyx_filename = __pyx_f[0]; __pyx_lineno = 50; __pyx_clineno = __LINE__; goto __pyx_L1_error;}</span>\n",
       "  <span class='refnanny'>__Pyx_GOTREF</span>(__pyx_t_6);\n",
       "  __pyx_t_5 = <span class='pyx_c_api'>__Pyx_PyObject_GetAttrStr</span>(__pyx_t_6, __pyx_n_s_where);<span class='error_goto'> if (unlikely(!__pyx_t_5)) {__pyx_filename = __pyx_f[0]; __pyx_lineno = 50; __pyx_clineno = __LINE__; goto __pyx_L1_error;}</span>\n",
       "  <span class='refnanny'>__Pyx_GOTREF</span>(__pyx_t_5);\n",
       "  <span class='pyx_macro_api'>__Pyx_DECREF</span>(__pyx_t_6); __pyx_t_6 = 0;\n",
       "  __pyx_t_6 = NULL;\n",
       "  if (CYTHON_COMPILING_IN_CPYTHON &amp;&amp; unlikely(<span class='py_c_api'>PyMethod_Check</span>(__pyx_t_5))) {\n",
       "    __pyx_t_6 = <span class='py_macro_api'>PyMethod_GET_SELF</span>(__pyx_t_5);\n",
       "    if (likely(__pyx_t_6)) {\n",
       "      PyObject* function = <span class='py_macro_api'>PyMethod_GET_FUNCTION</span>(__pyx_t_5);\n",
       "      <span class='pyx_macro_api'>__Pyx_INCREF</span>(__pyx_t_6);\n",
       "      <span class='pyx_macro_api'>__Pyx_INCREF</span>(function);\n",
       "      <span class='pyx_macro_api'>__Pyx_DECREF_SET</span>(__pyx_t_5, function);\n",
       "    }\n",
       "  }\n",
       "  if (!__pyx_t_6) {\n",
       "    __pyx_t_3 = <span class='pyx_c_api'>__Pyx_PyObject_CallOneArg</span>(__pyx_t_5, __pyx_v_is_center);<span class='error_goto'> if (unlikely(!__pyx_t_3)) {__pyx_filename = __pyx_f[0]; __pyx_lineno = 50; __pyx_clineno = __LINE__; goto __pyx_L1_error;}</span>\n",
       "    <span class='refnanny'>__Pyx_GOTREF</span>(__pyx_t_3);\n",
       "  } else {\n",
       "    __pyx_t_7 = <span class='py_c_api'>PyTuple_New</span>(1+1);<span class='error_goto'> if (unlikely(!__pyx_t_7)) {__pyx_filename = __pyx_f[0]; __pyx_lineno = 50; __pyx_clineno = __LINE__; goto __pyx_L1_error;}</span>\n",
       "    <span class='refnanny'>__Pyx_GOTREF</span>(__pyx_t_7);\n",
       "    <span class='refnanny'>__Pyx_GIVEREF</span>(__pyx_t_6); <span class='py_macro_api'>PyTuple_SET_ITEM</span>(__pyx_t_7, 0, __pyx_t_6); __pyx_t_6 = NULL;\n",
       "    <span class='pyx_macro_api'>__Pyx_INCREF</span>(__pyx_v_is_center);\n",
       "    <span class='refnanny'>__Pyx_GIVEREF</span>(__pyx_v_is_center);\n",
       "    <span class='py_macro_api'>PyTuple_SET_ITEM</span>(__pyx_t_7, 0+1, __pyx_v_is_center);\n",
       "    __pyx_t_3 = <span class='pyx_c_api'>__Pyx_PyObject_Call</span>(__pyx_t_5, __pyx_t_7, NULL);<span class='error_goto'> if (unlikely(!__pyx_t_3)) {__pyx_filename = __pyx_f[0]; __pyx_lineno = 50; __pyx_clineno = __LINE__; goto __pyx_L1_error;}</span>\n",
       "    <span class='refnanny'>__Pyx_GOTREF</span>(__pyx_t_3);\n",
       "    <span class='pyx_macro_api'>__Pyx_DECREF</span>(__pyx_t_7); __pyx_t_7 = 0;\n",
       "  }\n",
       "  <span class='pyx_macro_api'>__Pyx_DECREF</span>(__pyx_t_5); __pyx_t_5 = 0;\n",
       "  __pyx_t_5 = <span class='pyx_c_api'>__Pyx_GetItemInt</span>(__pyx_t_3, 0, long, 1, __Pyx_PyInt_From_long, 0, 0, 0);<span class='error_goto'> if (unlikely(__pyx_t_5 == NULL)) {__pyx_filename = __pyx_f[0]; __pyx_lineno = 50; __pyx_clineno = __LINE__; goto __pyx_L1_error;}</span>;\n",
       "  <span class='refnanny'>__Pyx_GOTREF</span>(__pyx_t_5);\n",
       "  <span class='pyx_macro_api'>__Pyx_DECREF</span>(__pyx_t_3); __pyx_t_3 = 0;\n",
       "  __pyx_v_centerindex = __pyx_t_5;\n",
       "  __pyx_t_5 = 0;\n",
       "</pre><pre class=\"cython line score-35\" onclick='toggleDiv(this)'>+<span class=\"\">51</span>:     <span class=\"k\">cdef</span> <span class=\"kt\">np</span>.<span class=\"kt\">ndarray</span>[<span class=\"nf\">ijdist</span><span class=\"p\">,</span> <span class=\"nf\">ndim</span><span class=\"o\">=</span><span class=\"mf\">1</span><span class=\"p\">]</span> <span class=\"n\">query</span> <span class=\"o\">=</span> <span class=\"n\">centertree</span><span class=\"o\">.</span><span class=\"n\">sparse_distance_matrix</span><span class=\"p\">(</span><span class=\"n\">tree</span><span class=\"p\">,</span> <span class=\"n\">maxdist</span><span class=\"p\">,</span> <span class=\"n\">output_type</span><span class=\"o\">=</span><span class=\"s\">&#39;ndarray&#39;</span><span class=\"p\">)</span></pre>\n",
       "<pre class='cython code score-35 '>  __pyx_t_5 = <span class='pyx_c_api'>__Pyx_PyObject_GetAttrStr</span>(__pyx_v_centertree, __pyx_n_s_sparse_distance_matrix);<span class='error_goto'> if (unlikely(!__pyx_t_5)) {__pyx_filename = __pyx_f[0]; __pyx_lineno = 51; __pyx_clineno = __LINE__; goto __pyx_L1_error;}</span>\n",
       "  <span class='refnanny'>__Pyx_GOTREF</span>(__pyx_t_5);\n",
       "  __pyx_t_3 = <span class='py_c_api'>PyFloat_FromDouble</span>(__pyx_v_maxdist);<span class='error_goto'> if (unlikely(!__pyx_t_3)) {__pyx_filename = __pyx_f[0]; __pyx_lineno = 51; __pyx_clineno = __LINE__; goto __pyx_L1_error;}</span>\n",
       "  <span class='refnanny'>__Pyx_GOTREF</span>(__pyx_t_3);\n",
       "  __pyx_t_7 = <span class='py_c_api'>PyTuple_New</span>(2);<span class='error_goto'> if (unlikely(!__pyx_t_7)) {__pyx_filename = __pyx_f[0]; __pyx_lineno = 51; __pyx_clineno = __LINE__; goto __pyx_L1_error;}</span>\n",
       "  <span class='refnanny'>__Pyx_GOTREF</span>(__pyx_t_7);\n",
       "  <span class='pyx_macro_api'>__Pyx_INCREF</span>(__pyx_v_tree);\n",
       "  <span class='refnanny'>__Pyx_GIVEREF</span>(__pyx_v_tree);\n",
       "  <span class='py_macro_api'>PyTuple_SET_ITEM</span>(__pyx_t_7, 0, __pyx_v_tree);\n",
       "  <span class='refnanny'>__Pyx_GIVEREF</span>(__pyx_t_3);\n",
       "  <span class='py_macro_api'>PyTuple_SET_ITEM</span>(__pyx_t_7, 1, __pyx_t_3);\n",
       "  __pyx_t_3 = 0;\n",
       "  __pyx_t_3 = <span class='py_c_api'>PyDict_New</span>();<span class='error_goto'> if (unlikely(!__pyx_t_3)) {__pyx_filename = __pyx_f[0]; __pyx_lineno = 51; __pyx_clineno = __LINE__; goto __pyx_L1_error;}</span>\n",
       "  <span class='refnanny'>__Pyx_GOTREF</span>(__pyx_t_3);\n",
       "  if (<span class='py_c_api'>PyDict_SetItem</span>(__pyx_t_3, __pyx_n_s_output_type, __pyx_n_s_ndarray) &lt; 0) <span class='error_goto'>{__pyx_filename = __pyx_f[0]; __pyx_lineno = 51; __pyx_clineno = __LINE__; goto __pyx_L1_error;}</span>\n",
       "  __pyx_t_6 = <span class='pyx_c_api'>__Pyx_PyObject_Call</span>(__pyx_t_5, __pyx_t_7, __pyx_t_3);<span class='error_goto'> if (unlikely(!__pyx_t_6)) {__pyx_filename = __pyx_f[0]; __pyx_lineno = 51; __pyx_clineno = __LINE__; goto __pyx_L1_error;}</span>\n",
       "  <span class='refnanny'>__Pyx_GOTREF</span>(__pyx_t_6);\n",
       "  <span class='pyx_macro_api'>__Pyx_DECREF</span>(__pyx_t_5); __pyx_t_5 = 0;\n",
       "  <span class='pyx_macro_api'>__Pyx_DECREF</span>(__pyx_t_7); __pyx_t_7 = 0;\n",
       "  <span class='pyx_macro_api'>__Pyx_DECREF</span>(__pyx_t_3); __pyx_t_3 = 0;\n",
       "  if (!(likely(((__pyx_t_6) == Py_None) || likely(<span class='pyx_c_api'>__Pyx_TypeTest</span>(__pyx_t_6, __pyx_ptype_5numpy_ndarray))))) <span class='error_goto'>{__pyx_filename = __pyx_f[0]; __pyx_lineno = 51; __pyx_clineno = __LINE__; goto __pyx_L1_error;}</span>\n",
       "  __pyx_t_8 = ((PyArrayObject *)__pyx_t_6);\n",
       "  {\n",
       "    __Pyx_BufFmt_StackElem __pyx_stack[2];\n",
       "    if (unlikely(<span class='pyx_c_api'>__Pyx_GetBufferAndValidate</span>(&amp;__pyx_pybuffernd_query.rcbuffer-&gt;pybuffer, (PyObject*)__pyx_t_8, &amp;__Pyx_TypeInfo_nn_struct___pyx_t_46_cython_magic_8e21d051df37107da4dfc0d81ba886b3_ijdist, PyBUF_FORMAT| PyBUF_STRIDES, 1, 0, __pyx_stack) == -1)) {\n",
       "      __pyx_v_query = ((PyArrayObject *)Py_None); <span class='pyx_macro_api'>__Pyx_INCREF</span>(Py_None); __pyx_pybuffernd_query.rcbuffer-&gt;pybuffer.buf = NULL;\n",
       "      <span class='error_goto'>{__pyx_filename = __pyx_f[0]; __pyx_lineno = 51; __pyx_clineno = __LINE__; goto __pyx_L1_error;}</span>\n",
       "    } else {__pyx_pybuffernd_query.diminfo[0].strides = __pyx_pybuffernd_query.rcbuffer-&gt;pybuffer.strides[0]; __pyx_pybuffernd_query.diminfo[0].shape = __pyx_pybuffernd_query.rcbuffer-&gt;pybuffer.shape[0];\n",
       "    }\n",
       "  }\n",
       "  __pyx_t_8 = 0;\n",
       "  __pyx_v_query = ((PyArrayObject *)__pyx_t_6);\n",
       "  __pyx_t_6 = 0;\n",
       "</pre><pre class=\"cython line score-0\" onclick='toggleDiv(this)'>+<span class=\"\">52</span>:     <span class=\"k\">for</span> <span class=\"n\">it</span> <span class=\"ow\">in</span> <span class=\"nb\">range</span><span class=\"p\">(</span><span class=\"n\">query</span><span class=\"o\">.</span><span class=\"n\">shape</span><span class=\"p\">[</span><span class=\"mf\">0</span><span class=\"p\">]):</span></pre>\n",
       "<pre class='cython code score-0 '>  __pyx_t_9 = (__pyx_v_query-&gt;dimensions[0]);\n",
       "  for (__pyx_t_10 = 0; __pyx_t_10 &lt; __pyx_t_9; __pyx_t_10+=1) {\n",
       "    __pyx_v_it = __pyx_t_10;\n",
       "</pre><pre class=\"cython line score-5\" onclick='toggleDiv(this)'>+<span class=\"\">53</span>:         <span class=\"n\">i</span> <span class=\"o\">=</span> <span class=\"n\">centerindex</span><span class=\"p\">[</span><span class=\"n\">query</span><span class=\"p\">[</span><span class=\"n\">it</span><span class=\"p\">]</span><span class=\"o\">.</span><span class=\"n\">i</span><span class=\"p\">]</span></pre>\n",
       "<pre class='cython code score-5 '>    __pyx_t_11 = __pyx_v_it;\n",
       "    __pyx_t_12 = (*__Pyx_BufPtrStrided1d(struct __pyx_t_46_cython_magic_8e21d051df37107da4dfc0d81ba886b3_ijdist *, __pyx_pybuffernd_query.rcbuffer-&gt;pybuffer.buf, __pyx_t_11, __pyx_pybuffernd_query.diminfo[0].strides)).i;\n",
       "    __pyx_t_6 = <span class='pyx_c_api'>__Pyx_GetItemInt</span>(__pyx_v_centerindex, __pyx_t_12, __pyx_t_5numpy_intp_t, 1, __Pyx_PyInt_From_Py_intptr_t, 0, 0, 0);<span class='error_goto'> if (unlikely(__pyx_t_6 == NULL)) {__pyx_filename = __pyx_f[0]; __pyx_lineno = 53; __pyx_clineno = __LINE__; goto __pyx_L1_error;}</span>;\n",
       "    <span class='refnanny'>__Pyx_GOTREF</span>(__pyx_t_6);\n",
       "    __pyx_t_13 = <span class='pyx_c_api'>__Pyx_PyInt_As_int</span>(__pyx_t_6);<span class='error_goto'> if (unlikely((__pyx_t_13 == (int)-1) &amp;&amp; PyErr_Occurred())) {__pyx_filename = __pyx_f[0]; __pyx_lineno = 53; __pyx_clineno = __LINE__; goto __pyx_L1_error;}</span>\n",
       "    <span class='pyx_macro_api'>__Pyx_DECREF</span>(__pyx_t_6); __pyx_t_6 = 0;\n",
       "    __pyx_v_i = __pyx_t_13;\n",
       "</pre><pre class=\"cython line score-0\" onclick='toggleDiv(this)'>+<span class=\"\">54</span>:         <span class=\"k\">if</span> <span class=\"n\">i</span><span class=\"o\">==</span><span class=\"n\">query</span><span class=\"p\">[</span><span class=\"n\">it</span><span class=\"p\">]</span><span class=\"o\">.</span><span class=\"n\">j</span><span class=\"p\">:</span></pre>\n",
       "<pre class='cython code score-0 '>    __pyx_t_14 = __pyx_v_it;\n",
       "    __pyx_t_15 = ((__pyx_v_i == (*__Pyx_BufPtrStrided1d(struct __pyx_t_46_cython_magic_8e21d051df37107da4dfc0d81ba886b3_ijdist *, __pyx_pybuffernd_query.rcbuffer-&gt;pybuffer.buf, __pyx_t_14, __pyx_pybuffernd_query.diminfo[0].strides)).j) != 0);\n",
       "    if (__pyx_t_15) {\n",
       "/* … */\n",
       "    }\n",
       "</pre><pre class=\"cython line score-0\" onclick='toggleDiv(this)'>+<span class=\"\">55</span>:             <span class=\"k\">continue</span></pre>\n",
       "<pre class='cython code score-0 '>      goto __pyx_L3_continue;\n",
       "</pre><pre class=\"cython line score-0\" onclick='toggleDiv(this)'>+<span class=\"\">56</span>:         <span class=\"n\">r</span> <span class=\"o\">=</span> <span class=\"nb\">int</span><span class=\"p\">(</span><span class=\"n\">l2r</span> <span class=\"o\">*</span> <span class=\"n\">query</span><span class=\"p\">[</span><span class=\"n\">it</span><span class=\"p\">]</span><span class=\"o\">.</span><span class=\"n\">v</span><span class=\"p\">)</span></pre>\n",
       "<pre class='cython code score-0 '>    __pyx_t_16 = __pyx_v_it;\n",
       "    __pyx_v_r = ((int)(__pyx_v_l2r * (*__Pyx_BufPtrStrided1d(struct __pyx_t_46_cython_magic_8e21d051df37107da4dfc0d81ba886b3_ijdist *, __pyx_pybuffernd_query.rcbuffer-&gt;pybuffer.buf, __pyx_t_16, __pyx_pybuffernd_query.diminfo[0].strides)).v));\n",
       "</pre><pre class=\"cython line score-8\" onclick='toggleDiv(this)'>+<span class=\"\">57</span>:         <span class=\"n\">g</span><span class=\"p\">[</span><span class=\"n\">r</span><span class=\"p\">]</span> <span class=\"o\">+=</span> <span class=\"mf\">1</span></pre>\n",
       "<pre class='cython code score-8 '>    __pyx_t_13 = __pyx_v_r;\n",
       "    __pyx_t_6 = <span class='pyx_c_api'>__Pyx_GetItemInt</span>(__pyx_v_g, __pyx_t_13, int, 1, __Pyx_PyInt_From_int, 0, 0, 0);<span class='error_goto'> if (unlikely(__pyx_t_6 == NULL)) {__pyx_filename = __pyx_f[0]; __pyx_lineno = 57; __pyx_clineno = __LINE__; goto __pyx_L1_error;}</span>;\n",
       "    <span class='refnanny'>__Pyx_GOTREF</span>(__pyx_t_6);\n",
       "    __pyx_t_3 = <span class='pyx_c_api'>__Pyx_PyInt_AddObjC</span>(__pyx_t_6, __pyx_int_1, 1, 1);<span class='error_goto'> if (unlikely(!__pyx_t_3)) {__pyx_filename = __pyx_f[0]; __pyx_lineno = 57; __pyx_clineno = __LINE__; goto __pyx_L1_error;}</span>\n",
       "    <span class='refnanny'>__Pyx_GOTREF</span>(__pyx_t_3);\n",
       "    <span class='pyx_macro_api'>__Pyx_DECREF</span>(__pyx_t_6); __pyx_t_6 = 0;\n",
       "    if (unlikely(<span class='pyx_c_api'>__Pyx_SetItemInt</span>(__pyx_v_g, __pyx_t_13, __pyx_t_3, int, 1, __Pyx_PyInt_From_int, 0, 0, 0) &lt; 0)) <span class='error_goto'>{__pyx_filename = __pyx_f[0]; __pyx_lineno = 57; __pyx_clineno = __LINE__; goto __pyx_L1_error;}</span>\n",
       "    <span class='pyx_macro_api'>__Pyx_DECREF</span>(__pyx_t_3); __pyx_t_3 = 0;\n",
       "    __pyx_L3_continue:;\n",
       "  }\n",
       "</pre><pre class=\"cython line score-0\">&#xA0;<span class=\"\">58</span>:     <span class=\"c\">##spatial indexing</span></pre>\n",
       "<pre class=\"cython line score-0\">&#xA0;<span class=\"\">59</span>:     <span class=\"c\">#tree = KDTree(pos, 12)</span></pre>\n",
       "<pre class=\"cython line score-0\">&#xA0;<span class=\"\">60</span>:     <span class=\"c\">#centertree = KDTree(pos[is_center], 12)</span></pre>\n",
       "<pre class=\"cython line score-0\">&#xA0;<span class=\"\">61</span>:     <span class=\"c\">#res = centertree.query_ball_tree(tree, maxdist)</span></pre>\n",
       "<pre class=\"cython line score-0\">&#xA0;<span class=\"\">62</span>:     <span class=\"c\">#it = 0</span></pre>\n",
       "<pre class=\"cython line score-0\">&#xA0;<span class=\"\">63</span>:     <span class=\"c\">#for i in range(len(pos)):</span></pre>\n",
       "<pre class=\"cython line score-0\">&#xA0;<span class=\"\">64</span>:     <span class=\"c\">#    if not is_center[i]:</span></pre>\n",
       "<pre class=\"cython line score-0\">&#xA0;<span class=\"\">65</span>:     <span class=\"c\">#        continue</span></pre>\n",
       "<pre class=\"cython line score-0\">&#xA0;<span class=\"\">66</span>:     <span class=\"c\">#    for j in res[it]:</span></pre>\n",
       "<pre class=\"cython line score-0\">&#xA0;<span class=\"\">67</span>:     <span class=\"c\">#        if i==j:</span></pre>\n",
       "<pre class=\"cython line score-0\">&#xA0;<span class=\"\">68</span>:     <span class=\"c\">#            continue</span></pre>\n",
       "<pre class=\"cython line score-0\">&#xA0;<span class=\"\">69</span>:     <span class=\"c\">#        rsq = 0</span></pre>\n",
       "<pre class=\"cython line score-0\">&#xA0;<span class=\"\">70</span>:     <span class=\"c\">#        for d in range(pos.shape[1]):</span></pre>\n",
       "<pre class=\"cython line score-0\">&#xA0;<span class=\"\">71</span>:     <span class=\"c\">#            rsq += (pos[j,d] - pos[i,d])**2</span></pre>\n",
       "<pre class=\"cython line score-0\">&#xA0;<span class=\"\">72</span>:     <span class=\"c\">#        rsq *= l2r</span></pre>\n",
       "<pre class=\"cython line score-0\">&#xA0;<span class=\"\">73</span>:     <span class=\"c\">#        #r = rsq2r[int(rsq)]</span></pre>\n",
       "<pre class=\"cython line score-0\">&#xA0;<span class=\"\">74</span>:     <span class=\"c\">#        r = int(sqrt(rsq))</span></pre>\n",
       "<pre class=\"cython line score-0\">&#xA0;<span class=\"\">75</span>:     <span class=\"c\">#        g[r] += 1</span></pre>\n",
       "<pre class=\"cython line score-0\">&#xA0;<span class=\"\">76</span>:     <span class=\"c\">#    it += 1</span></pre>\n",
       "<pre class=\"cython line score-12\" onclick='toggleDiv(this)'>+<span class=\"\">77</span>:     <span class=\"k\">return</span> <span class=\"n\">hq</span><span class=\"p\">,</span> <span class=\"n\">hQ</span><span class=\"p\">,</span> <span class=\"n\">g</span></pre>\n",
       "<pre class='cython code score-12 '>  <span class='pyx_macro_api'>__Pyx_XDECREF</span>(__pyx_r);\n",
       "  __pyx_t_3 = <span class='py_c_api'>PyTuple_New</span>(3);<span class='error_goto'> if (unlikely(!__pyx_t_3)) {__pyx_filename = __pyx_f[0]; __pyx_lineno = 77; __pyx_clineno = __LINE__; goto __pyx_L1_error;}</span>\n",
       "  <span class='refnanny'>__Pyx_GOTREF</span>(__pyx_t_3);\n",
       "  <span class='pyx_macro_api'>__Pyx_INCREF</span>(__pyx_v_hq);\n",
       "  <span class='refnanny'>__Pyx_GIVEREF</span>(__pyx_v_hq);\n",
       "  <span class='py_macro_api'>PyTuple_SET_ITEM</span>(__pyx_t_3, 0, __pyx_v_hq);\n",
       "  <span class='pyx_macro_api'>__Pyx_INCREF</span>(__pyx_v_hQ);\n",
       "  <span class='refnanny'>__Pyx_GIVEREF</span>(__pyx_v_hQ);\n",
       "  <span class='py_macro_api'>PyTuple_SET_ITEM</span>(__pyx_t_3, 1, __pyx_v_hQ);\n",
       "  <span class='pyx_macro_api'>__Pyx_INCREF</span>(__pyx_v_g);\n",
       "  <span class='refnanny'>__Pyx_GIVEREF</span>(__pyx_v_g);\n",
       "  <span class='py_macro_api'>PyTuple_SET_ITEM</span>(__pyx_t_3, 2, __pyx_v_g);\n",
       "  __pyx_r = __pyx_t_3;\n",
       "  __pyx_t_3 = 0;\n",
       "  goto __pyx_L0;\n",
       "</pre></div></body></html>"
      ],
      "text/plain": [
       "<IPython.core.display.HTML object>"
      ]
     },
     "execution_count": 206,
     "metadata": {},
     "output_type": "execute_result"
    }
   ],
   "source": [
    "%%cython --annotate\n",
    "import numpy as np\n",
    "cimport numpy as np\n",
    "cimport cython\n",
    "from libc.math cimport sqrt\n",
    "\n",
    "from scipy.spatial import cKDTree as KDTree\n",
    "#from scipy.spatial cimport cKDTree as KDTree\n",
    "from colloids import particles, boo\n",
    "from colloids.boo import boo_product\n",
    "\n",
    "#_dtype = [('i',np.intp),('j',np.intp),('v',np.float64)]\n",
    "#res_dtype = np.dtype(_dtype, align = True)\n",
    "cdef packed struct ijdist:\n",
    "    np.intp_t i,j\n",
    "    np.float64_t v\n",
    "\n",
    "@cython.boundscheck(False) # turn off bounds-checking for entire function\n",
    "@cython.wraparound(False)  # turn off negative index wrapping for entire function\n",
    "@cython.cdivision(True) # turn off division by zero checking for entire function\n",
    "def cython_gG_l(\n",
    "    np.ndarray[np.float64_t, ndim=2] pos, \n",
    "    qlms, Qlms, \n",
    "    is_center, \n",
    "    int Nbins, float maxdist):\n",
    "    \"\"\"Spatial correlation of the qlms and the Qlms (non normalized.\n",
    "    For each particle tagged as is_center, do the cross product between their qlm, their Qlm and count, \n",
    "    then bin each quantity with respect to distance. \n",
    "    The two first sums need to be normalised by the last one.\n",
    "    \n",
    "     - pos is a Nxd array of coordinates, with d the dimension of space\n",
    "     - qlm is a Nx(2l+1) array of boo coordinates for l-fold symmetry\n",
    "     - Qlm is the coarse-grained version of qlm\n",
    "     - is_center is a N array of booleans. For example all particles further away than maxdist from any edge of the box.\n",
    "     - Nbins is the number of bins along r\n",
    "     - maxdist is the maximum distance considered\"\"\"\n",
    "    cdef int i,it,j,r\n",
    "    cdef float rsq\n",
    "    assert len(pos) == len(qlms)\n",
    "    assert len(qlms) == len(Qlms)\n",
    "    assert len(is_center) == len(pos)\n",
    "    #cdef np.ndarray[np.int64_t, ndim=1]  rsq2r = np.sqrt(np.arange(Nbins**2)).astype(int)\n",
    "    cdef float l2r = (Nbins/maxdist)#**2\n",
    "    #maxsq = float(maxdist**2)\n",
    "    hQ = np.zeros(Nbins)\n",
    "    hq = np.zeros(Nbins)\n",
    "    g = np.zeros(Nbins, int)\n",
    "    #spatial indexing\n",
    "    tree = KDTree(pos, 12)\n",
    "    centertree = KDTree(pos[is_center], 12)\n",
    "    centerindex = np.where(is_center)[0]\n",
    "    cdef np.ndarray[ijdist, ndim=1] query = centertree.sparse_distance_matrix(tree, maxdist, output_type='ndarray')\n",
    "    for it in range(query.shape[0]):\n",
    "        i = centerindex[query[it].i]\n",
    "        if i==query[it].j:\n",
    "            continue\n",
    "        r = int(l2r * query[it].v)\n",
    "        g[r] += 1\n",
    "    return hq, hQ, g"
   ]
  },
  {
   "cell_type": "code",
   "execution_count": 208,
   "metadata": {
    "collapsed": false
   },
   "outputs": [
    {
     "name": "stdout",
     "output_type": "stream",
     "text": [
      "1 loops, best of 3: 583 ms per loop\n"
     ]
    }
   ],
   "source": [
    "%timeit cython_gG_l(pos, qlm, Qlm, is_center, Nbins=250, maxdist=30.0)"
   ]
  },
  {
   "cell_type": "code",
   "execution_count": 207,
   "metadata": {
    "collapsed": false,
    "scrolled": true
   },
   "outputs": [
    {
     "data": {
      "text/plain": [
       "(array([ 0.,  0.,  0.,  0.,  0.,  0.,  0.,  0.,  0.,  0.,  0.,  0.,  0.,\n",
       "         0.,  0.,  0.,  0.,  0.,  0.,  0.,  0.,  0.,  0.,  0.,  0.,  0.,\n",
       "         0.,  0.,  0.,  0.,  0.,  0.,  0.,  0.,  0.,  0.,  0.,  0.,  0.,\n",
       "         0.,  0.,  0.,  0.,  0.,  0.,  0.,  0.,  0.,  0.,  0.,  0.,  0.,\n",
       "         0.,  0.,  0.,  0.,  0.,  0.,  0.,  0.,  0.,  0.,  0.,  0.,  0.,\n",
       "         0.,  0.,  0.,  0.,  0.,  0.,  0.,  0.,  0.,  0.,  0.,  0.,  0.,\n",
       "         0.,  0.,  0.,  0.,  0.,  0.,  0.,  0.,  0.,  0.,  0.,  0.,  0.,\n",
       "         0.,  0.,  0.,  0.,  0.,  0.,  0.,  0.,  0.,  0.,  0.,  0.,  0.,\n",
       "         0.,  0.,  0.,  0.,  0.,  0.,  0.,  0.,  0.,  0.,  0.,  0.,  0.,\n",
       "         0.,  0.,  0.,  0.,  0.,  0.,  0.,  0.,  0.,  0.,  0.,  0.,  0.,\n",
       "         0.,  0.,  0.,  0.,  0.,  0.,  0.,  0.,  0.,  0.,  0.,  0.,  0.,\n",
       "         0.,  0.,  0.,  0.,  0.,  0.,  0.,  0.,  0.,  0.,  0.,  0.,  0.,\n",
       "         0.,  0.,  0.,  0.,  0.,  0.,  0.,  0.,  0.,  0.,  0.,  0.,  0.,\n",
       "         0.,  0.,  0.,  0.,  0.,  0.,  0.,  0.,  0.,  0.,  0.,  0.,  0.,\n",
       "         0.,  0.,  0.,  0.,  0.,  0.,  0.,  0.,  0.,  0.,  0.,  0.,  0.,\n",
       "         0.,  0.,  0.,  0.,  0.,  0.,  0.,  0.,  0.,  0.,  0.,  0.,  0.,\n",
       "         0.,  0.,  0.,  0.,  0.,  0.,  0.,  0.,  0.,  0.,  0.,  0.,  0.,\n",
       "         0.,  0.,  0.,  0.,  0.,  0.,  0.,  0.,  0.,  0.,  0.,  0.,  0.,\n",
       "         0.,  0.,  0.,  0.,  0.,  0.,  0.,  0.,  0.,  0.,  0.,  0.,  0.,\n",
       "         0.,  0.,  0.]),\n",
       " array([ 0.,  0.,  0.,  0.,  0.,  0.,  0.,  0.,  0.,  0.,  0.,  0.,  0.,\n",
       "         0.,  0.,  0.,  0.,  0.,  0.,  0.,  0.,  0.,  0.,  0.,  0.,  0.,\n",
       "         0.,  0.,  0.,  0.,  0.,  0.,  0.,  0.,  0.,  0.,  0.,  0.,  0.,\n",
       "         0.,  0.,  0.,  0.,  0.,  0.,  0.,  0.,  0.,  0.,  0.,  0.,  0.,\n",
       "         0.,  0.,  0.,  0.,  0.,  0.,  0.,  0.,  0.,  0.,  0.,  0.,  0.,\n",
       "         0.,  0.,  0.,  0.,  0.,  0.,  0.,  0.,  0.,  0.,  0.,  0.,  0.,\n",
       "         0.,  0.,  0.,  0.,  0.,  0.,  0.,  0.,  0.,  0.,  0.,  0.,  0.,\n",
       "         0.,  0.,  0.,  0.,  0.,  0.,  0.,  0.,  0.,  0.,  0.,  0.,  0.,\n",
       "         0.,  0.,  0.,  0.,  0.,  0.,  0.,  0.,  0.,  0.,  0.,  0.,  0.,\n",
       "         0.,  0.,  0.,  0.,  0.,  0.,  0.,  0.,  0.,  0.,  0.,  0.,  0.,\n",
       "         0.,  0.,  0.,  0.,  0.,  0.,  0.,  0.,  0.,  0.,  0.,  0.,  0.,\n",
       "         0.,  0.,  0.,  0.,  0.,  0.,  0.,  0.,  0.,  0.,  0.,  0.,  0.,\n",
       "         0.,  0.,  0.,  0.,  0.,  0.,  0.,  0.,  0.,  0.,  0.,  0.,  0.,\n",
       "         0.,  0.,  0.,  0.,  0.,  0.,  0.,  0.,  0.,  0.,  0.,  0.,  0.,\n",
       "         0.,  0.,  0.,  0.,  0.,  0.,  0.,  0.,  0.,  0.,  0.,  0.,  0.,\n",
       "         0.,  0.,  0.,  0.,  0.,  0.,  0.,  0.,  0.,  0.,  0.,  0.,  0.,\n",
       "         0.,  0.,  0.,  0.,  0.,  0.,  0.,  0.,  0.,  0.,  0.,  0.,  0.,\n",
       "         0.,  0.,  0.,  0.,  0.,  0.,  0.,  0.,  0.,  0.,  0.,  0.,  0.,\n",
       "         0.,  0.,  0.,  0.,  0.,  0.,  0.,  0.,  0.,  0.,  0.,  0.,  0.,\n",
       "         0.,  0.,  0.]),\n",
       " array([    0,     0,     0,     0,     0,     0,     0,     0,     0,\n",
       "            0,     0,     0,     0,     0,     0,     0,     0,     0,\n",
       "            0,     0,     2,     0,     0,     0,     0,     0,     0,\n",
       "            0,     0,     0,     0,     0,     0,     2,     2,     2,\n",
       "            0,     2,     2,     2,     2,     4,     5,     0,     2,\n",
       "            1,     4,     2,     0,     4,     2,     0,     6,     4,\n",
       "            4,     0,     6,     0,     2,     4,     2,     4,     0,\n",
       "            2,     2,     2,     6,     6,    13,    20,     9,    19,\n",
       "           32,    55,    98,   105,   242,   538,  1094,  2238,  4396,\n",
       "         7058, 10148, 12250, 12568, 11766,  9001,  6466,  4165,  2396,\n",
       "         1315,   723,   550,   412,   318,   341,   346,   411,   406,\n",
       "          416,   472,   526,   572,   662,   649,   739,   811,   777,\n",
       "          795,   873,  1027,  1042,  1090,  1087,  1148,  1274,  1360,\n",
       "         1380,  1414,  1461,  1629,  1724,  1623,  1628,  1742,  1844,\n",
       "         1963,  1941,  2096,  2256,  2397,  2304,  2544,  2802,  2935,\n",
       "         3340,  3275,  3651,  3855,  4479,  4741,  4846,  5184,  5428,\n",
       "         5554,  5364,  5350,  5177,  4787,  4941,  4713,  4981,  4882,\n",
       "         4926,  5255,  5281,  5672,  5691,  6020,  6127,  6195,  6350,\n",
       "         6646,  6404,  6474,  6284,  6021,  5363,  4946,  4662,  4226,\n",
       "         4111,  3780,  3737,  3829,  3600,  3636,  3822,  4051,  3915,\n",
       "         4190,  4228,  4306,  4428,  4699,  4718,  4875,  4962,  5062,\n",
       "         5350,  5529,  5579,  5824,  6054,  6172,  6015,  6428,  6640,\n",
       "         6782,  6892,  6991,  7372,  7579,  7706,  7669,  7940,  8174,\n",
       "         8272,  8502,  8657,  8860,  9119,  9236,  9122,  9525,  9354,\n",
       "         9950,  9654,  9837, 10142, 10095,  9844, 10062, 10070, 10036,\n",
       "        10030, 10048, 10093,  9908,  9865,  9932,  9705,  9619,  9989,\n",
       "        10102, 10102, 10144, 10142, 10061, 10120, 10076, 10189, 10421,\n",
       "        10225, 10060, 10240, 10010, 10280, 10367, 10399]))"
      ]
     },
     "execution_count": 207,
     "metadata": {},
     "output_type": "execute_result"
    }
   ],
   "source": [
    "cython_gG_l(pos, qlm, Qlm, is_center, Nbins=250, maxdist=30.0)"
   ]
  },
  {
   "cell_type": "code",
   "execution_count": 113,
   "metadata": {
    "collapsed": false
   },
   "outputs": [
    {
     "data": {
      "image/png": "[encoded data removed]",
      "text/plain": [
       "<matplotlib.figure.Figure at 0x7f7a67fbc810>"
      ]
     },
     "metadata": {},
     "output_type": "display_data"
    }
   ],
   "source": [
    "%%heat\n",
    "import os\n",
    "import numpy as np\n",
    "from scipy.spatial import cKDTree as KDTree\n",
    "from colloids import particles, boo\n",
    "from colloids.boo import boo_product\n",
    "\n",
    "def gG_l(pos, qlms, is_center, Nbins, maxdist):\n",
    "    \"\"\"Spatial correlation of the qlms and the Qlms (non normalized.\n",
    "    For each particle tagged as is_center, do the cross product between their qlm, their Qlm and count, \n",
    "    then bin each quantity with respect to distance. \n",
    "    The two first sums need to be normalised by the last one.\n",
    "    \n",
    "     - pos is a Nxd array of coordinates, with d the dimension of space\n",
    "     - qlm is a Nx(2l+1) array of boo coordinates for l-fold symmetry\n",
    "     - Qlm is the coarse-grained version of qlm\n",
    "     - is_center is a N array of booleans. For example all particles further away than maxdist from any edge of the box.\n",
    "     - Nbins is the number of bins along r\n",
    "     - maxdist is the maximum distance considered\"\"\"\n",
    "    assert len(pos) == len(qlms)\n",
    "    #assert len(qlms) == len(Qlms)\n",
    "    assert len(is_center) == len(pos)\n",
    "    rsq2r = np.sqrt(np.arange(Nbins**2)).astype(int)\n",
    "    l2r = float((Nbins/maxdist)**2)\n",
    "    #maxsq = float(maxdist**2)\n",
    "    #hQ = np.zeros(Nbins)\n",
    "    hq = np.zeros(Nbins)\n",
    "    g = np.zeros(Nbins, int)\n",
    "    #spatial indexing\n",
    "    tree = KDTree(pos, 12)\n",
    "    for i in np.where(is_center)[0]:\n",
    "        js = np.array(tree.query_ball_point(pos[i], maxdist))\n",
    "        js = js[js!=i]\n",
    "        #rs = np.sqrt(np.sum((pos[js] - pos[i])**2, -1) * l2r)\n",
    "        rsqs = np.sum((pos[js] - pos[i])**2, -1) * l2r\n",
    "        rs = rsq2r[rsqs.astype(int)]\n",
    "        pqs = boo_product(qlms[i][None,:], qlms[js])\n",
    "        #pQs = boo_product(Qlms[i][None,:], Qlms[js])\n",
    "        np.add.at(g, rs.astype(int), 1)\n",
    "        np.add.at(hq, rs.astype(int), pqs)\n",
    "        #np.add.at(hQ, rs.astype(int), pQs)\n",
    "    return hq, g\n",
    "\n",
    "path = '/data/mleocmach/Documents/Tsurusawa/0_Data_retracked/3_DenseGel/163A/2_ageing/'\n",
    "pos = np.loadtxt(os.path.join(path, '163A_1415_ageing_t000.dat'), skiprows=2)\n",
    "bonds = np.loadtxt(os.path.join(path, '163A_1415_ageing_t000.bonds'), dtype=int)\n",
    "inside = np.min((pos-pos.min(0)>14) & (pos.max()-pos>14), -1)\n",
    "ngbs = particles.bonds2ngbs(bonds, len(pos))\n",
    "qlm = boo.bonds2qlm(pos, bonds)\n",
    "maxdist = 30.0\n",
    "bounds = np.vstack((pos[inside].min(0)+maxdist, pos[inside].max(0)-maxdist))\n",
    "is_center = (pos>bounds[0]).min(1) & (pos<bounds[1]).min(1)\n",
    "hq, g = gG_l(pos, qlm, is_center, Nbins=250, maxdist=30.0)"
   ]
  },
  {
   "cell_type": "code",
   "execution_count": null,
   "metadata": {
    "collapsed": true
   },
   "outputs": [],
   "source": []
  }
 ],
 "metadata": {
  "kernelspec": {
   "display_name": "Python 2",
   "language": "python",
   "name": "python2"
  },
  "language_info": {
   "codemirror_mode": {
    "name": "ipython",
    "version": 2
   },
   "file_extension": ".py",
   "mimetype": "text/x-python",
   "name": "python",
   "nbconvert_exporter": "python",
   "pygments_lexer": "ipython2",
   "version": "2.7.11"
  }
 },
 "nbformat": 4,
 "nbformat_minor": 1
}
