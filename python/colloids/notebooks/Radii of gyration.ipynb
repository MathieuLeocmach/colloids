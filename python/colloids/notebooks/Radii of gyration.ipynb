{
 "metadata": {
  "name": ""
 },
 "nbformat": 3,
 "nbformat_minor": 0,
 "worksheets": [
  {
   "cells": [
    {
     "cell_type": "code",
     "collapsed": false,
     "input": [
      "from matplotlib.pyplot import *\n",
      "%matplotlib inline\n",
      "from scipy.optimize import leastsq"
     ],
     "language": "python",
     "metadata": {},
     "outputs": [],
     "prompt_number": 1
    },
    {
     "cell_type": "markdown",
     "metadata": {},
     "source": [
      "Molecular weights and corresponding radii of gyration taken from the litterature."
     ]
    },
    {
     "cell_type": "code",
     "collapsed": false,
     "input": [
      "Mws = np.array([69.2e3, 2e5, 212.4e3, 333e3, 681e3, 900e3, 1.95e6, 11.4e6, 13.2e6, 21e6, 31e6])\n",
      "Rgs = np.array([10.0, 12.5, 0.02*660, 15, 33.0, 41, 35, 1330*0.14, 145.4, 180, 220])\n",
      "scatter(Mws, Rgs)\n",
      "xscale('log')\n",
      "yscale('log')\n",
      "#Flory exponent\n",
      "a = np.exp(leastsq(\n",
      "    lambda p, x, y: p[0] + 3/5.*x-y, \n",
      "    [1], \n",
      "    args=(np.log(Mws), np.log(Rgs))\n",
      "    )[0][0])\n",
      "X = 10**np.arange(4,9)\n",
      "plot(X, a*X**(3/5.))\n",
      "#free exponent\n",
      "b, nu = leastsq(\n",
      "    lambda p, x, y: p[0] + p[1]*x-y, \n",
      "    [1, 3/5.], \n",
      "    args=(np.log(Mws), np.log(Rgs))\n",
      "    )[0]\n",
      "b = np.exp(b)\n",
      "plot(X, b*X**nu)"
     ],
     "language": "python",
     "metadata": {},
     "outputs": [
      {
       "metadata": {},
       "output_type": "pyout",
       "prompt_number": 3,
       "text": [
        "[<matplotlib.lines.Line2D at 0x7fa0cf3de6d0>]"
       ]
      },
      {
       "metadata": {},
       "output_type": "display_data",
       "png": "[encoded data removed]",
       "text": [
        "<matplotlib.figure.Figure at 0x7fa0cf5d60d0>"
       ]
      }
     ],
     "prompt_number": 3
    },
    {
     "cell_type": "markdown",
     "metadata": {},
     "source": [
      "Get your estimates"
     ]
    },
    {
     "cell_type": "code",
     "collapsed": false,
     "input": [
      "myMws = np.array([3.8e6, 8.4e6])\n",
      "print a * myMws**(3/5.)\n",
      "print b * myMws**nu"
     ],
     "language": "python",
     "metadata": {},
     "outputs": [
      {
       "output_type": "stream",
       "stream": "stdout",
       "text": [
        "[  76.02022643  122.35636673]\n",
        "[  73.15534279  113.84234119]\n"
       ]
      }
     ],
     "prompt_number": 4
    },
    {
     "cell_type": "code",
     "collapsed": false,
     "input": [],
     "language": "python",
     "metadata": {},
     "outputs": []
    }
   ],
   "metadata": {}
  }
 ]
}